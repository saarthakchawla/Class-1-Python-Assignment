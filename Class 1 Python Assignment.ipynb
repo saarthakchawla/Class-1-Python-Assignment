{
 "cells": [
  {
   "cell_type": "markdown",
   "id": "47ceb074",
   "metadata": {},
   "source": [
    "# # Variable based questions"
   ]
  },
  {
   "cell_type": "markdown",
   "id": "0daef971",
   "metadata": {},
   "source": [
    "### 1. Declare two variables, `x` and `y`, and assign them integer values. Swap the values of these variables without using any temporary variable."
   ]
  },
  {
   "cell_type": "code",
   "execution_count": 2,
   "id": "6f959a7e",
   "metadata": {},
   "outputs": [
    {
     "name": "stdout",
     "output_type": "stream",
     "text": [
      "Swapped value of x is 4, Swapped value of y is 3\n"
     ]
    }
   ],
   "source": [
    "# Declaring variables\n",
    "x = 3\n",
    "y = 4\n",
    "\n",
    "# Add y to x and store the result back in x\n",
    "x = x+y\n",
    "# Subtract y from x and store the result back in y. This effectively stores the value of x in y.\n",
    "y = x-y\n",
    "# Subtract y from x again. This restores the original value of x.\n",
    "x = x-y\n",
    "\n",
    "#Printing swapped value of x and y\n",
    "print(f\"Swapped value of x is {x}, Swapped value of y is {y}\")"
   ]
  },
  {
   "cell_type": "markdown",
   "id": "1aa2ec0c",
   "metadata": {},
   "source": [
    "### 2. Create a program that calculates the area of a rectangle. Take the length and width as inputs from the user and store them in variables. Calculate and display the area."
   ]
  },
  {
   "cell_type": "code",
   "execution_count": 3,
   "id": "adb56277",
   "metadata": {},
   "outputs": [
    {
     "name": "stdout",
     "output_type": "stream",
     "text": [
      "Enter lenght of Rectangle: 2\n",
      "Enter width of Rectangle: 4\n",
      "Area of Rectangle with lenght, 2 and width, 4 is 8 unit sq.\n"
     ]
    }
   ],
   "source": [
    "# Taking lenght and width as input from user\n",
    "lenght = int(input(\"Enter lenght of Rectangle: \"))\n",
    "width = int(input(\"Enter width of Rectangle: \"))\n",
    "\n",
    "# Calculating area\n",
    "area = lenght*width\n",
    "\n",
    "# Printing Results\n",
    "print(f\"Area of Rectangle with lenght, {lenght} and width, {width} is {area} unit sq.\")"
   ]
  },
  {
   "cell_type": "markdown",
   "id": "77e67c4e",
   "metadata": {},
   "source": [
    "### 3. Write a Python program that converts temperatures from Celsius to Fahrenheit. Take the temperature in Celsius as input, store it in a variable, convert it to Fahrenheit, and display the result.\n"
   ]
  },
  {
   "cell_type": "code",
   "execution_count": 5,
   "id": "3e394e22",
   "metadata": {},
   "outputs": [
    {
     "name": "stdout",
     "output_type": "stream",
     "text": [
      "Enter temperature in Celsius: 30\n",
      "The temperature in Fahrenheit is 86.0\n"
     ]
    }
   ],
   "source": [
    "# Getting temperature in Celsius\n",
    "temp = float(input(\"Enter temperature in Celsius: \"))\n",
    "\n",
    "# Convert the temperature to Fahrenheit\n",
    "fahrenheit = temp*1.8 + 32\n",
    "\n",
    "# Printing the temperature in Fahrenheit\n",
    "print(f\"The temperature in Fahrenheit is {fahrenheit}\")"
   ]
  },
  {
   "cell_type": "markdown",
   "id": "5e0928c7",
   "metadata": {},
   "source": [
    "# # String based questions"
   ]
  },
  {
   "cell_type": "markdown",
   "id": "d1716591",
   "metadata": {},
   "source": [
    "### 1. Write a Python program that takes a string as input and prints the length of the string."
   ]
  },
  {
   "cell_type": "code",
   "execution_count": 7,
   "id": "0160538f",
   "metadata": {},
   "outputs": [
    {
     "name": "stdout",
     "output_type": "stream",
     "text": [
      "Enter a string: Sudhanshu Sir\n",
      "Lenght of string 'Sudhanshu Sir' is 13\n"
     ]
    }
   ],
   "source": [
    "# Taking a string input\n",
    "a = input(\"Enter a string: \")\n",
    "\n",
    "# Using len() function to find the lenght of string \n",
    "lenght_of_a = len(a)\n",
    "\n",
    "# printing the lenght of input string\n",
    "print(f\"Lenght of string '{a}' is {lenght_of_a}\")"
   ]
  },
  {
   "cell_type": "markdown",
   "id": "e595ad4f",
   "metadata": {},
   "source": [
    "### 2. Create a program that takes a sentence from the user and counts the number of vowels (a, e, i, o, u) in the string."
   ]
  },
  {
   "cell_type": "code",
   "execution_count": 11,
   "id": "afec8f29",
   "metadata": {},
   "outputs": [
    {
     "name": "stdout",
     "output_type": "stream",
     "text": [
      "Enter a string: Python is fun to learn and code\n",
      "The number of vowels in string are 9\n"
     ]
    }
   ],
   "source": [
    "# Taking input string from the user\n",
    "string = input(\"Enter a string: \")\n",
    "\n",
    "# Counting number of vowels in string\n",
    "\n",
    "vowels = 0 # Intially No. of vowels are 0.\n",
    "\n",
    "for char in string:\n",
    "    if char in \"aeiouAEIOU\":\n",
    "        vowels += 1\n",
    "\n",
    "# Print the number of vowels\n",
    "print(f\"The number of vowels in string are {vowels}\")"
   ]
  },
  {
   "cell_type": "markdown",
   "id": "99ed25a5",
   "metadata": {},
   "source": [
    "### 3. Given a string, reverse the order of characters using string slicing and print the reversed string."
   ]
  },
  {
   "cell_type": "code",
   "execution_count": 12,
   "id": "cfd9cf06",
   "metadata": {},
   "outputs": [
    {
     "name": "stdout",
     "output_type": "stream",
     "text": [
      "Enter a string: PW Skills\n",
      "The reversed string is: sllikS WP\n"
     ]
    }
   ],
   "source": [
    "# Taking string input from the user\n",
    "string = input(\"Enter a string: \")\n",
    "\n",
    "# Reversing the string using string slicing\n",
    "reversed_string = string[::-1]\n",
    "\n",
    "# Printing the reversed string\n",
    "print(\"The reversed string is:\", reversed_string)"
   ]
  },
  {
   "cell_type": "markdown",
   "id": "86b04563",
   "metadata": {},
   "source": [
    "### 4. Write a program that takes a string as input and checks if it is a palindrome (reads the same forwards and backwards)."
   ]
  },
  {
   "cell_type": "code",
   "execution_count": 15,
   "id": "e22d4de9",
   "metadata": {},
   "outputs": [
    {
     "name": "stdout",
     "output_type": "stream",
     "text": [
      "Enter a string: madam\n",
      "The string is a palindrome.\n"
     ]
    }
   ],
   "source": [
    "# Taking string input from the user\n",
    "string = input(\"Enter a string: \")\n",
    "\n",
    "# Checking if the string is a palindrome and printing result\n",
    "if string == string[::-1]:\n",
    "    print(\"The string is a palindrome.\")\n",
    "else:\n",
    "    print(\"The string is not a palindrome.\")\n"
   ]
  },
  {
   "cell_type": "markdown",
   "id": "69e7f6f4",
   "metadata": {},
   "source": [
    "### 5. Create a program that takes a string as input and removes all the spaces from it. Print the modified string without spaces."
   ]
  },
  {
   "cell_type": "code",
   "execution_count": 16,
   "id": "e95f6723",
   "metadata": {},
   "outputs": [
    {
     "name": "stdout",
     "output_type": "stream",
     "text": [
      "Enter a string: pw skills\n",
      "String without spaces is 'pwskills'\n"
     ]
    }
   ],
   "source": [
    "# Taking string input from the user\n",
    "string = input(\"Enter a string: \")\n",
    "\n",
    "# Removing spaces\n",
    "modified_string = string.replace(\" \", \"\")\n",
    "\n",
    "#Printing required output\n",
    "print(f\"String without spaces is '{modified_string}'\")"
   ]
  }
 ],
 "metadata": {
  "kernelspec": {
   "display_name": "Python 3 (ipykernel)",
   "language": "python",
   "name": "python3"
  },
  "language_info": {
   "codemirror_mode": {
    "name": "ipython",
    "version": 3
   },
   "file_extension": ".py",
   "mimetype": "text/x-python",
   "name": "python",
   "nbconvert_exporter": "python",
   "pygments_lexer": "ipython3",
   "version": "3.11.3"
  }
 },
 "nbformat": 4,
 "nbformat_minor": 5
}
