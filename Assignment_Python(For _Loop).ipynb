{
 "cells": [
  {
   "cell_type": "markdown",
   "id": "99f6aec9",
   "metadata": {},
   "source": [
    "# Basic Level Questions"
   ]
  },
  {
   "cell_type": "markdown",
   "id": "eacea3b0",
   "metadata": {},
   "source": [
    "##### 1. Write a Python program to print the numbers from 1 to 10 using a `for` loop.\n"
   ]
  },
  {
   "cell_type": "code",
   "execution_count": 1,
   "id": "5b55c75d",
   "metadata": {},
   "outputs": [
    {
     "name": "stdout",
     "output_type": "stream",
     "text": [
      "1\n",
      "2\n",
      "3\n",
      "4\n",
      "5\n",
      "6\n",
      "7\n",
      "8\n",
      "9\n",
      "10\n"
     ]
    }
   ],
   "source": [
    "for i in range(1,11):\n",
    "    print(i)"
   ]
  },
  {
   "cell_type": "markdown",
   "id": "c0f3441a",
   "metadata": {},
   "source": [
    "\n",
    "##### 2. Create a program that calculates the sum of all numbers in a list using a `for` loop."
   ]
  },
  {
   "cell_type": "code",
   "execution_count": 2,
   "id": "d5a4b804",
   "metadata": {},
   "outputs": [
    {
     "name": "stdout",
     "output_type": "stream",
     "text": [
      "Sum of all elements in the list is 20\n"
     ]
    }
   ],
   "source": [
    "list1 = [2,3,5,7,3]\n",
    "sum = 0\n",
    "for i in list1:\n",
    "    sum = sum+i\n",
    "\n",
    "print(f\"Sum of all elements in the list is {sum}\")"
   ]
  },
  {
   "cell_type": "markdown",
   "id": "f1455130",
   "metadata": {},
   "source": [
    "##### 3. Write a program to print the characters of a string in reverse order using a `for` loop.\n"
   ]
  },
  {
   "cell_type": "code",
   "execution_count": 5,
   "id": "974cfa09",
   "metadata": {},
   "outputs": [
    {
     "name": "stdout",
     "output_type": "stream",
     "text": [
      "Enter a string: saar\n",
      "raas\n"
     ]
    }
   ],
   "source": [
    "string = input(\"Enter a string: \")\n",
    "\n",
    "for char in reversed(string):\n",
    "    print(char, end='')\n",
    "    \n",
    "print()"
   ]
  },
  {
   "cell_type": "markdown",
   "id": "bb0dba93",
   "metadata": {},
   "source": [
    "##### 4. Develop a program that finds the factorial of a given number using a `for` loop."
   ]
  },
  {
   "cell_type": "code",
   "execution_count": 6,
   "id": "4b06fff7",
   "metadata": {},
   "outputs": [
    {
     "name": "stdout",
     "output_type": "stream",
     "text": [
      "Enter an interger: 5\n",
      "Factorial of 5 is, 120\n"
     ]
    }
   ],
   "source": [
    "num = int(input(\"Enter an interger: \"))\n",
    "\n",
    "factorial = 1\n",
    "\n",
    "for i in range(1, num+1):\n",
    "    factorial *= i\n",
    "    \n",
    "print(f\"Factorial of {num} is, {factorial}\")"
   ]
  },
  {
   "cell_type": "markdown",
   "id": "4fb1ded1",
   "metadata": {},
   "source": [
    "##### 5. Create a program to print the multiplication table of a given number using a `for` loop.\n"
   ]
  },
  {
   "cell_type": "code",
   "execution_count": 10,
   "id": "d8c8af6f",
   "metadata": {},
   "outputs": [
    {
     "name": "stdout",
     "output_type": "stream",
     "text": [
      "Enter an interger: 5\n",
      "Multiplication table of 5 goes as follow: \n",
      "5*1 = 5\n",
      "5*2 = 10\n",
      "5*3 = 15\n",
      "5*4 = 20\n",
      "5*5 = 25\n",
      "5*6 = 30\n",
      "5*7 = 35\n",
      "5*8 = 40\n",
      "5*9 = 45\n",
      "5*10 = 50\n"
     ]
    }
   ],
   "source": [
    "num = int(input(\"Enter an interger: \"))\n",
    "print(f\"Multiplication table of {num} goes as follow: \")\n",
    "\n",
    "for i in range(1,11):\n",
    "    print(f\"{num}*{i} = {num*i}\")"
   ]
  },
  {
   "cell_type": "markdown",
   "id": "605a2bdd",
   "metadata": {},
   "source": [
    "##### 6. Write a program that counts the number of even and odd numbers in a list using a `for` loop.\n"
   ]
  },
  {
   "cell_type": "code",
   "execution_count": 18,
   "id": "50e24626",
   "metadata": {},
   "outputs": [
    {
     "name": "stdout",
     "output_type": "stream",
     "text": [
      "\n",
      "Number of odd elements in list are 6\n",
      "Number of even elements in list are 4\n"
     ]
    }
   ],
   "source": [
    "list2 = [2,3,4,6,7,9,3,54,0,3,89]\n",
    "odd = []\n",
    "even = []\n",
    "\n",
    "for i in list2:\n",
    "    if i==0:\n",
    "        print()\n",
    "    elif i%2==0:\n",
    "        even.append(i)\n",
    "    else:\n",
    "        odd.append(i)\n",
    "        \n",
    "print(f\"Number of odd elements in list are {len(odd)}\")\n",
    "print(f\"Number of even elements in list are {len(even)}\")"
   ]
  },
  {
   "cell_type": "markdown",
   "id": "9b8a9496",
   "metadata": {},
   "source": [
    "##### 7. Develop a program that prints the squares of numbers from 1 to 5 using a `for` loop.\n"
   ]
  },
  {
   "cell_type": "code",
   "execution_count": 19,
   "id": "fcee4853",
   "metadata": {},
   "outputs": [
    {
     "name": "stdout",
     "output_type": "stream",
     "text": [
      "Sqaure of 1 is 1\n",
      "Sqaure of 2 is 4\n",
      "Sqaure of 3 is 9\n",
      "Sqaure of 4 is 16\n",
      "Sqaure of 5 is 25\n"
     ]
    }
   ],
   "source": [
    "for i in range(1,6):\n",
    "    print(f\"Sqaure of {i} is {i*i}\")"
   ]
  },
  {
   "cell_type": "markdown",
   "id": "dee719fd",
   "metadata": {},
   "source": [
    "##### 8. Create a program to find the length of a string without using the `len()` function.\n"
   ]
  },
  {
   "cell_type": "code",
   "execution_count": 20,
   "id": "dff8ead5",
   "metadata": {},
   "outputs": [
    {
     "name": "stdout",
     "output_type": "stream",
     "text": [
      "Enter a string: saar\n",
      "Lenght of string 'saar' is 4\n"
     ]
    }
   ],
   "source": [
    "string = input(\"Enter a string: \")\n",
    "lenght = 0\n",
    "\n",
    "for i in string:\n",
    "    lenght += 1\n",
    "    \n",
    "print(f\"Lenght of string '{string}' is {lenght}\")"
   ]
  },
  {
   "cell_type": "markdown",
   "id": "69f744c9",
   "metadata": {},
   "source": [
    "##### 9. Write a program that calculates the average of a list of numbers using a `for` loop.\n"
   ]
  },
  {
   "cell_type": "code",
   "execution_count": 23,
   "id": "805c5675",
   "metadata": {},
   "outputs": [
    {
     "name": "stdout",
     "output_type": "stream",
     "text": [
      "Average of numbers in [2, 3, 4, 6, 7, 9, 3, 54, 0, 3, 89] is, 16.363636363636363\n"
     ]
    }
   ],
   "source": [
    "list2 = [2,3,4,6,7,9,3,54,0,3,89]\n",
    "sum = 0\n",
    "\n",
    "for i in list2:\n",
    "    sum += i\n",
    "    \n",
    "print(f\"Average of numbers in {list2} is, {sum/len(list2)}\")"
   ]
  },
  {
   "cell_type": "markdown",
   "id": "85b0fea0",
   "metadata": {},
   "source": [
    "##### 10. Develop a program that prints the first `n` Fibonacci numbers using a `for` loop.\n"
   ]
  },
  {
   "cell_type": "code",
   "execution_count": 26,
   "id": "a18788f3",
   "metadata": {},
   "outputs": [
    {
     "name": "stdout",
     "output_type": "stream",
     "text": [
      "Enter the number of Fibonacci numbers to generate: 7\n",
      "The first 7 Fibonacci numbers are:\n",
      "0 1 1 2 3 5 8 "
     ]
    }
   ],
   "source": [
    "n = int(input(\"Enter the number of Fibonacci numbers to generate: \"))\n",
    "\n",
    "fibonacci_sequence = [0, 1]\n",
    "\n",
    "for i in range(1, n-1):\n",
    "    next_number = fibonacci_sequence[-1] + fibonacci_sequence[-2]\n",
    "    fibonacci_sequence.append(next_number)\n",
    "\n",
    "print(f\"The first {n} Fibonacci numbers are:\")\n",
    "for num in fibonacci_sequence:\n",
    "    print(num, end=' ')"
   ]
  },
  {
   "cell_type": "markdown",
   "id": "7dfc316b",
   "metadata": {},
   "source": [
    "# Intermediate Level Questions"
   ]
  },
  {
   "cell_type": "markdown",
   "id": "45f901f8",
   "metadata": {},
   "source": [
    "##### 11. Write a program to check if a given list contains any duplicates using a `for` loop.\n"
   ]
  },
  {
   "cell_type": "code",
   "execution_count": 28,
   "id": "ba762c65",
   "metadata": {},
   "outputs": [
    {
     "name": "stdout",
     "output_type": "stream",
     "text": [
      "The list contains duplicates.\n"
     ]
    }
   ],
   "source": [
    "list4 = [4, 2, 3, 4, 5, 6, 7, 8, 9, 10]\n",
    "\n",
    "has_duplicates = False\n",
    "\n",
    "for i in range(len(list4)):\n",
    "    for j in range(i + 1, len(list4)):\n",
    "        if list4[i] == list4[j]:\n",
    "            has_duplicates = True\n",
    "            break\n",
    "    if has_duplicates:\n",
    "        break\n",
    "\n",
    "if has_duplicates:\n",
    "    print(\"The list contains duplicates.\")\n",
    "else:\n",
    "    print(\"The list does not contain duplicates.\")"
   ]
  },
  {
   "cell_type": "markdown",
   "id": "c2c34616",
   "metadata": {},
   "source": [
    "##### 12. Create a program that prints the prime numbers in a given range using a `for` loop.\n"
   ]
  },
  {
   "cell_type": "code",
   "execution_count": 31,
   "id": "3ef08e47",
   "metadata": {},
   "outputs": [
    {
     "name": "stdout",
     "output_type": "stream",
     "text": [
      "Enter the starting number: 3\n",
      "Enter the ending number: 50\n",
      "Prime numbers between 3 and 50 are:\n",
      "3 5 7 11 13 17 19 23 29 31 37 41 43 47 "
     ]
    }
   ],
   "source": [
    "start = int(input(\"Enter the starting number: \"))\n",
    "end = int(input(\"Enter the ending number: \"))\n",
    "\n",
    "print(f\"Prime numbers between {start} and {end} are:\")\n",
    "\n",
    "for num in range(start, end + 1):\n",
    "    if num > 1:\n",
    "        is_prime = True\n",
    "        for i in range(2, (num//2) + 1):\n",
    "            if num % i == 0:\n",
    "                is_prime = False\n",
    "                break\n",
    "        if is_prime:\n",
    "            print(num, end=' ')"
   ]
  },
  {
   "cell_type": "markdown",
   "id": "5093f281",
   "metadata": {},
   "source": [
    "##### 13. Develop a program that counts the number of vowels in a string using a `for` loop.\n"
   ]
  },
  {
   "cell_type": "code",
   "execution_count": 32,
   "id": "936df03e",
   "metadata": {},
   "outputs": [
    {
     "name": "stdout",
     "output_type": "stream",
     "text": [
      "Enter a string: I am a good human being.\n",
      "The number of vowels in the string is: 9\n"
     ]
    }
   ],
   "source": [
    "string = input(\"Enter a string: \")\n",
    "\n",
    "vowel_count = 0\n",
    "\n",
    "vowels = set(\"AEIOUaeiou\")\n",
    "\n",
    "for char in string:\n",
    "    if char in vowels:\n",
    "        vowel_count += 1\n",
    "\n",
    "print(f\"The number of vowels in the string is: {vowel_count}\")"
   ]
  },
  {
   "cell_type": "markdown",
   "id": "0e0fc92e",
   "metadata": {},
   "source": [
    "##### 14. Write a program to find the maximum element in a 2D list using a nested `for` loop.\n"
   ]
  },
  {
   "cell_type": "code",
   "execution_count": 33,
   "id": "51735018",
   "metadata": {},
   "outputs": [
    {
     "name": "stdout",
     "output_type": "stream",
     "text": [
      "The maximum element in the 2D list is: 89\n"
     ]
    }
   ],
   "source": [
    "matrix = [\n",
    "    [12, 45, 67],\n",
    "    [23, 56, 89],\n",
    "    [34, 78, 11]\n",
    "]\n",
    "\n",
    "max_value = 0\n",
    "\n",
    "for row in matrix:\n",
    "    for element in row:\n",
    "        if element > max_value:\n",
    "            max_value = element\n",
    "\n",
    "print(f\"The maximum element in the 2D list is: {max_value}\")"
   ]
  },
  {
   "cell_type": "markdown",
   "id": "72a72870",
   "metadata": {},
   "source": [
    "##### 15. Create a program that removes all occurrences of a specific element from a list using a `for` loop.\n",
    "\n"
   ]
  },
  {
   "cell_type": "code",
   "execution_count": 34,
   "id": "f5286158",
   "metadata": {},
   "outputs": [
    {
     "name": "stdout",
     "output_type": "stream",
     "text": [
      "Enter the element to remove: 2\n",
      "List after removing all occurrences of 2 : [1, 3, 4, 5, 6, 7]\n"
     ]
    }
   ],
   "source": [
    "listt = [1, 2, 3, 4, 2, 5, 6, 2, 7]\n",
    "\n",
    "element_to_remove = int(input(\"Enter the element to remove: \"))\n",
    "\n",
    "filtered_list = []\n",
    "\n",
    "for item in listt:\n",
    "    if item != element_to_remove:\n",
    "        filtered_list.append(item)\n",
    "\n",
    "print(\"List after removing all occurrences of\", element_to_remove, \":\", filtered_list)"
   ]
  },
  {
   "cell_type": "markdown",
   "id": "493448b8",
   "metadata": {},
   "source": [
    "##### 16. Develop a program that generates a multiplication table for numbers from 1 to 5 using a nested `for` loop.\n"
   ]
  },
  {
   "cell_type": "code",
   "execution_count": 35,
   "id": "bd0d6bcc",
   "metadata": {},
   "outputs": [
    {
     "name": "stdout",
     "output_type": "stream",
     "text": [
      "Multiplication table for 1:\n",
      "1 x 1 = 1\n",
      "1 x 2 = 2\n",
      "1 x 3 = 3\n",
      "1 x 4 = 4\n",
      "1 x 5 = 5\n",
      "1 x 6 = 6\n",
      "1 x 7 = 7\n",
      "1 x 8 = 8\n",
      "1 x 9 = 9\n",
      "1 x 10 = 10\n",
      "\n",
      "Multiplication table for 2:\n",
      "2 x 1 = 2\n",
      "2 x 2 = 4\n",
      "2 x 3 = 6\n",
      "2 x 4 = 8\n",
      "2 x 5 = 10\n",
      "2 x 6 = 12\n",
      "2 x 7 = 14\n",
      "2 x 8 = 16\n",
      "2 x 9 = 18\n",
      "2 x 10 = 20\n",
      "\n",
      "Multiplication table for 3:\n",
      "3 x 1 = 3\n",
      "3 x 2 = 6\n",
      "3 x 3 = 9\n",
      "3 x 4 = 12\n",
      "3 x 5 = 15\n",
      "3 x 6 = 18\n",
      "3 x 7 = 21\n",
      "3 x 8 = 24\n",
      "3 x 9 = 27\n",
      "3 x 10 = 30\n",
      "\n",
      "Multiplication table for 4:\n",
      "4 x 1 = 4\n",
      "4 x 2 = 8\n",
      "4 x 3 = 12\n",
      "4 x 4 = 16\n",
      "4 x 5 = 20\n",
      "4 x 6 = 24\n",
      "4 x 7 = 28\n",
      "4 x 8 = 32\n",
      "4 x 9 = 36\n",
      "4 x 10 = 40\n",
      "\n",
      "Multiplication table for 5:\n",
      "5 x 1 = 5\n",
      "5 x 2 = 10\n",
      "5 x 3 = 15\n",
      "5 x 4 = 20\n",
      "5 x 5 = 25\n",
      "5 x 6 = 30\n",
      "5 x 7 = 35\n",
      "5 x 8 = 40\n",
      "5 x 9 = 45\n",
      "5 x 10 = 50\n",
      "\n"
     ]
    }
   ],
   "source": [
    "for i in range(1, 6):\n",
    "    print(f\"Multiplication table for {i}:\")\n",
    "    for j in range(1, 11):\n",
    "        print(f\"{i} x {j} = {i*j}\")\n",
    "    print()"
   ]
  },
  {
   "cell_type": "markdown",
   "id": "75f4d5b7",
   "metadata": {},
   "source": [
    "##### 17. Write a program that converts a list of Fahrenheit temperatures to Celsius using a `for` loop.\n"
   ]
  },
  {
   "cell_type": "code",
   "execution_count": 38,
   "id": "8e85eb1c",
   "metadata": {},
   "outputs": [
    {
     "name": "stdout",
     "output_type": "stream",
     "text": [
      "Fahrenheit temperatures: [32, 68, 95, 104, 212]\n",
      "Celsius temperatures: [0.0, 20.0, 35.0, 40.0, 100.0]\n"
     ]
    }
   ],
   "source": [
    "fahrenheit = [32, 68, 95, 104, 212]\n",
    "\n",
    "celsius = []\n",
    "\n",
    "for f in fahrenheit:\n",
    "    c = (f - 32) * 5/9\n",
    "    celsius.append(c)\n",
    "\n",
    "print(\"Fahrenheit temperatures:\", fahrenheit)\n",
    "print(\"Celsius temperatures:\", celsius)"
   ]
  },
  {
   "cell_type": "markdown",
   "id": "79956926",
   "metadata": {},
   "source": [
    "##### 18. Create a program to print the common elements from two lists using a `for` loop.\n"
   ]
  },
  {
   "cell_type": "code",
   "execution_count": 39,
   "id": "b9049811",
   "metadata": {},
   "outputs": [
    {
     "name": "stdout",
     "output_type": "stream",
     "text": [
      "Common elements: [3, 4, 5]\n"
     ]
    }
   ],
   "source": [
    "list1 = [1, 2, 3, 4, 5]\n",
    "list2 = [3, 4, 5, 6, 7]\n",
    "\n",
    "common_elements = []\n",
    "\n",
    "for i in list1:\n",
    "    for j in list2:\n",
    "        if i == j:\n",
    "            common_elements.append(i)\n",
    "\n",
    "print(\"Common elements:\", common_elements)"
   ]
  },
  {
   "cell_type": "markdown",
   "id": "ee233381",
   "metadata": {},
   "source": [
    "##### 19. Develop a program that prints the pattern of right-angled triangles using a `for` loop. Use ‘*’ to draw the pattern"
   ]
  },
  {
   "cell_type": "code",
   "execution_count": 45,
   "id": "54601e59",
   "metadata": {},
   "outputs": [
    {
     "name": "stdout",
     "output_type": "stream",
     "text": [
      "Enter no. of rows: 6\n",
      "Here is right angled trinagle with 6 rows,\n",
      "\n",
      "*\n",
      "**\n",
      "***\n",
      "****\n",
      "*****\n",
      "******\n",
      "\n"
     ]
    }
   ],
   "source": [
    "num = int(input(\"Enter no. of rows: \"))\n",
    "print(f\"Here is right angled trinagle with {num} rows,\")\n",
    "print()\n",
    "\n",
    "for i in range (1,num+1):\n",
    "    print(i*'*')\n",
    "print()"
   ]
  },
  {
   "cell_type": "markdown",
   "id": "ecc16aca",
   "metadata": {},
   "source": [
    "##### 20. Write a program to find the greatest common divisor (GCD) of two numbers using a `for` loop.\n"
   ]
  },
  {
   "cell_type": "code",
   "execution_count": 46,
   "id": "645750ec",
   "metadata": {},
   "outputs": [
    {
     "name": "stdout",
     "output_type": "stream",
     "text": [
      "Enter the first number: 45\n",
      "Enter the second number: 8860\n",
      "The greatest common divisor (GCD) of 45 and 8860 is: 5\n"
     ]
    }
   ],
   "source": [
    "num1 = int(input(\"Enter the first number: \"))\n",
    "num2 = int(input(\"Enter the second number: \"))\n",
    "\n",
    "min_num = min(num1, num2)\n",
    "\n",
    "gcd = 1\n",
    "\n",
    "for i in range(1, min_num + 1):\n",
    "    if num1 % i == 0 and num2 % i == 0:\n",
    "        gcd = i\n",
    "\n",
    "print(f\"The greatest common divisor (GCD) of {num1} and {num2} is: {gcd}\")"
   ]
  },
  {
   "cell_type": "markdown",
   "id": "5c1318cb",
   "metadata": {},
   "source": [
    "# Advanced Level Questions"
   ]
  },
  {
   "cell_type": "markdown",
   "id": "4c4311f7",
   "metadata": {},
   "source": [
    "##### 21. Create a program that calculates the sum of the digits of numbers in a list using a list comprehension.\n"
   ]
  },
  {
   "cell_type": "code",
   "execution_count": 19,
   "id": "5ca9eee3",
   "metadata": {},
   "outputs": [
    {
     "name": "stdout",
     "output_type": "stream",
     "text": [
      "[6, 15, 24]\n"
     ]
    }
   ],
   "source": [
    "def sum_of_digits(list_of_numbers):\n",
    "    sum_of_digits_list = [sum(int(digit) for digit in str(number)) for number in list_of_numbers]\n",
    "    return sum_of_digits_list\n",
    "\n",
    "list_of_numbers = [123, 456, 789]\n",
    "\n",
    "sum_of_digits_list = sum_of_digits(list_of_numbers)\n",
    "\n",
    "print(sum_of_digits_list)"
   ]
  },
  {
   "cell_type": "markdown",
   "id": "ac1c9793",
   "metadata": {},
   "source": [
    "##### 22. Write a program to find the prime factors of a given number using a `for` loop and list comprehension.\n"
   ]
  },
  {
   "cell_type": "code",
   "execution_count": 18,
   "id": "c8379e3e",
   "metadata": {},
   "outputs": [
    {
     "name": "stdout",
     "output_type": "stream",
     "text": [
      "Enter a number: 72\n",
      "Prime factors of 72: [2, 2, 2, 3, 3]\n"
     ]
    }
   ],
   "source": [
    "n = int(input(\"Enter a number: \"))\n",
    "num = n\n",
    "\n",
    "factors = []\n",
    "\n",
    "divisor = 2\n",
    "while num > 1:\n",
    "    if num % divisor == 0:\n",
    "        factors.append(divisor)\n",
    "        num //= divisor\n",
    "    else:\n",
    "        divisor += 1\n",
    "\n",
    "print(f\"Prime factors of {n}: {factors}\")"
   ]
  },
  {
   "cell_type": "markdown",
   "id": "cb76e6ad",
   "metadata": {},
   "source": [
    "##### 23. Develop a program that extracts unique elements from a list and stores them in a new list using a list comprehension"
   ]
  },
  {
   "cell_type": "code",
   "execution_count": 1,
   "id": "5f49d4e6",
   "metadata": {},
   "outputs": [
    {
     "name": "stdout",
     "output_type": "stream",
     "text": [
      "Unique elements in list are [1, 2, 3, 4, 5, 6, 7, 8, 9, 0]\n"
     ]
    }
   ],
   "source": [
    "listt = [1,2,2,2,3,3,3,3,4,4,5,6,6,6,6,6,7,8,8,8,9,9,0]\n",
    "unique_element = []\n",
    "\n",
    "for i in listt:\n",
    "    if i not in unique_element:\n",
    "        unique_element.append(i)\n",
    "        \n",
    "print(f\"Unique elements in list are {unique_element}\")"
   ]
  },
  {
   "cell_type": "markdown",
   "id": "f9dfe777",
   "metadata": {},
   "source": [
    "##### 24. Create a program that generates a list of all palindromic numbers up to a specified limit using a list comprehension"
   ]
  },
  {
   "cell_type": "code",
   "execution_count": 5,
   "id": "d0fb46de",
   "metadata": {},
   "outputs": [
    {
     "name": "stdout",
     "output_type": "stream",
     "text": [
      "Enter a limit: 100\n"
     ]
    },
    {
     "data": {
      "text/plain": [
       "[0, 1, 2, 3, 4, 5, 6, 7, 8, 9, 11, 22, 33, 44, 55, 66, 77, 88, 99]"
      ]
     },
     "execution_count": 5,
     "metadata": {},
     "output_type": "execute_result"
    }
   ],
   "source": [
    "def palindrome(num):\n",
    "    palindrome = False\n",
    "    number_str = str(num)\n",
    "    number_reverse = number_str[::-1]\n",
    "    if number_str == number_reverse:\n",
    "        palindrome = True\n",
    "    return palindrome\n",
    "\n",
    "limit = int(input(\"Enter a limit: \"))\n",
    "listt = []\n",
    "\n",
    "for num in range(0,limit+1):\n",
    "    is_ornot = palindrome(num)\n",
    "    if is_ornot:\n",
    "        listt.append(num)\n",
    "\n",
    "listt"
   ]
  },
  {
   "cell_type": "markdown",
   "id": "fffd4732",
   "metadata": {},
   "source": [
    "##### 25. Write a program to flatten a nested list using list comprehension.\n"
   ]
  },
  {
   "cell_type": "code",
   "execution_count": 6,
   "id": "795de707",
   "metadata": {},
   "outputs": [
    {
     "name": "stdout",
     "output_type": "stream",
     "text": [
      "[1, 2, 3, 4, 5, 6, 7, 8, 9]\n"
     ]
    }
   ],
   "source": [
    "def flatten_list(list1):\n",
    "    flat_list = [item for sublist in list1 for item in sublist]\n",
    "    return flat_list\n",
    "\n",
    "list1 = [[1, 2, 3], [4, 5, 6], [7, 8, 9]]\n",
    "\n",
    "flat_list = flatten_list(list1)\n",
    "\n",
    "print(flat_list)"
   ]
  },
  {
   "cell_type": "markdown",
   "id": "9f73edc3",
   "metadata": {},
   "source": [
    "##### 26. Develop a program that computes the sum of even and odd numbers in a list separately using list comprehension."
   ]
  },
  {
   "cell_type": "code",
   "execution_count": 7,
   "id": "d6d4bed6",
   "metadata": {},
   "outputs": [
    {
     "name": "stdout",
     "output_type": "stream",
     "text": [
      "Sum of even element in list is 416\n",
      "Sum of odd element in list is 95\n"
     ]
    }
   ],
   "source": [
    "listt = [32, 68, 95, 104, 212]\n",
    "\n",
    "sum_even = 0\n",
    "sum_odd = 0\n",
    "\n",
    "for i in listt:\n",
    "    if i%2==0:\n",
    "        sum_even += i\n",
    "    else:\n",
    "        sum_odd += i\n",
    "        \n",
    "print(f\"Sum of even element in list is {sum_even}\")\n",
    "print(f\"Sum of odd element in list is {sum_odd}\")"
   ]
  },
  {
   "cell_type": "markdown",
   "id": "922e8d69",
   "metadata": {},
   "source": [
    "##### 27. Create a program that generates a list of squares of odd numbers between 1 and 10 using list comprehension.\n"
   ]
  },
  {
   "cell_type": "code",
   "execution_count": 12,
   "id": "084d4528",
   "metadata": {},
   "outputs": [
    {
     "name": "stdout",
     "output_type": "stream",
     "text": [
      "Squares of odd numbers between 1 and 10 are:\n",
      "\n",
      "Sqaure of 1 is 1\n",
      "Sqaure of 3 is 9\n",
      "Sqaure of 5 is 25\n",
      "Sqaure of 7 is 49\n",
      "Sqaure of 9 is 81\n"
     ]
    }
   ],
   "source": [
    "print(\"Squares of odd numbers between 1 and 10 are:\\n\")\n",
    "for i in range(1,11):\n",
    "    if i%2 != 0:\n",
    "        print(f\"Sqaure of {i} is {i*i}\")"
   ]
  },
  {
   "cell_type": "markdown",
   "id": "a3c7bac5",
   "metadata": {},
   "source": [
    "##### 28. Write a program that combines two lists into a dictionary using list comprehension.\n"
   ]
  },
  {
   "cell_type": "code",
   "execution_count": 13,
   "id": "1df75c14",
   "metadata": {},
   "outputs": [
    {
     "name": "stdout",
     "output_type": "stream",
     "text": [
      "{'a': 1, 'b': 2, 'c': 3}\n"
     ]
    }
   ],
   "source": [
    "keys = ['a', 'b', 'c']\n",
    "values = [1, 2, 3]\n",
    "\n",
    "combined_dict = {key: value for key, value in zip(keys, values)}\n",
    "\n",
    "print(combined_dict)"
   ]
  },
  {
   "cell_type": "markdown",
   "id": "07fcab46",
   "metadata": {},
   "source": [
    "##### 29. Develop a program that extracts the vowels from a string and stores them in a list using list comprehension.\n"
   ]
  },
  {
   "cell_type": "code",
   "execution_count": 14,
   "id": "50dead8b",
   "metadata": {},
   "outputs": [
    {
     "name": "stdout",
     "output_type": "stream",
     "text": [
      "['i', 'i', 'a', 'i', 'i', 'o', 'e']\n"
     ]
    }
   ],
   "source": [
    "vowels = ['a', 'e', 'i', 'o', 'u']\n",
    "\n",
    "def extract_vowels(string):\n",
    "    vowels_in_string = [letter for letter in string if letter in vowels]\n",
    "    return vowels_in_string\n",
    "\n",
    "string = \"This is a string with vowels\"\n",
    "\n",
    "vowels_in_string = extract_vowels(string)\n",
    "\n",
    "print(vowels_in_string)"
   ]
  },
  {
   "cell_type": "markdown",
   "id": "625e8cde",
   "metadata": {},
   "source": [
    "##### 30. Create a program that removes all non-numeric characters from a list of strings using list comprehension.\n"
   ]
  },
  {
   "cell_type": "code",
   "execution_count": 3,
   "id": "64ef3b16",
   "metadata": {},
   "outputs": [
    {
     "name": "stdout",
     "output_type": "stream",
     "text": [
      "['1223', '456']\n"
     ]
    }
   ],
   "source": [
    "import re\n",
    "\n",
    "def remove_non_numeric(list_of_strings):\n",
    "    list_of_numbers = [re.sub(r'[^\\d]', '', string) for string in list_of_strings]\n",
    "    return list_of_numbers\n",
    "\n",
    "list_of_strings = [\"abc12xy23u\", \"def456\"]\n",
    "\n",
    "list_of_numbers = remove_non_numeric(list_of_strings)\n",
    "\n",
    "print(list_of_numbers)"
   ]
  },
  {
   "cell_type": "markdown",
   "id": "5e1dad76",
   "metadata": {},
   "source": [
    "# Challenge Level Questions"
   ]
  },
  {
   "cell_type": "markdown",
   "id": "8860c711",
   "metadata": {},
   "source": [
    "##### 31. Write a program to generate a list of prime numbers using the Sieve of Eratosthenes algorithm and list comprehension."
   ]
  },
  {
   "cell_type": "code",
   "execution_count": 2,
   "id": "03f8878a",
   "metadata": {},
   "outputs": [
    {
     "name": "stdout",
     "output_type": "stream",
     "text": [
      "[2, 3, 5, 7, 11, 13, 17, 19, 23, 29, 31, 37, 41, 43, 47]\n"
     ]
    }
   ],
   "source": [
    "def sieve_eratosthenes(n):\n",
    "    prime = [True for _ in range(n+1)]\n",
    "    prime[0] = prime[1] = False\n",
    "\n",
    "    p = 2\n",
    "    while p**2 <= n:\n",
    "        if prime[p]:\n",
    "            for i in range(p**2, n+1, p):\n",
    "                prime[i] = False\n",
    "        p += 1\n",
    "\n",
    "    prime_numbers = [i for i in range(2, n+1) if prime[i]]\n",
    "\n",
    "    return prime_numbers\n",
    "\n",
    "n = 50\n",
    "\n",
    "prime_list = sieve_eratosthenes(n)\n",
    "\n",
    "print(prime_list)\n"
   ]
  },
  {
   "cell_type": "markdown",
   "id": "70484046",
   "metadata": {},
   "source": [
    "##### 32. Create a program that generates a list of all Pythagorean triplets up to a specified limit using list comprehension."
   ]
  },
  {
   "cell_type": "code",
   "execution_count": 4,
   "id": "9cc8bd7e",
   "metadata": {},
   "outputs": [
    {
     "name": "stdout",
     "output_type": "stream",
     "text": [
      "(3, 4, 5)\n",
      "(5, 12, 13)\n",
      "(6, 8, 10)\n",
      "(7, 24, 25)\n",
      "(8, 15, 17)\n",
      "(9, 12, 15)\n",
      "(9, 40, 41)\n",
      "(10, 24, 26)\n",
      "(12, 16, 20)\n",
      "(12, 35, 37)\n",
      "(14, 48, 50)\n",
      "(15, 20, 25)\n",
      "(15, 36, 39)\n",
      "(16, 30, 34)\n",
      "(18, 24, 30)\n",
      "(20, 21, 29)\n",
      "(21, 28, 35)\n",
      "(24, 32, 40)\n",
      "(27, 36, 45)\n",
      "(30, 40, 50)\n"
     ]
    }
   ],
   "source": [
    "def generate_pythagorean_triplets(limit):\n",
    "    triplets = [(a, b, c) for a in range(1, limit + 1)\n",
    "                           for b in range(a, limit + 1)\n",
    "                           for c in range(b, limit + 1)\n",
    "                           if a**2 + b**2 == c**2]\n",
    "    return triplets\n",
    "\n",
    "limit = 50\n",
    "\n",
    "pythagorean_triplets = generate_pythagorean_triplets(limit)\n",
    "\n",
    "for triplet in pythagorean_triplets:\n",
    "    print(triplet)\n"
   ]
  },
  {
   "cell_type": "markdown",
   "id": "33fcef12",
   "metadata": {},
   "source": [
    "##### 33. Develop a program that generates a list of all possible combinations of two lists using list comprehension.\n"
   ]
  },
  {
   "cell_type": "code",
   "execution_count": 5,
   "id": "406591f7",
   "metadata": {},
   "outputs": [
    {
     "name": "stdout",
     "output_type": "stream",
     "text": [
      "All possible combinations of elements from list1 and list2:\n",
      "(1, 'A')\n",
      "(1, 'B')\n",
      "(1, 'C')\n",
      "(2, 'A')\n",
      "(2, 'B')\n",
      "(2, 'C')\n",
      "(3, 'A')\n",
      "(3, 'B')\n",
      "(3, 'C')\n"
     ]
    }
   ],
   "source": [
    "list1 = [1, 2, 3]\n",
    "list2 = ['A', 'B', 'C']\n",
    "\n",
    "combinations = [(x, y) for x in list1 for y in list2]\n",
    "\n",
    "print(\"All possible combinations of elements from list1 and list2:\")\n",
    "for combination in combinations:\n",
    "    print(combination)\n"
   ]
  },
  {
   "cell_type": "markdown",
   "id": "2830a052",
   "metadata": {},
   "source": [
    "##### 34. Write a program that calculates the mean, median, and mode of a list of numbers using list comprehension."
   ]
  },
  {
   "cell_type": "code",
   "execution_count": 6,
   "id": "b5aaa7bc",
   "metadata": {},
   "outputs": [
    {
     "name": "stdout",
     "output_type": "stream",
     "text": [
      "List of numbers: [1, 2, 2, 3, 4, 5, 5, 6, 7, 8]\n",
      "Mean: 4.3\n",
      "Median: 4.5\n",
      "Mode: 5\n"
     ]
    }
   ],
   "source": [
    "import statistics\n",
    "\n",
    "numbers = [1, 2, 2, 3, 4, 5, 5, 6, 7, 8]\n",
    "\n",
    "mean = sum(numbers) / len(numbers)\n",
    "\n",
    "sorted_numbers = sorted(numbers)\n",
    "n = len(sorted_numbers)\n",
    "median = (sorted_numbers[n // 2] + sorted_numbers[(n - 1) // 2]) / 2\n",
    "\n",
    "mode = max((numbers.count(x), x) for x in set(numbers))[1]\n",
    "\n",
    "print(\"List of numbers:\", numbers)\n",
    "print(\"Mean:\", mean)\n",
    "print(\"Median:\", median)\n",
    "print(\"Mode:\", mode)\n"
   ]
  },
  {
   "cell_type": "markdown",
   "id": "43417ef0",
   "metadata": {},
   "source": [
    "##### 35. Create a program that generates Pascal's triangle up to a specified number of rows using list comprehension."
   ]
  },
  {
   "cell_type": "code",
   "execution_count": 8,
   "id": "2864cf2f",
   "metadata": {},
   "outputs": [
    {
     "name": "stdout",
     "output_type": "stream",
     "text": [
      "Enter the number of rows for Pascal's triangle: 5\n",
      "       1       \n",
      "      1 1      \n",
      "     1 2 1     \n",
      "    1 3 3 1    \n",
      "   1 4 6 4 1   \n"
     ]
    }
   ],
   "source": [
    "def generate_pascals_triangle(rows):\n",
    "    if rows <= 0:\n",
    "        return []\n",
    "\n",
    "    triangle = [[1]]\n",
    "\n",
    "    for _ in range(1, rows):\n",
    "        prev_row = triangle[-1]\n",
    "        next_row = [1] + [prev_row[i] + prev_row[i + 1] for i in range(len(prev_row) - 1)] + [1]\n",
    "        triangle.append(next_row)\n",
    "\n",
    "    return triangle\n",
    "\n",
    "rows = int(input(\"Enter the number of rows for Pascal's triangle: \"))\n",
    "\n",
    "pascals_triangle = generate_pascals_triangle(rows)\n",
    "\n",
    "for row in pascals_triangle:\n",
    "    print(' '.join(map(str, row)).center(rows * 3))\n"
   ]
  },
  {
   "cell_type": "markdown",
   "id": "57cb6df5",
   "metadata": {},
   "source": [
    "##### 36. Develop a program that calculates the sum of the digits of a factorial of numbers from 1 to 5 using list comprehension."
   ]
  },
  {
   "cell_type": "code",
   "execution_count": 9,
   "id": "bee833fc",
   "metadata": {},
   "outputs": [
    {
     "name": "stdout",
     "output_type": "stream",
     "text": [
      "The sum of digits of 1! is 1\n",
      "The sum of digits of 2! is 2\n",
      "The sum of digits of 3! is 6\n",
      "The sum of digits of 4! is 6\n",
      "The sum of digits of 5! is 3\n"
     ]
    }
   ],
   "source": [
    "import math\n",
    "\n",
    "def sum_of_digits(number):\n",
    "    return sum(int(digit) for digit in str(number))\n",
    "\n",
    "factorial_sums = [sum_of_digits(math.factorial(n)) for n in range(1, 6)]\n",
    "\n",
    "for n, factorial_sum in enumerate(factorial_sums, start=1):\n",
    "    print(f\"The sum of digits of {n}! is {factorial_sum}\")\n"
   ]
  },
  {
   "cell_type": "markdown",
   "id": "cb91c4ad",
   "metadata": {},
   "source": [
    "##### 37. Write a program that finds the longest word in a sentence using list comprehension.\n"
   ]
  },
  {
   "cell_type": "code",
   "execution_count": 20,
   "id": "de820104",
   "metadata": {},
   "outputs": [
    {
     "name": "stdout",
     "output_type": "stream",
     "text": [
      "sentence\n"
     ]
    }
   ],
   "source": [
    "sentence = \"This is a sample sentence\"\n",
    "words = sentence.split()\n",
    "\n",
    "longest_word = max(words, key=lambda word: len(word))\n",
    "\n",
    "print(longest_word)\n"
   ]
  },
  {
   "cell_type": "markdown",
   "id": "ff4805e8",
   "metadata": {},
   "source": [
    "##### 38. Create a program that filters a list of strings to include only those with more than three vowels using list comprehension."
   ]
  },
  {
   "cell_type": "code",
   "execution_count": 15,
   "id": "4774373a",
   "metadata": {},
   "outputs": [
    {
     "name": "stdout",
     "output_type": "stream",
     "text": [
      "['hellooo']\n"
     ]
    }
   ],
   "source": [
    "def count_vowels(string):\n",
    "    vowels = \"AEIOUaeiou\"\n",
    "    return sum(1 for char in string if char in vowels)\n",
    "\n",
    "string_list = [\"hellooo\", \"programming\", \"python\", \"vowels\", \"algorithm\"]\n",
    "\n",
    "filtered_strings = [string for string in string_list if count_vowels(string) > 3]\n",
    "\n",
    "print(filtered_strings)\n"
   ]
  },
  {
   "cell_type": "markdown",
   "id": "ee47d2b1",
   "metadata": {},
   "source": [
    "##### 39. Develop a program that calculates the sum of the digits of numbers from 1 to 1000 using list comprehension."
   ]
  },
  {
   "cell_type": "code",
   "execution_count": 16,
   "id": "659f40c9",
   "metadata": {},
   "outputs": [
    {
     "name": "stdout",
     "output_type": "stream",
     "text": [
      "Total sum of digits from 1 to 1000: 13501\n"
     ]
    }
   ],
   "source": [
    "def sum_of_digits(num):\n",
    "    return sum(int(digit) for digit in str(num))\n",
    "\n",
    "sums = [sum_of_digits(num) for num in range(1, 1001)]\n",
    "\n",
    "total_sum = sum(sums)\n",
    "\n",
    "print(\"Total sum of digits from 1 to 1000:\", total_sum)\n"
   ]
  },
  {
   "cell_type": "markdown",
   "id": "59aac271",
   "metadata": {},
   "source": [
    "##### 40. Write a program that generates a list of prime palindromic numbers using list comprehension.\n"
   ]
  },
  {
   "cell_type": "code",
   "execution_count": 18,
   "id": "59901634",
   "metadata": {},
   "outputs": [
    {
     "name": "stdout",
     "output_type": "stream",
     "text": [
      "[2, 3, 5, 7, 11, 101, 131, 151, 181, 191, 313, 353, 373, 383, 727, 757, 787, 797, 919, 929]\n"
     ]
    }
   ],
   "source": [
    "def is_prime(num):\n",
    "    if num <= 1:\n",
    "        return False\n",
    "    for i in range(2, int(num**0.5) + 1):\n",
    "        if num % i == 0:\n",
    "            return False\n",
    "    return True\n",
    "\n",
    "def is_palindrome(num):\n",
    "    return str(num) == str(num)[::-1]\n",
    "\n",
    "prime_palindromic_numbers = [num for num in range(1, 1000) if is_prime(num) and is_palindrome(num)]\n",
    "\n",
    "print(prime_palindromic_numbers)"
   ]
  }
 ],
 "metadata": {
  "kernelspec": {
   "display_name": "Python 3 (ipykernel)",
   "language": "python",
   "name": "python3"
  },
  "language_info": {
   "codemirror_mode": {
    "name": "ipython",
    "version": 3
   },
   "file_extension": ".py",
   "mimetype": "text/x-python",
   "name": "python",
   "nbconvert_exporter": "python",
   "pygments_lexer": "ipython3",
   "version": "3.11.3"
  }
 },
 "nbformat": 4,
 "nbformat_minor": 5
}
