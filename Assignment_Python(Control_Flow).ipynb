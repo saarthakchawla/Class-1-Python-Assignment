{
 "cells": [
  {
   "cell_type": "markdown",
   "id": "697c00bf",
   "metadata": {},
   "source": [
    "# Control Flow"
   ]
  },
  {
   "cell_type": "markdown",
   "id": "892d69ff",
   "metadata": {},
   "source": [
    "## Basic If-Else Statements:"
   ]
  },
  {
   "cell_type": "markdown",
   "id": "0a36a5bc",
   "metadata": {},
   "source": [
    "##### 1. Write a Python program to check if a given number is positive or negative."
   ]
  },
  {
   "cell_type": "code",
   "execution_count": 9,
   "id": "2513d516",
   "metadata": {},
   "outputs": [
    {
     "name": "stdout",
     "output_type": "stream",
     "text": [
      "Enter a number: -9\n",
      "The number is negative.\n"
     ]
    }
   ],
   "source": [
    "number = float(input(\"Enter a number: \"))\n",
    "\n",
    "if number > 0:\n",
    "    print(\"The number is positive.\")\n",
    "elif number < 0:\n",
    "    print(\"The number is negative.\")\n",
    "else:\n",
    "    print(\"The number is zero.\")"
   ]
  },
  {
   "cell_type": "markdown",
   "id": "560edf54",
   "metadata": {},
   "source": [
    "##### 2. Create a program that determines if a person is eligible to vote based on their age."
   ]
  },
  {
   "cell_type": "code",
   "execution_count": 10,
   "id": "20c075d1",
   "metadata": {},
   "outputs": [
    {
     "name": "stdout",
     "output_type": "stream",
     "text": [
      "Enter your age: 28\n",
      "You are eligible to vote.\n"
     ]
    }
   ],
   "source": [
    "age = int(input(\"Enter your age: \"))\n",
    "\n",
    "if age >= 18:\n",
    "    print(\"You are eligible to vote.\")\n",
    "else:\n",
    "    print(\"You are not eligible to vote.\")"
   ]
  },
  {
   "cell_type": "markdown",
   "id": "be5c4f01",
   "metadata": {},
   "source": [
    "##### 3. Develop a program to find the maximum of two numbers using if-else statements."
   ]
  },
  {
   "cell_type": "code",
   "execution_count": 11,
   "id": "83c317b5",
   "metadata": {},
   "outputs": [
    {
     "name": "stdout",
     "output_type": "stream",
     "text": [
      "Enter the first number: 5\n",
      "Enter the second number: 98\n",
      "The maximum number is: 98.0\n"
     ]
    }
   ],
   "source": [
    "num1 = float(input(\"Enter the first number: \"))\n",
    "num2 = float(input(\"Enter the second number: \"))\n",
    "\n",
    "if num1 > num2:\n",
    "    maximum = num1\n",
    "else:\n",
    "    maximum = num2\n",
    "\n",
    "print(f\"The maximum number is: {maximum}\")"
   ]
  },
  {
   "cell_type": "markdown",
   "id": "21099ccb",
   "metadata": {},
   "source": [
    "##### 4. Write a Python script to classify a given year as a leap year or not."
   ]
  },
  {
   "cell_type": "code",
   "execution_count": 12,
   "id": "3a93954c",
   "metadata": {},
   "outputs": [
    {
     "name": "stdout",
     "output_type": "stream",
     "text": [
      "Enter a year: 2002\n",
      "2002 is not a leap year.\n"
     ]
    }
   ],
   "source": [
    "year = int(input(\"Enter a year: \"))\n",
    "\n",
    "if (year % 4 == 0 and year % 100 != 0) or (year % 400 == 0):\n",
    "    print(f\"{year} is a leap year.\")\n",
    "else:\n",
    "    print(f\"{year} is not a leap year.\")"
   ]
  },
  {
   "cell_type": "markdown",
   "id": "75150fec",
   "metadata": {},
   "source": [
    "##### 5. Create a program that checks whether a character is a vowel or a consonant."
   ]
  },
  {
   "cell_type": "code",
   "execution_count": 13,
   "id": "08fa9a49",
   "metadata": {},
   "outputs": [
    {
     "name": "stdout",
     "output_type": "stream",
     "text": [
      "Enter a character: g\n",
      "g is a consonant.\n"
     ]
    }
   ],
   "source": [
    "char = input(\"Enter a character: \")\n",
    "\n",
    "char = char.lower()\n",
    "\n",
    "if char.isalpha() and len(char) == 1:\n",
    "    if char in 'aeiou':\n",
    "        print(f\"{char} is a vowel.\")\n",
    "    else:\n",
    "        print(f\"{char} is a consonant.\")\n",
    "else:\n",
    "    print(\"Invalid input. Please enter a single alphabetical character.\")"
   ]
  },
  {
   "cell_type": "markdown",
   "id": "5f45cf06",
   "metadata": {},
   "source": [
    "##### 6. Implement a program to determine whether a given number is even or odd."
   ]
  },
  {
   "cell_type": "code",
   "execution_count": 14,
   "id": "1b420563",
   "metadata": {},
   "outputs": [
    {
     "name": "stdout",
     "output_type": "stream",
     "text": [
      "Enter a number: 56\n",
      "56 is an even number.\n"
     ]
    }
   ],
   "source": [
    "number = int(input(\"Enter a number: \"))\n",
    "\n",
    "if number % 2 == 0:\n",
    "    print(f\"{number} is an even number.\")\n",
    "else:\n",
    "    print(f\"{number} is an odd number.\")"
   ]
  },
  {
   "cell_type": "markdown",
   "id": "1924eb0b",
   "metadata": {},
   "source": [
    "##### 7. Write a Python function to calculate the absolute value of a number without using the `abs()` function."
   ]
  },
  {
   "cell_type": "code",
   "execution_count": 15,
   "id": "2ad04e00",
   "metadata": {},
   "outputs": [
    {
     "name": "stdout",
     "output_type": "stream",
     "text": [
      "Enter a number: -999996\n",
      "The absolute value of -999996.0 is 999996.0\n"
     ]
    }
   ],
   "source": [
    "number = float(input(\"Enter a number: \"))\n",
    "\n",
    "if number < 0:\n",
    "    absolute_value = -number\n",
    "else:\n",
    "    absolute_value = number\n",
    "\n",
    "print(f\"The absolute value of {number} is {absolute_value}\")"
   ]
  },
  {
   "cell_type": "markdown",
   "id": "1cbbebad",
   "metadata": {},
   "source": [
    "##### 8. Develop a program that determines the largest of three given numbers using if-else statements."
   ]
  },
  {
   "cell_type": "code",
   "execution_count": 16,
   "id": "cb3e5887",
   "metadata": {},
   "outputs": [
    {
     "name": "stdout",
     "output_type": "stream",
     "text": [
      "Enter the first number: 654\n",
      "Enter the second number: 5473\n",
      "Enter the third number: 54\n",
      "The largest number is: 5473.0\n"
     ]
    }
   ],
   "source": [
    "num1 = float(input(\"Enter the first number: \"))\n",
    "num2 = float(input(\"Enter the second number: \"))\n",
    "num3 = float(input(\"Enter the third number: \"))\n",
    "\n",
    "if num1 >= num2 and num1 >= num3:\n",
    "    largest = num1\n",
    "elif num2 >= num1 and num2 >= num3:\n",
    "    largest = num2\n",
    "else:\n",
    "    largest = num3\n",
    "\n",
    "print(f\"The largest number is: {largest}\")"
   ]
  },
  {
   "cell_type": "markdown",
   "id": "770f179e",
   "metadata": {},
   "source": [
    "##### 9. Create a program that checks if a given string is a palindrome."
   ]
  },
  {
   "cell_type": "code",
   "execution_count": 17,
   "id": "f578f336",
   "metadata": {},
   "outputs": [
    {
     "name": "stdout",
     "output_type": "stream",
     "text": [
      "Enter a string: madam\n",
      "The string is a palindrome.\n"
     ]
    }
   ],
   "source": [
    "string = input(\"Enter a string: \")\n",
    "\n",
    "string = string.replace(\" \", \"\").lower()\n",
    "\n",
    "if string == string[::-1]:\n",
    "    print(\"The string is a palindrome.\")\n",
    "else:\n",
    "    print(\"The string is not a palindrome.\")"
   ]
  },
  {
   "cell_type": "markdown",
   "id": "a392bf0b",
   "metadata": {},
   "source": [
    "##### 10. Write a Python program to calculate the grade based on a student's score"
   ]
  },
  {
   "cell_type": "code",
   "execution_count": 18,
   "id": "dc7e7833",
   "metadata": {},
   "outputs": [
    {
     "name": "stdout",
     "output_type": "stream",
     "text": [
      "Enter the student's score: 86\n",
      "The student's grade is: B\n"
     ]
    }
   ],
   "source": [
    "score = float(input(\"Enter the student's score: \"))\n",
    "\n",
    "if score >= 90:\n",
    "    grade = 'A'\n",
    "elif score >= 80:\n",
    "    grade = 'B'\n",
    "elif score >= 70:\n",
    "    grade = 'C'\n",
    "elif score >= 60:\n",
    "    grade = 'D'\n",
    "else:\n",
    "    grade = 'F'\n",
    "\n",
    "print(f\"The student's grade is: {grade}\")"
   ]
  },
  {
   "cell_type": "markdown",
   "id": "36a61f87",
   "metadata": {},
   "source": [
    "## Nested If-Else Statements"
   ]
  },
  {
   "cell_type": "markdown",
   "id": "5bc2af99",
   "metadata": {},
   "source": [
    "##### 11. Write a program to find the largest among three numbers using nested if-else statements."
   ]
  },
  {
   "cell_type": "code",
   "execution_count": 19,
   "id": "473467a4",
   "metadata": {},
   "outputs": [
    {
     "name": "stdout",
     "output_type": "stream",
     "text": [
      "Enter the first number: 67\n",
      "Enter the second number: 43\n",
      "Enter the third number: 90\n",
      "The largest number is: 90.0\n"
     ]
    }
   ],
   "source": [
    "num1 = float(input(\"Enter the first number: \"))\n",
    "num2 = float(input(\"Enter the second number: \"))\n",
    "num3 = float(input(\"Enter the third number: \"))\n",
    "\n",
    "if num1 >= num2:\n",
    "    if num1 >= num3:\n",
    "        largest = num1\n",
    "    else:\n",
    "        largest = num3\n",
    "else:\n",
    "    if num2 >= num3:\n",
    "        largest = num2\n",
    "    else:\n",
    "        largest = num3\n",
    "\n",
    "print(f\"The largest number is: {largest}\")"
   ]
  },
  {
   "cell_type": "markdown",
   "id": "b5cda0c0",
   "metadata": {},
   "source": [
    "##### 12. Implement a program to determine if a triangle is equilateral, isosceles, or scalene."
   ]
  },
  {
   "cell_type": "code",
   "execution_count": 21,
   "id": "67bff978",
   "metadata": {},
   "outputs": [
    {
     "name": "stdout",
     "output_type": "stream",
     "text": [
      "Enter the length of the first side: 56\n",
      "Enter the length of the second side: 89\n",
      "Enter the length of the third side: 56\n",
      "The triangle is isosceles.\n"
     ]
    }
   ],
   "source": [
    "side1 = float(input(\"Enter the length of the first side: \"))\n",
    "side2 = float(input(\"Enter the length of the second side: \"))\n",
    "side3 = float(input(\"Enter the length of the third side: \"))\n",
    "\n",
    "if side1 + side2 > side3 and side1 + side3 > side2 and side2 + side3 > side1:\n",
    "    # Check for equilateral\n",
    "    if side1 == side2 == side3:\n",
    "        triangle_type = \"equilateral\"\n",
    "    # Check for isosceles\n",
    "    elif side1 == side2 or side1 == side3 or side2 == side3:\n",
    "        triangle_type = \"isosceles\"\n",
    "    # If not equilateral or isosceles, it's scalene\n",
    "    else:\n",
    "        triangle_type = \"scalene\"\n",
    "else:\n",
    "    print(\"Not a valid triangle.\")\n",
    "    triangle_type = \"invalid\"\n",
    "\n",
    "print(f\"The triangle is {triangle_type}.\")"
   ]
  },
  {
   "cell_type": "markdown",
   "id": "febd76c8",
   "metadata": {},
   "source": [
    "##### 13. Develop a program that checks if a year is a leap year and also if it is a century year"
   ]
  },
  {
   "cell_type": "code",
   "execution_count": 22,
   "id": "92a1b8df",
   "metadata": {},
   "outputs": [
    {
     "name": "stdout",
     "output_type": "stream",
     "text": [
      "Enter a year: 2000\n",
      "2000 is a leap year.\n",
      "2000 is a century year.\n"
     ]
    }
   ],
   "source": [
    "year = int(input(\"Enter a year: \"))\n",
    "\n",
    "is_leap_year = False\n",
    "\n",
    "if (year % 4 == 0 and year % 100 != 0) or (year % 400 == 0):\n",
    "    is_leap_year = True\n",
    "\n",
    "is_century_year = False\n",
    "\n",
    "if year % 100 == 0:\n",
    "    is_century_year = True\n",
    "\n",
    "if is_leap_year:\n",
    "    print(f\"{year} is a leap year.\")\n",
    "else:\n",
    "    print(f\"{year} is not a leap year.\")\n",
    "\n",
    "if is_century_year:\n",
    "    print(f\"{year} is a century year.\")\n",
    "else:\n",
    "    print(f\"{year} is not a century year.\")"
   ]
  },
  {
   "cell_type": "markdown",
   "id": "e0b00805",
   "metadata": {},
   "source": [
    "##### 14. Write a Python script to determine if a number is positive, negative, or zero."
   ]
  },
  {
   "cell_type": "code",
   "execution_count": 23,
   "id": "3b4cde71",
   "metadata": {},
   "outputs": [
    {
     "name": "stdout",
     "output_type": "stream",
     "text": [
      "Enter a number: 0\n",
      "The number is zero.\n"
     ]
    }
   ],
   "source": [
    "number = float(input(\"Enter a number: \"))\n",
    "\n",
    "if number > 0:\n",
    "    print(\"The number is positive.\")\n",
    "elif number < 0:\n",
    "    print(\"The number is negative.\")\n",
    "else:\n",
    "    print(\"The number is zero.\")"
   ]
  },
  {
   "cell_type": "markdown",
   "id": "7b8ee079",
   "metadata": {},
   "source": [
    "##### 15. Create a program to check if a person is a teenager (between 13 and 19 years old)"
   ]
  },
  {
   "cell_type": "code",
   "execution_count": 24,
   "id": "1f89e2f2",
   "metadata": {},
   "outputs": [
    {
     "name": "stdout",
     "output_type": "stream",
     "text": [
      "Enter the person's age: 17\n",
      "The person is a teenager.\n"
     ]
    }
   ],
   "source": [
    "age = int(input(\"Enter the person's age: \"))\n",
    "\n",
    "if 13 <= age <= 19:\n",
    "    print(\"The person is a teenager.\")\n",
    "else:\n",
    "    print(\"The person is not a teenager.\")"
   ]
  },
  {
   "cell_type": "markdown",
   "id": "63c6b07f",
   "metadata": {},
   "source": [
    "##### 16. Develop a program that determines the type of angle based on its measure (acute, obtuse, or right)"
   ]
  },
  {
   "cell_type": "code",
   "execution_count": 25,
   "id": "7d11eee5",
   "metadata": {},
   "outputs": [
    {
     "name": "stdout",
     "output_type": "stream",
     "text": [
      "Enter the angle measure in degrees: 89\n",
      "The angle is Acute.\n"
     ]
    }
   ],
   "source": [
    "angle = float(input(\"Enter the angle measure in degrees: \"))\n",
    "\n",
    "if angle < 90:\n",
    "    angle_type = \"Acute\"\n",
    "elif angle == 90:\n",
    "    angle_type = \"Right\"\n",
    "else:\n",
    "    angle_type = \"Obtuse\"\n",
    "\n",
    "print(f\"The angle is {angle_type}.\")"
   ]
  },
  {
   "cell_type": "markdown",
   "id": "d1ca0c95",
   "metadata": {},
   "source": [
    "##### 17. Write a Python program to calculate the roots of a quadratic equation."
   ]
  },
  {
   "cell_type": "code",
   "execution_count": 3,
   "id": "d96bf628",
   "metadata": {},
   "outputs": [
    {
     "name": "stdout",
     "output_type": "stream",
     "text": [
      "Enter the coefficient a: 1\n",
      "Enter the coefficient b: 5\n",
      "Enter the coefficient c: 6\n",
      "The roots are -2.0 and -3.0\n"
     ]
    }
   ],
   "source": [
    "import math\n",
    "\n",
    "def calculate_roots(a, b, c):\n",
    "    discriminant = b * b - 4 * a * c\n",
    "    if discriminant > 0:\n",
    "        root1 = (-b + math.sqrt(discriminant)) / (2 * a)\n",
    "        root2 = (-b - math.sqrt(discriminant)) / (2 * a)\n",
    "        print(\"The roots are\", root1, \"and\", root2)\n",
    "    elif discriminant == 0:\n",
    "        root = -b / (2 * a)\n",
    "        print(\"The root is\", root)\n",
    "    else:\n",
    "        print(\"The equation has no real roots\")\n",
    "\n",
    "a = float(input(\"Enter the coefficient a: \"))\n",
    "b = float(input(\"Enter the coefficient b: \"))\n",
    "c = float(input(\"Enter the coefficient c: \"))\n",
    "\n",
    "calculate_roots(a, b, c)"
   ]
  },
  {
   "cell_type": "markdown",
   "id": "eae8e5fb",
   "metadata": {},
   "source": [
    "##### 18. Implement a program to determine the day of the week based on a user-provided number (1 for Monday, 2 for Tuesday, etc.)"
   ]
  },
  {
   "cell_type": "code",
   "execution_count": 26,
   "id": "7d9ecb76",
   "metadata": {},
   "outputs": [
    {
     "name": "stdout",
     "output_type": "stream",
     "text": [
      "Enter a number (1 for Monday, 2 for Tuesday, etc.): 6\n",
      "The day of the week is Saturday.\n"
     ]
    }
   ],
   "source": [
    "day_number = int(input(\"Enter a number (1 for Monday, 2 for Tuesday, etc.): \"))\n",
    "\n",
    "days_of_week = {\n",
    "    1: \"Monday\",\n",
    "    2: \"Tuesday\",\n",
    "    3: \"Wednesday\",\n",
    "    4: \"Thursday\",\n",
    "    5: \"Friday\",\n",
    "    6: \"Saturday\",\n",
    "    7: \"Sunday\"\n",
    "}\n",
    "\n",
    "if day_number >= 1 and day_number <= 7:\n",
    "    day_name = days_of_week[day_number]\n",
    "    print(f\"The day of the week is {day_name}.\")\n",
    "else:\n",
    "    print(\"Invalid input. Please enter a number between 1 and 7.\")"
   ]
  },
  {
   "cell_type": "markdown",
   "id": "e8b14d40",
   "metadata": {},
   "source": [
    "##### 19. Create a program that determines if a year is a leap year and also if it is evenly divisible by 400."
   ]
  },
  {
   "cell_type": "code",
   "execution_count": 27,
   "id": "3c152240",
   "metadata": {},
   "outputs": [
    {
     "name": "stdout",
     "output_type": "stream",
     "text": [
      "Enter a year: 2024\n",
      "2024 is a leap year and evenly divisible by 400.\n"
     ]
    }
   ],
   "source": [
    "year = int(input(\"Enter a year: \"))\n",
    "\n",
    "is_leap_year = False\n",
    "\n",
    "if year % 4 == 0:\n",
    "    if year % 100 == 0:\n",
    "        if year % 400 == 0:\n",
    "            is_leap_year = True\n",
    "    else:\n",
    "        is_leap_year = True\n",
    "\n",
    "if is_leap_year:\n",
    "    print(f\"{year} is a leap year and evenly divisible by 400.\")\n",
    "else:\n",
    "    print(f\"{year} is not a leap year or not evenly divisible by 400.\")"
   ]
  },
  {
   "cell_type": "markdown",
   "id": "022e033b",
   "metadata": {},
   "source": [
    "##### 20. Develop a program that checks if a given number is prime or not using nested if-else statements"
   ]
  },
  {
   "cell_type": "code",
   "execution_count": 28,
   "id": "1997a105",
   "metadata": {},
   "outputs": [
    {
     "name": "stdout",
     "output_type": "stream",
     "text": [
      "Enter a number: 77\n",
      "77 is not a prime number.\n"
     ]
    }
   ],
   "source": [
    "number = int(input(\"Enter a number: \"))\n",
    "\n",
    "if number < 2:\n",
    "    is_prime = False\n",
    "else:\n",
    "    is_prime = True\n",
    "    for i in range(2, int(number**0.5) + 1):\n",
    "        if number % i == 0:\n",
    "            is_prime = False\n",
    "            break\n",
    "\n",
    "if is_prime:\n",
    "    print(f\"{number} is a prime number.\")\n",
    "else:\n",
    "    print(f\"{number} is not a prime number.\")"
   ]
  },
  {
   "cell_type": "markdown",
   "id": "1a544088",
   "metadata": {},
   "source": [
    "## Elif Statements:"
   ]
  },
  {
   "cell_type": "markdown",
   "id": "df1d981b",
   "metadata": {},
   "source": [
    "##### 21. Write a Python program to assign grades based on different ranges of scores using elif statements."
   ]
  },
  {
   "cell_type": "code",
   "execution_count": 29,
   "id": "2ceda4a6",
   "metadata": {},
   "outputs": [
    {
     "name": "stdout",
     "output_type": "stream",
     "text": [
      "Enter the student's score: 69\n",
      "The student's grade is: D\n"
     ]
    }
   ],
   "source": [
    "score = float(input(\"Enter the student's score: \"))\n",
    "\n",
    "if score >= 90:\n",
    "    grade = 'A'\n",
    "elif score >= 80:\n",
    "    grade = 'B'\n",
    "elif score >= 70:\n",
    "    grade = 'C'\n",
    "elif score >= 60:\n",
    "    grade = 'D'\n",
    "else:\n",
    "    grade = 'F'\n",
    "\n",
    "print(f\"The student's grade is: {grade}\")"
   ]
  },
  {
   "cell_type": "markdown",
   "id": "d6adb834",
   "metadata": {},
   "source": [
    "##### 22. Implement a program to determine the type of a triangle based on its angles."
   ]
  },
  {
   "cell_type": "code",
   "execution_count": 30,
   "id": "7fea5fa4",
   "metadata": {},
   "outputs": [
    {
     "name": "stdout",
     "output_type": "stream",
     "text": [
      "Enter the length of the first side: 78\n",
      "Enter the length of the second side: 78\n",
      "Enter the length of the third side: 78\n",
      "The triangle is equilateral.\n"
     ]
    }
   ],
   "source": [
    "side1 = float(input(\"Enter the length of the first side: \"))\n",
    "side2 = float(input(\"Enter the length of the second side: \"))\n",
    "side3 = float(input(\"Enter the length of the third side: \"))\n",
    "\n",
    "if side1 + side2 > side3 and side1 + side3 > side2 and side2 + side3 > side1:\n",
    "    # Check for equilateral\n",
    "    if side1 == side2 == side3:\n",
    "        triangle_type = \"equilateral\"\n",
    "    # Check for isosceles\n",
    "    elif side1 == side2 or side1 == side3 or side2 == side3:\n",
    "        triangle_type = \"isosceles\"\n",
    "    # If not equilateral or isosceles, it's scalene\n",
    "    else:\n",
    "        triangle_type = \"scalene\"\n",
    "else:\n",
    "    print(\"Not a valid triangle.\")\n",
    "    triangle_type = \"invalid\"\n",
    "\n",
    "print(f\"The triangle is {triangle_type}.\")"
   ]
  },
  {
   "cell_type": "markdown",
   "id": "5a2278be",
   "metadata": {},
   "source": [
    "##### 23. Develop a program to categorize a given person's BMI into underweight, normal, overweight, or obese using elif statements."
   ]
  },
  {
   "cell_type": "code",
   "execution_count": 31,
   "id": "91203e3f",
   "metadata": {},
   "outputs": [
    {
     "name": "stdout",
     "output_type": "stream",
     "text": [
      "Enter weight in kilograms: 73\n",
      "Enter height in meters: 1.71\n",
      "The person's BMI is 24.96, which is categorized as Obese.\n"
     ]
    }
   ],
   "source": [
    "weight = float(input(\"Enter weight in kilograms: \"))\n",
    "height = float(input(\"Enter height in meters: \"))\n",
    "\n",
    "bmi = weight / (height ** 2)\n",
    "\n",
    "if bmi < 18.5:\n",
    "    category = \"Underweight\"\n",
    "elif 18.5 <= bmi < 24.9:\n",
    "    category = \"Normal Weight\"\n",
    "elif 25 <= bmi < 29.9:\n",
    "    category = \"Overweight\"\n",
    "else:\n",
    "    category = \"Obese\"\n",
    "\n",
    "print(f\"The person's BMI is {bmi:.2f}, which is categorized as {category}.\")"
   ]
  },
  {
   "cell_type": "markdown",
   "id": "7d39cd13",
   "metadata": {},
   "source": [
    "##### 24. Create a program that determines whether a given number is positive, negative, or zero using elif statements."
   ]
  },
  {
   "cell_type": "code",
   "execution_count": 32,
   "id": "4204f7df",
   "metadata": {},
   "outputs": [
    {
     "name": "stdout",
     "output_type": "stream",
     "text": [
      "Enter a number: 78\n",
      "The number is positive.\n"
     ]
    }
   ],
   "source": [
    "number = float(input(\"Enter a number: \"))\n",
    "\n",
    "if number > 0:\n",
    "    print(\"The number is positive.\")\n",
    "elif number < 0:\n",
    "    print(\"The number is negative.\")\n",
    "else:\n",
    "    print(\"The number is zero.\")"
   ]
  },
  {
   "cell_type": "markdown",
   "id": "16ee3b29",
   "metadata": {},
   "source": [
    "##### 25. Write a Python script to determine the type of a character (uppercase, lowercase, or special) using elif statements."
   ]
  },
  {
   "cell_type": "code",
   "execution_count": 41,
   "id": "c5ad85f5",
   "metadata": {},
   "outputs": [
    {
     "name": "stdout",
     "output_type": "stream",
     "text": [
      "Enter a character: h\n",
      "The character 'h' is of type: Lowercase\n"
     ]
    }
   ],
   "source": [
    "char = input(\"Enter a character: \")\n",
    "\n",
    "if char.isalpha():\n",
    "    if char.isupper():\n",
    "        char_type = \"Uppercase\"\n",
    "    elif char.islower():\n",
    "        char_type = \"Lowercase\"\n",
    "else:\n",
    "    char_type = \"Special\"\n",
    "\n",
    "print(f\"The character '{char}' is of type: {char_type}\")"
   ]
  },
  {
   "cell_type": "markdown",
   "id": "bf3f6182",
   "metadata": {},
   "source": [
    "##### 26. Implement a program to calculate the discounted price based on different purchase amounts using elif statements."
   ]
  },
  {
   "cell_type": "code",
   "execution_count": 1,
   "id": "d9fa3c81",
   "metadata": {},
   "outputs": [
    {
     "name": "stdout",
     "output_type": "stream",
     "text": [
      "Enter the purchase amount: $300\n",
      "Purchase Amount: $300.00\n",
      "Discount Rate: 3.00%\n",
      "Discounted Price: $291.00\n"
     ]
    }
   ],
   "source": [
    "purchase_amount = float(input(\"Enter the purchase amount: $\"))\n",
    "\n",
    "discount_rate = 0\n",
    "discounted_price = purchase_amount\n",
    "\n",
    "if purchase_amount >= 1000:\n",
    "    discount_rate = 0.10  \n",
    "elif purchase_amount >= 500:\n",
    "    discount_rate = 0.05  \n",
    "elif purchase_amount >= 200:\n",
    "    discount_rate = 0.03 \n",
    "\n",
    "discounted_price = purchase_amount - (purchase_amount * discount_rate)\n",
    "\n",
    "print(f\"Purchase Amount: ${purchase_amount:.2f}\")\n",
    "print(f\"Discount Rate: {discount_rate * 100:.2f}%\")\n",
    "print(f\"Discounted Price: ${discounted_price:.2f}\")\n"
   ]
  },
  {
   "cell_type": "markdown",
   "id": "40c17d8a",
   "metadata": {},
   "source": [
    "##### 27. Develop a program to calculate the electricity bill based on different consumption slabs using elif statements."
   ]
  },
  {
   "cell_type": "code",
   "execution_count": 4,
   "id": "ffebeaa1",
   "metadata": {},
   "outputs": [
    {
     "name": "stdout",
     "output_type": "stream",
     "text": [
      "Enter the electricity units consumed: 87\n",
      "The electricity bill is: 259.5\n"
     ]
    }
   ],
   "source": [
    "def bill(units):\n",
    "    if units <= 50:\n",
    "        cost_per_unit = 2.60\n",
    "        bill = units * cost_per_unit\n",
    "    elif units <= 100:\n",
    "        cost_per_unit = 3.50\n",
    "        bill = 50 * 2.60 + (units - 50) * 3.50\n",
    "    elif units <= 200:\n",
    "        cost_per_unit = 4.60\n",
    "        bill = 50 * 2.60 + 50 * 3.50 + (units - 100) * 4.60\n",
    "    else:\n",
    "        cost_per_unit = 5.60\n",
    "        bill = 50 * 2.60 + 50 * 3.50 + 100 * 4.60 + (units - 200) * 5.60\n",
    "\n",
    "    return bill\n",
    "\n",
    "\n",
    "units = int(input(\"Enter the electricity units consumed: \"))\n",
    "\n",
    "total_bill = bill(units)\n",
    "\n",
    "print(\"The electricity bill is:\", total_bill)"
   ]
  },
  {
   "cell_type": "markdown",
   "id": "3b5de526",
   "metadata": {},
   "source": [
    "##### 28. Create a program to determine the type of quadrilateral based on its angles and sides using elif statements."
   ]
  },
  {
   "cell_type": "code",
   "execution_count": 2,
   "id": "99229ba4",
   "metadata": {},
   "outputs": [
    {
     "name": "stdout",
     "output_type": "stream",
     "text": [
      "Enter the first angle: 90\n",
      "Enter the second angle: 90\n",
      "Enter the third angle: 90\n",
      "Enter the fourth angle: 90\n",
      "Enter the length of the first side: 50\n",
      "Enter the length of the second side: 50\n",
      "Enter the length of the third side: 50\n",
      "Enter the length of the fourth side: 50\n",
      "It's a square\n"
     ]
    }
   ],
   "source": [
    "angle1 = int(input(\"Enter the first angle: \"))\n",
    "angle2 = int(input(\"Enter the second angle: \"))\n",
    "angle3 = int(input(\"Enter the third angle: \"))\n",
    "angle4 = int(input(\"Enter the fourth angle: \"))\n",
    "\n",
    "side1 = float(input(\"Enter the length of the first side: \"))\n",
    "side2 = float(input(\"Enter the length of the second side: \"))\n",
    "side3 = float(input(\"Enter the length of the third side: \"))\n",
    "side4 = float(input(\"Enter the length of the fourth side: \"))\n",
    "\n",
    "if angle1 == angle2 == angle3 == angle4 == 90:\n",
    "    if side1 == side2 == side3 == side4:\n",
    "        print(\"It's a square\")\n",
    "    else:\n",
    "        print(\"It's a rectangle\")\n",
    "elif angle1 == angle2 == angle3 == angle4:\n",
    "    if side1 == side2 == side3 == side4:\n",
    "        print(\"It's a rhombus\")\n",
    "    else:\n",
    "        print(\"It's a parallelogram\")\n",
    "elif side1 == side2 and side3 == side4:\n",
    "    print(\"It's a trapezoid\")\n",
    "else:\n",
    "    print(\"It's a general quadrilateral\")\n"
   ]
  },
  {
   "cell_type": "markdown",
   "id": "f4533b37",
   "metadata": {},
   "source": [
    "##### 29. Write a Python script to determine the season based on a user-provided month using elif statements."
   ]
  },
  {
   "cell_type": "code",
   "execution_count": 1,
   "id": "24130889",
   "metadata": {},
   "outputs": [
    {
     "name": "stdout",
     "output_type": "stream",
     "text": [
      "Enter the month (1-12): 6\n",
      "The season is: Summer\n"
     ]
    }
   ],
   "source": [
    "def determine_season(month):\n",
    "    if month in (1, 2, 3):\n",
    "        return \"Spring\"\n",
    "    elif month in (4, 5, 6):\n",
    "        return \"Summer\"\n",
    "    elif month in (7, 8, 9):\n",
    "        return \"Fall\"\n",
    "    else:\n",
    "        return \"Winter\"\n",
    "\n",
    "\n",
    "month = int(input(\"Enter the month (1-12): \"))\n",
    "\n",
    "season = determine_season(month)\n",
    "\n",
    "print(\"The season is:\", season)"
   ]
  },
  {
   "cell_type": "markdown",
   "id": "2af72484",
   "metadata": {},
   "source": [
    "##### 30. Implement a program to determine the type of a year (leap or common) and month (30 or 31 days) using elif statements."
   ]
  },
  {
   "cell_type": "code",
   "execution_count": 7,
   "id": "c7798de4",
   "metadata": {},
   "outputs": [
    {
     "name": "stdout",
     "output_type": "stream",
     "text": [
      "Enter the year: 2001\n",
      "Enter the month: February\n",
      "2001 is a not a leap year\n",
      "February has 28 days in year 2001\n"
     ]
    }
   ],
   "source": [
    "year = int(input(\"Enter the year: \"))\n",
    "month = input(\"Enter the month: \")\n",
    "\n",
    "list31 = ['January', 'March', 'May', 'July', 'August', 'October', 'December']\n",
    "list30 = ['April', 'June', 'September', 'November']\n",
    "feb = ['February']\n",
    "\n",
    "if year%4==0 or year%100==0 or year%400==0:\n",
    "    print(f\"{year} is a leap year\")\n",
    "    if month in list31:\n",
    "        print(f\"{month} has 31 days in year {year}\")\n",
    "    elif month in list30:\n",
    "        print(f\"{month} has 30 days in year {year}\")\n",
    "    else:\n",
    "        print(f\"{month} has 29 days in year {year}\")\n",
    "else:\n",
    "    print(f\"{year} is a not a leap year\")\n",
    "    if month in list31:\n",
    "        print(f\"{month} has 31 days in year {year}\")\n",
    "    elif month in list30:\n",
    "        print(f\"{month} has 30 days in year {year}\")\n",
    "    else:\n",
    "        print(f\"{month} has 28 days in year {year}\")"
   ]
  },
  {
   "cell_type": "markdown",
   "id": "7656942f",
   "metadata": {},
   "source": [
    "## Basic Level:"
   ]
  },
  {
   "cell_type": "markdown",
   "id": "4962ac89",
   "metadata": {},
   "source": [
    "##### 1. Write a Python program that checks if a given number is positive, negative, or zero.\n"
   ]
  },
  {
   "cell_type": "code",
   "execution_count": 49,
   "id": "07559f69",
   "metadata": {},
   "outputs": [
    {
     "name": "stdout",
     "output_type": "stream",
     "text": [
      "Enter a number: 66\n",
      "The number is positive.\n"
     ]
    }
   ],
   "source": [
    "number = float(input(\"Enter a number: \"))\n",
    "\n",
    "if number > 0:\n",
    "    print(\"The number is positive.\")\n",
    "elif number < 0:\n",
    "    print(\"The number is negative.\")\n",
    "else:\n",
    "    print(\"The number is zero.\")"
   ]
  },
  {
   "cell_type": "markdown",
   "id": "50249998",
   "metadata": {},
   "source": [
    "##### 2. Create a program to determine if a person is eligible to vote based on their age.\n"
   ]
  },
  {
   "cell_type": "code",
   "execution_count": 50,
   "id": "858063bb",
   "metadata": {},
   "outputs": [
    {
     "name": "stdout",
     "output_type": "stream",
     "text": [
      "Enter your age: 18\n",
      "You are eligible to vote.\n"
     ]
    }
   ],
   "source": [
    "age = int(input(\"Enter your age: \"))\n",
    "\n",
    "if age >= 18:\n",
    "    print(\"You are eligible to vote.\")\n",
    "else:\n",
    "    print(\"You are not eligible to vote.\")"
   ]
  },
  {
   "cell_type": "markdown",
   "id": "e1e19888",
   "metadata": {},
   "source": [
    "##### 3. Write a program to find the maximum of two given numbers using conditional statements.\n"
   ]
  },
  {
   "cell_type": "code",
   "execution_count": 51,
   "id": "651ac94a",
   "metadata": {},
   "outputs": [
    {
     "name": "stdout",
     "output_type": "stream",
     "text": [
      "Enter the first number: 8\n",
      "Enter the second number: 0\n",
      "The maximum number is: 8.0\n"
     ]
    }
   ],
   "source": [
    "num1 = float(input(\"Enter the first number: \"))\n",
    "num2 = float(input(\"Enter the second number: \"))\n",
    "\n",
    "if num1 > num2:\n",
    "    maximum = num1\n",
    "else:\n",
    "    maximum = num2\n",
    "\n",
    "print(f\"The maximum number is: {maximum}\")"
   ]
  },
  {
   "cell_type": "markdown",
   "id": "3ecfedef",
   "metadata": {},
   "source": [
    "##### 4. Develop a program that calculates the grade of a student based on their exam score.\n"
   ]
  },
  {
   "cell_type": "code",
   "execution_count": 52,
   "id": "fe1bbeb6",
   "metadata": {},
   "outputs": [
    {
     "name": "stdout",
     "output_type": "stream",
     "text": [
      "Enter the student's score: 93\n",
      "The student's grade is: A\n"
     ]
    }
   ],
   "source": [
    "score = float(input(\"Enter the student's score: \"))\n",
    "\n",
    "if score >= 90:\n",
    "    grade = 'A'\n",
    "elif score >= 80:\n",
    "    grade = 'B'\n",
    "elif score >= 70:\n",
    "    grade = 'C'\n",
    "elif score >= 60:\n",
    "    grade = 'D'\n",
    "else:\n",
    "    grade = 'F'\n",
    "\n",
    "print(f\"The student's grade is: {grade}\")"
   ]
  },
  {
   "cell_type": "markdown",
   "id": "7ecfff2f",
   "metadata": {},
   "source": [
    "##### 5. Create a program that checks if a year is a leap year or not.\n"
   ]
  },
  {
   "cell_type": "code",
   "execution_count": 53,
   "id": "407333d0",
   "metadata": {},
   "outputs": [
    {
     "name": "stdout",
     "output_type": "stream",
     "text": [
      "Enter a year: 2004\n",
      "2004 is a leap year.\n"
     ]
    }
   ],
   "source": [
    "year = int(input(\"Enter a year: \"))\n",
    "\n",
    "if (year % 4 == 0 and year % 100 != 0) or (year % 400 == 0):\n",
    "    print(f\"{year} is a leap year.\")\n",
    "else:\n",
    "    print(f\"{year} is not a leap year.\")"
   ]
  },
  {
   "cell_type": "markdown",
   "id": "0189921b",
   "metadata": {},
   "source": [
    "##### 6. Write a program to classify a triangle based on its sides' lengths.\n"
   ]
  },
  {
   "cell_type": "code",
   "execution_count": 56,
   "id": "fc3732f1",
   "metadata": {},
   "outputs": [
    {
     "name": "stdout",
     "output_type": "stream",
     "text": [
      "Enter the length of the first side: 56\n",
      "Enter the length of the second side: 78\n",
      "Enter the length of the third side: 56\n",
      "The triangle is isosceles.\n"
     ]
    }
   ],
   "source": [
    "side1 = float(input(\"Enter the length of the first side: \"))\n",
    "side2 = float(input(\"Enter the length of the second side: \"))\n",
    "side3 = float(input(\"Enter the length of the third side: \"))\n",
    "\n",
    "if side1 + side2 > side3 and side1 + side3 > side2 and side2 + side3 > side1:\n",
    "    # Check for equilateral\n",
    "    if side1 == side2 == side3:\n",
    "        triangle_type = \"equilateral\"\n",
    "    # Check for isosceles\n",
    "    elif side1 == side2 or side1 == side3 or side2 == side3:\n",
    "        triangle_type = \"isosceles\"\n",
    "    # If not equilateral or isosceles, it's scalene\n",
    "    else:\n",
    "        triangle_type = \"scalene\"\n",
    "else:\n",
    "    print(\"Not a valid triangle.\")\n",
    "    triangle_type = \"invalid\"\n",
    "\n",
    "print(f\"The triangle is {triangle_type}.\")"
   ]
  },
  {
   "cell_type": "markdown",
   "id": "4309e4d7",
   "metadata": {},
   "source": [
    "##### 7. Build a program that determines the largest of three given numbers.\n"
   ]
  },
  {
   "cell_type": "code",
   "execution_count": 57,
   "id": "7dbb7ac4",
   "metadata": {},
   "outputs": [
    {
     "name": "stdout",
     "output_type": "stream",
     "text": [
      "Enter the first number: 563421\n",
      "Enter the second number: 56\n",
      "Enter the third number: 755\n",
      "The largest number is: 563421.0\n"
     ]
    }
   ],
   "source": [
    "num1 = float(input(\"Enter the first number: \"))\n",
    "num2 = float(input(\"Enter the second number: \"))\n",
    "num3 = float(input(\"Enter the third number: \"))\n",
    "\n",
    "if num1 >= num2:\n",
    "    if num1 >= num3:\n",
    "        largest = num1\n",
    "    else:\n",
    "        largest = num3\n",
    "else:\n",
    "    if num2 >= num3:\n",
    "        largest = num2\n",
    "    else:\n",
    "        largest = num3\n",
    "\n",
    "print(f\"The largest number is: {largest}\")"
   ]
  },
  {
   "cell_type": "markdown",
   "id": "32ebf0d1",
   "metadata": {},
   "source": [
    "##### 8. Develop a program that checks whether a character is a vowel or a consonant.\n"
   ]
  },
  {
   "cell_type": "code",
   "execution_count": 60,
   "id": "8632c13a",
   "metadata": {},
   "outputs": [
    {
     "name": "stdout",
     "output_type": "stream",
     "text": [
      "Enter a character: L\n",
      "l is a consonant.\n"
     ]
    }
   ],
   "source": [
    "char = input(\"Enter a character: \")\n",
    "\n",
    "char = char.lower()\n",
    "\n",
    "if char.isalpha() and len(char) == 1:\n",
    "    if char in 'aeiou':\n",
    "        print(f\"{char} is a vowel.\")\n",
    "    else:\n",
    "        print(f\"{char} is a consonant.\")\n",
    "else:\n",
    "    print(\"Invalid input. Please enter a single alphabetical character.\")"
   ]
  },
  {
   "cell_type": "markdown",
   "id": "39d31021",
   "metadata": {},
   "source": [
    "##### 9. Create a program to calculate the total cost of a shopping cart based on discounts.\n"
   ]
  },
  {
   "cell_type": "code",
   "execution_count": 3,
   "id": "727c799f",
   "metadata": {},
   "outputs": [
    {
     "name": "stdout",
     "output_type": "stream",
     "text": [
      "Shopping Cart Items:\n",
      "item1: $10.00 x 2 = $20.00\n",
      "item2: $20.00 x 1 = $20.00\n",
      "item3: $5.00 x 3 = $15.00\n",
      "item4: $15.00 x 2 = $30.00\n",
      "item5: $8.00 x 4 = $32.00\n",
      "Total Cost: $117.00\n",
      "Discount: $11.70\n",
      "Final Total Cost: $105.30\n"
     ]
    }
   ],
   "source": [
    "item_prices = {\n",
    "    \"item1\": 10.0,\n",
    "    \"item2\": 20.0,\n",
    "    \"item3\": 5.0,\n",
    "    \"item4\": 15.0,\n",
    "    \"item5\": 8.0,\n",
    "}\n",
    "\n",
    "item_quantities = {\n",
    "    \"item1\": 2,\n",
    "    \"item2\": 1,\n",
    "    \"item3\": 3,\n",
    "    \"item4\": 2,\n",
    "    \"item5\": 4,\n",
    "}\n",
    "\n",
    "total_cost = sum(item_prices[item] * item_quantities[item] for item in item_prices)\n",
    "\n",
    "if total_cost >= 100:\n",
    "    discount = total_cost * 0.10  # 10% discount for total cost over $100\n",
    "elif total_cost >= 50:\n",
    "    discount = total_cost * 0.05  # 5% discount for total cost between $50 and $99\n",
    "else:\n",
    "    discount = 0\n",
    "\n",
    "final_total_cost = total_cost - discount\n",
    "\n",
    "print(\"Shopping Cart Items:\")\n",
    "for item, price in item_prices.items():\n",
    "    quantity = item_quantities.get(item, 0)\n",
    "    if quantity > 0:\n",
    "        print(f\"{item}: ${price:.2f} x {quantity} = ${price * quantity:.2f}\")\n",
    "print(f\"Total Cost: ${total_cost:.2f}\")\n",
    "print(f\"Discount: ${discount:.2f}\")\n",
    "print(f\"Final Total Cost: ${final_total_cost:.2f}\")\n"
   ]
  },
  {
   "cell_type": "markdown",
   "id": "a61c9d09",
   "metadata": {},
   "source": [
    "##### 10. Write a program that checks if a given number is even or odd."
   ]
  },
  {
   "cell_type": "code",
   "execution_count": 61,
   "id": "039206f2",
   "metadata": {},
   "outputs": [
    {
     "name": "stdout",
     "output_type": "stream",
     "text": [
      "Enter a number: 66\n",
      "66 is an even number.\n"
     ]
    }
   ],
   "source": [
    "number = int(input(\"Enter a number: \"))\n",
    "\n",
    "if number % 2 == 0:\n",
    "    print(f\"{number} is an even number.\")\n",
    "else:\n",
    "    print(f\"{number} is an odd number.\")"
   ]
  },
  {
   "cell_type": "markdown",
   "id": "c654a3fb",
   "metadata": {},
   "source": [
    "## Intermediate Level:"
   ]
  },
  {
   "cell_type": "markdown",
   "id": "016c187c",
   "metadata": {},
   "source": [
    "##### 11. Write a program that calculates the roots of a quadratic equation .\n"
   ]
  },
  {
   "cell_type": "code",
   "execution_count": 5,
   "id": "4e0b925c",
   "metadata": {},
   "outputs": [
    {
     "name": "stdout",
     "output_type": "stream",
     "text": [
      "Enter the coefficient 'a': 23\n",
      "Enter the coefficient 'b': 45\n",
      "Enter the coefficient 'c': 10\n",
      "Two real and distinct roots: -0.25561868962631906 and -1.700903049504116\n"
     ]
    }
   ],
   "source": [
    "import math\n",
    "\n",
    "a = float(input(\"Enter the coefficient 'a': \"))\n",
    "b = float(input(\"Enter the coefficient 'b': \"))\n",
    "c = float(input(\"Enter the coefficient 'c': \"))\n",
    "\n",
    "discriminant = b**2 - 4 * a * c\n",
    "\n",
    "if discriminant > 0:\n",
    "    root1 = (-b + math.sqrt(discriminant)) / (2 * a)\n",
    "    root2 = (-b - math.sqrt(discriminant)) / (2 * a)\n",
    "    print(f\"Two real and distinct roots: {root1} and {root2}\")\n",
    "elif discriminant == 0:\n",
    "    root1 = -b / (2 * a)\n",
    "    print(f\"One real root: {root1}\")\n",
    "else:\n",
    "    realPart = -b / (2 * a)\n",
    "    imagPart = math.sqrt(-discriminant) / (2 * a)\n",
    "    print(f\"Complex roots: {realPart} + {imagPart}i and {realPart} - {imagPart}i\")\n"
   ]
  },
  {
   "cell_type": "markdown",
   "id": "29f9ca86",
   "metadata": {},
   "source": [
    "##### 12. Create a program that determines the day of the week based on the day number (1-7).\n"
   ]
  },
  {
   "cell_type": "code",
   "execution_count": 62,
   "id": "87eaaee5",
   "metadata": {},
   "outputs": [
    {
     "name": "stdout",
     "output_type": "stream",
     "text": [
      "Enter a number (1 for Monday, 2 for Tuesday, etc.): 3\n",
      "The day of the week is Wednesday.\n"
     ]
    }
   ],
   "source": [
    "day_number = int(input(\"Enter a number (1 for Monday, 2 for Tuesday, etc.): \"))\n",
    "\n",
    "days_of_week = {\n",
    "    1: \"Monday\",\n",
    "    2: \"Tuesday\",\n",
    "    3: \"Wednesday\",\n",
    "    4: \"Thursday\",\n",
    "    5: \"Friday\",\n",
    "    6: \"Saturday\",\n",
    "    7: \"Sunday\"\n",
    "}\n",
    "\n",
    "if day_number >= 1 and day_number <= 7:\n",
    "    day_name = days_of_week[day_number]\n",
    "    print(f\"The day of the week is {day_name}.\")\n",
    "else:\n",
    "    print(\"Invalid input. Please enter a number between 1 and 7.\")"
   ]
  },
  {
   "cell_type": "markdown",
   "id": "4ab62b6d",
   "metadata": {},
   "source": [
    "##### 13. Develop a program that calculates the factorial of a given number using recursion.\n"
   ]
  },
  {
   "cell_type": "code",
   "execution_count": 8,
   "id": "746c3fd4",
   "metadata": {},
   "outputs": [
    {
     "name": "stdout",
     "output_type": "stream",
     "text": [
      "Enter a number: 5\n",
      "The factorial of 5 is 120\n"
     ]
    }
   ],
   "source": [
    "def factorial(n):\n",
    "    if n == 0:\n",
    "        return 1\n",
    "    else:\n",
    "        return n * factorial(n - 1)\n",
    "\n",
    "\n",
    "number = int(input(\"Enter a number: \"))\n",
    "\n",
    "factorial_of_number = factorial(number)\n",
    "\n",
    "print(\"The factorial of\", number, \"is\", factorial_of_number)"
   ]
  },
  {
   "cell_type": "markdown",
   "id": "4c38bc39",
   "metadata": {},
   "source": [
    "##### 14. Write a program to find the largest among three numbers without using the `max()` function."
   ]
  },
  {
   "cell_type": "code",
   "execution_count": 63,
   "id": "9e1acaec",
   "metadata": {},
   "outputs": [
    {
     "name": "stdout",
     "output_type": "stream",
     "text": [
      "Enter the first number: 1\n",
      "Enter the second number: 2\n",
      "Enter the third number: 3\n",
      "The largest number is: 3.0\n"
     ]
    }
   ],
   "source": [
    "num1 = float(input(\"Enter the first number: \"))\n",
    "num2 = float(input(\"Enter the second number: \"))\n",
    "num3 = float(input(\"Enter the third number: \"))\n",
    "\n",
    "if num1 >= num2:\n",
    "    if num1 >= num3:\n",
    "        largest = num1\n",
    "    else:\n",
    "        largest = num3\n",
    "else:\n",
    "    if num2 >= num3:\n",
    "        largest = num2\n",
    "    else:\n",
    "        largest = num3\n",
    "\n",
    "print(f\"The largest number is: {largest}\")"
   ]
  },
  {
   "cell_type": "markdown",
   "id": "103da897",
   "metadata": {},
   "source": [
    "##### 15. Create a program that simulates a basic ATM transaction menu.\n"
   ]
  },
  {
   "cell_type": "code",
   "execution_count": 6,
   "id": "ebd78428",
   "metadata": {},
   "outputs": [
    {
     "name": "stdout",
     "output_type": "stream",
     "text": [
      "\n",
      "ATM Menu:\n",
      "1. Display Balance\n",
      "2. Deposit Money\n",
      "3. Withdraw Money\n",
      "4. Exit\n",
      "Enter your choice (1/2/3/4): 1\n",
      "Your account balance is $1000.00\n",
      "\n",
      "ATM Menu:\n",
      "1. Display Balance\n",
      "2. Deposit Money\n",
      "3. Withdraw Money\n",
      "4. Exit\n",
      "Enter your choice (1/2/3/4): 3\n",
      "Enter the amount you want to withdraw: $450\n",
      "$450.00 has been withdrawn from your account.\n",
      "\n",
      "ATM Menu:\n",
      "1. Display Balance\n",
      "2. Deposit Money\n",
      "3. Withdraw Money\n",
      "4. Exit\n",
      "Enter your choice (1/2/3/4): 1\n",
      "Your account balance is $550.00\n",
      "\n",
      "ATM Menu:\n",
      "1. Display Balance\n",
      "2. Deposit Money\n",
      "3. Withdraw Money\n",
      "4. Exit\n",
      "Enter your choice (1/2/3/4): 4\n",
      "Thank you for using the ATM. Have a nice day!\n"
     ]
    }
   ],
   "source": [
    "account_balance = 1000\n",
    "\n",
    "def display_balance():\n",
    "    print(f\"Your account balance is ${account_balance:.2f}\")\n",
    "\n",
    "def deposit():\n",
    "    global account_balance\n",
    "    amount = float(input(\"Enter the amount you want to deposit: $\"))\n",
    "    if amount > 0:\n",
    "        account_balance += amount\n",
    "        print(f\"${amount:.2f} has been deposited into your account.\")\n",
    "    else:\n",
    "        print(\"Invalid amount. Deposit failed.\")\n",
    "\n",
    "def withdraw():\n",
    "    global account_balance\n",
    "    amount = float(input(\"Enter the amount you want to withdraw: $\"))\n",
    "    if 0 < amount <= account_balance:\n",
    "        account_balance -= amount\n",
    "        print(f\"${amount:.2f} has been withdrawn from your account.\")\n",
    "    else:\n",
    "        print(\"Insufficient funds or invalid amount. Withdrawal failed.\")\n",
    "\n",
    "while True:\n",
    "    print(\"\\nATM Menu:\")\n",
    "    print(\"1. Display Balance\")\n",
    "    print(\"2. Deposit Money\")\n",
    "    print(\"3. Withdraw Money\")\n",
    "    print(\"4. Exit\")\n",
    "\n",
    "    choice = input(\"Enter your choice (1/2/3/4): \")\n",
    "\n",
    "    if choice == \"1\":\n",
    "        display_balance()\n",
    "    elif choice == \"2\":\n",
    "        deposit()\n",
    "    elif choice == \"3\":\n",
    "        withdraw()\n",
    "    elif choice == \"4\":\n",
    "        print(\"Thank you for using the ATM. Have a nice day!\")\n",
    "        break\n",
    "    else:\n",
    "        print(\"Invalid choice. Please select a valid option (1/2/3/4).\")\n"
   ]
  },
  {
   "cell_type": "markdown",
   "id": "cc3aee62",
   "metadata": {},
   "source": [
    "##### 16. Build a program that checks if a given string is a palindrome or not.\n"
   ]
  },
  {
   "cell_type": "code",
   "execution_count": 64,
   "id": "c8393143",
   "metadata": {},
   "outputs": [
    {
     "name": "stdout",
     "output_type": "stream",
     "text": [
      "Enter a string: SAAS21SAAS\n",
      "The string is not a palindrome.\n"
     ]
    }
   ],
   "source": [
    "string = input(\"Enter a string: \")\n",
    "\n",
    "string = string.replace(\" \", \"\").lower()\n",
    "\n",
    "if string == string[::-1]:\n",
    "    print(\"The string is a palindrome.\")\n",
    "else:\n",
    "    print(\"The string is not a palindrome.\")"
   ]
  },
  {
   "cell_type": "markdown",
   "id": "c3702412",
   "metadata": {},
   "source": [
    "##### 17. Write a program that calculates the average of a list of numbers, excluding the smallest and largest values.\n"
   ]
  },
  {
   "cell_type": "code",
   "execution_count": 7,
   "id": "839b123e",
   "metadata": {},
   "outputs": [
    {
     "name": "stdout",
     "output_type": "stream",
     "text": [
      "Enter a list of numbers separated by spaces: 1 2 34 56 67 7\n",
      "Average (excluding smallest and largest values): 24.75\n"
     ]
    }
   ],
   "source": [
    "numbers = [float(x) for x in input(\"Enter a list of numbers separated by spaces: \").split()]\n",
    "\n",
    "if len(numbers) < 3:\n",
    "    print(\"Please enter at least 3 numbers to calculate the average.\")\n",
    "else:\n",
    "    numbers.remove(min(numbers))\n",
    "    numbers.remove(max(numbers))\n",
    "\n",
    "    average = sum(numbers) / len(numbers)\n",
    "\n",
    "    print(\"Average (excluding smallest and largest values):\", average)"
   ]
  },
  {
   "cell_type": "markdown",
   "id": "9464b28d",
   "metadata": {},
   "source": [
    "##### 18. Develop a program that converts a given temperature from Celsius to Fahrenheit.\n"
   ]
  },
  {
   "cell_type": "code",
   "execution_count": 7,
   "id": "0bd9c2c7",
   "metadata": {},
   "outputs": [
    {
     "name": "stdout",
     "output_type": "stream",
     "text": [
      "Enter the temperature in Celsius: 100\n",
      "The temperature in Fahrenheit is: 212.0\n"
     ]
    }
   ],
   "source": [
    "def convert(celsius):\n",
    "    fahrenheit = celsius * 9 / 5 + 32\n",
    "    return fahrenheit\n",
    "\n",
    "celsius = float(input(\"Enter the temperature in Celsius: \"))\n",
    "\n",
    "fahrenheit = convert(celsius)\n",
    "\n",
    "print(\"The temperature in Fahrenheit is:\", fahrenheit)"
   ]
  },
  {
   "cell_type": "markdown",
   "id": "1f94c3b6",
   "metadata": {},
   "source": [
    "##### 19. Create a program that simulates a basic calculator for addition, subtraction, multiplication, and division.\n"
   ]
  },
  {
   "cell_type": "code",
   "execution_count": 2,
   "id": "d68532e4",
   "metadata": {},
   "outputs": [
    {
     "name": "stdout",
     "output_type": "stream",
     "text": [
      "Select operation.\n",
      "1. Addition\n",
      "2. Subtraction\n",
      "3. Multiplication\n",
      "4. Division\n",
      "Enter operation (1/2/3/4): 2\n",
      "Enter first number: 67\n",
      "Enter second number: 43\n",
      "67.0 - 43.0 = 24.0\n"
     ]
    }
   ],
   "source": [
    "print(\"Select operation.\")\n",
    "print(\"1. Addition\")\n",
    "print(\"2. Subtraction\")\n",
    "print(\"3. Multiplication\")\n",
    "print(\"4. Division\")\n",
    "\n",
    "operation = int(input(\"Enter operation (1/2/3/4): \"))\n",
    "\n",
    "num1 = float(input(\"Enter first number: \"))\n",
    "num2 = float(input(\"Enter second number: \"))\n",
    "\n",
    "if operation == 1:\n",
    "    print(num1, \"+\", num2, \"=\", num1+num2)\n",
    "elif operation == 2:\n",
    "    print(num1, \"-\", num2, \"=\", num1-num2)\n",
    "elif operation == 3:\n",
    "    print(num1, \"*\", num2, \"=\", num1*num2)\n",
    "elif operation == 4:\n",
    "    print(num1, \"/\", num2, \"=\", num1/num2)\n",
    "else:\n",
    "    print(\"Invalid operation\")"
   ]
  },
  {
   "cell_type": "markdown",
   "id": "55ac5a36",
   "metadata": {},
   "source": [
    "##### 20. Write a program that determines the roots of a cubic equation using the Cardano formula."
   ]
  },
  {
   "cell_type": "code",
   "execution_count": 1,
   "id": "09f46f81",
   "metadata": {},
   "outputs": [
    {
     "name": "stdout",
     "output_type": "stream",
     "text": [
      "Enter the coefficient a: 125\n",
      "Enter the coefficient b: 225\n",
      "Enter the coefficient c: 8\n",
      "Enter the coefficient d: 12\n",
      "Roots of the cubic equation:\n",
      "Root 1: (-0.0029241724064223984+1.0341656693633114j)\n"
     ]
    }
   ],
   "source": [
    "import math\n",
    "\n",
    "def cubic_roots(a, b, c, d):\n",
    "    p = c / a - (b ** 2) / (3 * a ** 2)\n",
    "    q = (2 * (b ** 3)) / (27 * a ** 3) - (b * c) / (3 * a ** 2) + d / a\n",
    "    discriminant = (q ** 2) / 4 + (p ** 3) / 27\n",
    "\n",
    "    if discriminant > 0:\n",
    "        sqrt_discriminant = math.sqrt(discriminant)\n",
    "        u = (-q / 2 + sqrt_discriminant) ** (1 / 3)\n",
    "        v = (-q / 2 - sqrt_discriminant) ** (1 / 3)\n",
    "        real_root = u + v - b / (3 * a)\n",
    "        return [real_root]\n",
    "    elif discriminant == 0:\n",
    "        u = (-q / 2) ** (1 / 3)\n",
    "        real_root = 2 * u - b / (3 * a)\n",
    "        complex_root1 = -u - b / (3 * a) + (u * math.sqrt(3)) * 1j\n",
    "        complex_root2 = -u - b / (3 * a) - (u * math.sqrt(3)) * 1j\n",
    "        return [real_root, complex_root1, complex_root2]\n",
    "    else:\n",
    "        angle = math.acos(-math.sqrt(-p ** 3) / (q * 2))  # Angle in radians\n",
    "        sqrt_discriminant = math.sqrt(-p / 3)\n",
    "        root1 = 2 * sqrt_discriminant * math.cos(angle / 3) - b / (3 * a)\n",
    "        root2 = 2 * sqrt_discriminant * math.cos((angle + 2 * math.pi) / 3) - b / (3 * a)\n",
    "        root3 = 2 * sqrt_discriminant * math.cos((angle + 4 * math.pi) / 3) - b / (3 * a)\n",
    "        return [root1, root2, root3]\n",
    "\n",
    "a = float(input(\"Enter the coefficient a: \"))\n",
    "b = float(input(\"Enter the coefficient b: \"))\n",
    "c = float(input(\"Enter the coefficient c: \"))\n",
    "d = float(input(\"Enter the coefficient d: \"))\n",
    "\n",
    "if a != 0:\n",
    "    roots = cubic_roots(a, b, c, d)\n",
    "    print(\"Roots of the cubic equation:\")\n",
    "    for i, root in enumerate(roots):\n",
    "        print(f\"Root {i + 1}: {root}\")\n",
    "else:\n",
    "    print(\"Invalid input. 'a' should be non-zero for a cubic equation.\")\n"
   ]
  },
  {
   "cell_type": "markdown",
   "id": "2391eb4f",
   "metadata": {},
   "source": [
    "## Advanced Level:"
   ]
  },
  {
   "cell_type": "markdown",
   "id": "833d0ab8",
   "metadata": {},
   "source": [
    "##### 21. Create a program that calculates the income tax based on the user's income and tax brackets."
   ]
  },
  {
   "cell_type": "code",
   "execution_count": 1,
   "id": "a329d9cc",
   "metadata": {},
   "outputs": [
    {
     "name": "stdout",
     "output_type": "stream",
     "text": [
      "Enter your income: 70000\n",
      "Your income tax is: $ 15000.0\n"
     ]
    }
   ],
   "source": [
    "tax_brackets = [\n",
    "    (10000, 0.10),\n",
    "    (40000, 0.20),\n",
    "    (80000, 0.30),\n",
    "]\n",
    "\n",
    "def calculate_income_tax(income):\n",
    "    tax_owed = 0\n",
    "    remaining_income = income\n",
    "\n",
    "    for bracket in tax_brackets:\n",
    "        upper_limit, tax_rate = bracket\n",
    "        if remaining_income <= 0:\n",
    "            break\n",
    "        if remaining_income <= upper_limit:\n",
    "            tax_owed += remaining_income * tax_rate\n",
    "            break\n",
    "        else:\n",
    "            tax_owed += upper_limit * tax_rate\n",
    "            remaining_income -= upper_limit\n",
    "\n",
    "    return tax_owed\n",
    "\n",
    "income = float(input(\"Enter your income: \"))\n",
    "\n",
    "income_tax = calculate_income_tax(income)\n",
    "print(\"Your income tax is: $\", income_tax)\n"
   ]
  },
  {
   "cell_type": "markdown",
   "id": "7d198c7b",
   "metadata": {},
   "source": [
    "##### 22. Write a program that simulates a rock-paper-scissors game against the computer."
   ]
  },
  {
   "cell_type": "code",
   "execution_count": 1,
   "id": "fa2b4c8f",
   "metadata": {},
   "outputs": [
    {
     "name": "stdout",
     "output_type": "stream",
     "text": [
      "\n",
      "Rock, Paper, Scissors - Enter your choice:\n",
      "1. Rock\n",
      "2. Paper\n",
      "3. Scissors\n",
      "4. Quit\n",
      "Enter the number of your choice: 3\n",
      "You chose scissors\n",
      "Computer chose scissors\n",
      "It's a tie!\n",
      "\n",
      "Rock, Paper, Scissors - Enter your choice:\n",
      "1. Rock\n",
      "2. Paper\n",
      "3. Scissors\n",
      "4. Quit\n",
      "Enter the number of your choice: 2\n",
      "You chose paper\n",
      "Computer chose rock\n",
      "You win!\n",
      "\n",
      "Rock, Paper, Scissors - Enter your choice:\n",
      "1. Rock\n",
      "2. Paper\n",
      "3. Scissors\n",
      "4. Quit\n",
      "Enter the number of your choice: 4\n",
      "Thanks for playing!\n"
     ]
    }
   ],
   "source": [
    "import random\n",
    "\n",
    "def get_computer_choice():\n",
    "    choices = [\"rock\", \"paper\", \"scissors\"]\n",
    "    return random.choice(choices)\n",
    "\n",
    "def determine_winner(player_choice, computer_choice):\n",
    "    if player_choice == computer_choice:\n",
    "        return \"It's a tie!\"\n",
    "    elif (player_choice == \"rock\" and computer_choice == \"scissors\") or \\\n",
    "         (player_choice == \"paper\" and computer_choice == \"rock\") or \\\n",
    "         (player_choice == \"scissors\" and computer_choice == \"paper\"):\n",
    "        return \"You win!\"\n",
    "    else:\n",
    "        return \"Computer wins!\"\n",
    "\n",
    "while True:\n",
    "    print(\"\\nRock, Paper, Scissors - Enter your choice:\")\n",
    "    print(\"1. Rock\")\n",
    "    print(\"2. Paper\")\n",
    "    print(\"3. Scissors\")\n",
    "    print(\"4. Quit\")\n",
    "\n",
    "    player_choice = input(\"Enter the number of your choice: \")\n",
    "    \n",
    "    if player_choice == '4':\n",
    "        print(\"Thanks for playing!\")\n",
    "        break\n",
    "\n",
    "    if player_choice not in ['1', '2', '3']:\n",
    "        print(\"Invalid choice. Please choose a valid option.\")\n",
    "        continue\n",
    "\n",
    "    player_choice = [\"rock\", \"paper\", \"scissors\"][int(player_choice) - 1]\n",
    "    computer_choice = get_computer_choice()\n",
    "\n",
    "    print(f\"You chose {player_choice}\")\n",
    "    print(f\"Computer chose {computer_choice}\")\n",
    "\n",
    "    result = determine_winner(player_choice, computer_choice)\n",
    "    print(result)\n"
   ]
  },
  {
   "cell_type": "markdown",
   "id": "d6669af0",
   "metadata": {},
   "source": [
    "##### 23. Develop a program that generates a random password based on user preferences (length, complexity)."
   ]
  },
  {
   "cell_type": "code",
   "execution_count": 2,
   "id": "4b19e312",
   "metadata": {},
   "outputs": [
    {
     "name": "stdout",
     "output_type": "stream",
     "text": [
      "Enter the desired password length: 8\n",
      "Include uppercase letters? (yes/no): yes\n",
      "Include digits? (yes/no): yes\n",
      "Include special characters? (yes/no): no\n",
      "Your random password is: nWDRDLQ6\n"
     ]
    }
   ],
   "source": [
    "import random\n",
    "import string\n",
    "\n",
    "# Function to generate a random password\n",
    "def generate_password(length, use_uppercase, use_digits, use_special_chars):\n",
    "    characters = string.ascii_lowercase\n",
    "    if use_uppercase:\n",
    "        characters += string.ascii_uppercase\n",
    "    if use_digits:\n",
    "        characters += string.digits\n",
    "    if use_special_chars:\n",
    "        characters += string.punctuation\n",
    "\n",
    "    if len(characters) == 0:\n",
    "        print(\"Error: No character set selected for the password.\")\n",
    "        return None\n",
    "\n",
    "    password = ''.join(random.choice(characters) for _ in range(length))\n",
    "    return password\n",
    "\n",
    "# Input user preferences\n",
    "length = int(input(\"Enter the desired password length: \"))\n",
    "use_uppercase = input(\"Include uppercase letters? (yes/no): \").lower() == \"yes\"\n",
    "use_digits = input(\"Include digits? (yes/no): \").lower() == \"yes\"\n",
    "use_special_chars = input(\"Include special characters? (yes/no): \").lower() == \"yes\"\n",
    "\n",
    "# Generate and print the password\n",
    "password = generate_password(length, use_uppercase, use_digits, use_special_chars)\n",
    "\n",
    "if password:\n",
    "    print(\"Your random password is:\", password)\n"
   ]
  },
  {
   "cell_type": "markdown",
   "id": "71a662cf",
   "metadata": {},
   "source": [
    "##### 24. Create a program that implements a simple text-based adventure game with branching scenarios."
   ]
  },
  {
   "cell_type": "code",
   "execution_count": 3,
   "id": "ef5b7e78",
   "metadata": {},
   "outputs": [
    {
     "name": "stdout",
     "output_type": "stream",
     "text": [
      "Welcome to the Text Adventure Game!\n",
      "You find yourself at a crossroads. What do you do?\n",
      "1. Go left into the cave.\n",
      "2. Go right towards a distant mountain.\n",
      "Enter your choice (1/2): 1\n",
      "You enter a dark cave.\n",
      "You find a treasure chest!\n",
      "Congratulations, you win!\n",
      "Do you want to play again? (yes/no): no\n",
      "Thanks for playing!\n"
     ]
    }
   ],
   "source": [
    "import time\n",
    "\n",
    "def print_with_delay(message, delay=1):\n",
    "    print(message)\n",
    "    time.sleep(delay)\n",
    "\n",
    "def make_choice(choice):\n",
    "    if choice == '1':\n",
    "        print_with_delay(\"You enter a dark cave.\")\n",
    "        print_with_delay(\"You find a treasure chest!\")\n",
    "        print_with_delay(\"Congratulations, you win!\")\n",
    "    elif choice == '2':\n",
    "        print_with_delay(\"You come across a hungry dragon.\")\n",
    "        print_with_delay(\"You try to fight the dragon, but it's too powerful.\")\n",
    "        print_with_delay(\"Game over!\")\n",
    "    else:\n",
    "        print_with_delay(\"Invalid choice. Please try again.\")\n",
    "\n",
    "print_with_delay(\"Welcome to the Text Adventure Game!\")\n",
    "print_with_delay(\"You find yourself at a crossroads. What do you do?\")\n",
    "while True:\n",
    "    print_with_delay(\"1. Go left into the cave.\")\n",
    "    print_with_delay(\"2. Go right towards a distant mountain.\")\n",
    "    choice = input(\"Enter your choice (1/2): \")\n",
    "    make_choice(choice)\n",
    "    play_again = input(\"Do you want to play again? (yes/no): \").lower()\n",
    "    if play_again != 'yes':\n",
    "        print_with_delay(\"Thanks for playing!\")\n",
    "        break\n"
   ]
  },
  {
   "cell_type": "markdown",
   "id": "3a6dd706",
   "metadata": {},
   "source": [
    "##### 25. Build a program that solves a linear equation  for x, considering different cases."
   ]
  },
  {
   "cell_type": "code",
   "execution_count": 4,
   "id": "495513b8",
   "metadata": {},
   "outputs": [
    {
     "name": "stdout",
     "output_type": "stream",
     "text": [
      "Enter the coefficient a: 23\n",
      "Enter the coefficient b: 44\n",
      "The solution is x = 1.9130434782608696\n"
     ]
    }
   ],
   "source": [
    "def solve_linear_equation_case1(a, b):\n",
    "    if a == 0:\n",
    "        if b == 0:\n",
    "            return \"Infinite solutions (identity equation)\"\n",
    "        else:\n",
    "            return \"No solution (contradictory equation)\"\n",
    "    x = -b / a\n",
    "    return f\"The solution is x = {x}\"\n",
    "\n",
    "def solve_linear_equation_case2(a, b):\n",
    "    if a == 0:\n",
    "        if b == 0:\n",
    "            return \"Infinite solutions (identity equation)\"\n",
    "        else:\n",
    "            return \"No solution (contradictory equation)\"\n",
    "    x = b / a\n",
    "    return f\"The solution is x = {x}\"\n",
    "\n",
    "a = float(input(\"Enter the coefficient a: \"))\n",
    "b = float(input(\"Enter the coefficient b: \"))\n",
    "\n",
    "if a == 0 or b == 0:\n",
    "    result = solve_linear_equation_case1(a, b)\n",
    "else:\n",
    "    result = solve_linear_equation_case2(a, b)\n",
    "\n",
    "print(result)\n"
   ]
  },
  {
   "cell_type": "markdown",
   "id": "26c7a457",
   "metadata": {},
   "source": [
    "##### 26. Write a program that simulates a basic quiz game with multiple-choice questions and scoring."
   ]
  },
  {
   "cell_type": "code",
   "execution_count": 6,
   "id": "013549bf",
   "metadata": {},
   "outputs": [
    {
     "name": "stdout",
     "output_type": "stream",
     "text": [
      "Welcome to the Quiz Game!\n",
      "What is the capital of France?\n",
      "1. London\n",
      "2. Madrid\n",
      "3. Paris\n",
      "4. Rome\n",
      "Enter the number of your answer: 3\n",
      "Which planet is known as the Red Planet?\n",
      "1. Earth\n",
      "2. Mars\n",
      "3. Venus\n",
      "4. Jupiter\n",
      "Enter the number of your answer: 2\n",
      "What is the largest mammal in the world?\n",
      "1. Elephant\n",
      "2. Giraffe\n",
      "3. Whale\n",
      "4. Kangaroo\n",
      "Enter the number of your answer: 3\n",
      "\n",
      "Quiz Results:\n",
      "You answered 3 out of 3 questions correctly.\n",
      "Congratulations! You got a perfect score!\n"
     ]
    }
   ],
   "source": [
    "questions = [\n",
    "    {\n",
    "        \"question\": \"What is the capital of France?\",\n",
    "        \"choices\": [\"London\", \"Madrid\", \"Paris\", \"Rome\"],\n",
    "        \"correct_answer\": \"Paris\"\n",
    "    },\n",
    "    {\n",
    "        \"question\": \"Which planet is known as the Red Planet?\",\n",
    "        \"choices\": [\"Earth\", \"Mars\", \"Venus\", \"Jupiter\"],\n",
    "        \"correct_answer\": \"Mars\"\n",
    "    },\n",
    "    {\n",
    "        \"question\": \"What is the largest mammal in the world?\",\n",
    "        \"choices\": [\"Elephant\", \"Giraffe\", \"Whale\", \"Kangaroo\"],\n",
    "        \"correct_answer\": \"Whale\"\n",
    "    }\n",
    "]\n",
    "\n",
    "def ask_question(question_data):\n",
    "    print(question_data[\"question\"])\n",
    "    for i, choice in enumerate(question_data[\"choices\"], start=1):\n",
    "        print(f\"{i}. {choice}\")\n",
    "    user_answer = input(\"Enter the number of your answer: \")\n",
    "    return user_answer\n",
    "\n",
    "def score_quiz(questions, user_answers):\n",
    "    score = 0\n",
    "    for i, question in enumerate(questions):\n",
    "        if user_answers[i] == question[\"correct_answer\"]:\n",
    "            score += 1\n",
    "    return score\n",
    "\n",
    "print(\"Welcome to the Quiz Game!\")\n",
    "user_answers = []\n",
    "\n",
    "for question_data in questions:\n",
    "    user_answer = ask_question(question_data)\n",
    "    user_answers.append(question_data[\"choices\"][int(user_answer) - 1])\n",
    "\n",
    "print(\"\\nQuiz Results:\")\n",
    "total_questions = len(questions)\n",
    "correct_answers = score_quiz(questions, user_answers)\n",
    "print(f\"You answered {correct_answers} out of {total_questions} questions correctly.\")\n",
    "\n",
    "if correct_answers == total_questions:\n",
    "    print(\"Congratulations! You got a perfect score!\")\n",
    "elif correct_answers >= total_questions // 2:\n",
    "    print(\"Good job! You passed the quiz.\")\n",
    "else:\n",
    "    print(\"Keep practicing. You can do better next time!\")\n",
    "\n"
   ]
  },
  {
   "cell_type": "markdown",
   "id": "9d5520e1",
   "metadata": {},
   "source": [
    "##### 27. Develop a program that determines whether a given year is a prime number or not."
   ]
  },
  {
   "cell_type": "code",
   "execution_count": 7,
   "id": "20540b82",
   "metadata": {},
   "outputs": [
    {
     "name": "stdout",
     "output_type": "stream",
     "text": [
      "Enter a year: 2020\n",
      "2020 is not a prime year.\n"
     ]
    }
   ],
   "source": [
    "def is_prime_year(year):\n",
    "    if year <= 1:\n",
    "        return False\n",
    "    for i in range(2, year):\n",
    "        if year % i == 0:\n",
    "            return False\n",
    "    return True\n",
    "\n",
    "year = int(input(\"Enter a year: \"))\n",
    "\n",
    "if is_prime_year(year):\n",
    "    print(f\"{year} is a prime year.\")\n",
    "else:\n",
    "    print(f\"{year} is not a prime year.\")\n"
   ]
  },
  {
   "cell_type": "markdown",
   "id": "4a66959d",
   "metadata": {},
   "source": [
    "##### 28. Create a program that sorts three numbers in ascending order using conditional statements."
   ]
  },
  {
   "cell_type": "code",
   "execution_count": 8,
   "id": "6ebb8355",
   "metadata": {},
   "outputs": [
    {
     "name": "stdout",
     "output_type": "stream",
     "text": [
      "Enter the first number: 23\n",
      "Enter the second number: 22\n",
      "Enter the third number: 2\n",
      "Sorted numbers in ascending order: (2.0, 22.0, 23.0)\n"
     ]
    }
   ],
   "source": [
    "num1 = float(input(\"Enter the first number: \"))\n",
    "num2 = float(input(\"Enter the second number: \"))\n",
    "num3 = float(input(\"Enter the third number: \"))\n",
    "\n",
    "if num1 <= num2 <= num3:\n",
    "    sorted_nums = (num1, num2, num3)\n",
    "elif num1 <= num3 <= num2:\n",
    "    sorted_nums = (num1, num3, num2)\n",
    "elif num2 <= num1 <= num3:\n",
    "    sorted_nums = (num2, num1, num3)\n",
    "elif num2 <= num3 <= num1:\n",
    "    sorted_nums = (num2, num3, num1)\n",
    "elif num3 <= num1 <= num2:\n",
    "    sorted_nums = (num3, num1, num2)\n",
    "else:\n",
    "    sorted_nums = (num3, num2, num1)\n",
    "\n",
    "print(\"Sorted numbers in ascending order:\", sorted_nums)"
   ]
  },
  {
   "cell_type": "markdown",
   "id": "df7329f1",
   "metadata": {},
   "source": [
    "##### 29. Build a program that determines the roots of a quartic equation using numerical methods."
   ]
  },
  {
   "cell_type": "code",
   "execution_count": 10,
   "id": "282e87d2",
   "metadata": {},
   "outputs": [
    {
     "name": "stdout",
     "output_type": "stream",
     "text": [
      "Enter the coefficient a: 25\n",
      "Enter the coefficient b: 64\n",
      "Enter the coefficient c: 81\n",
      "Enter the coefficient d: 100\n",
      "Enter the coefficient e: 25\n",
      "Roots of the quartic equation: [-0.3116621 -0.3116621 -0.3116621 -0.3116621]\n"
     ]
    }
   ],
   "source": [
    "import numpy as np\n",
    "from scipy.optimize import fsolve\n",
    "\n",
    "a = float(input(\"Enter the coefficient a: \"))\n",
    "b = float(input(\"Enter the coefficient b: \"))\n",
    "c = float(input(\"Enter the coefficient c: \"))\n",
    "d = float(input(\"Enter the coefficient d: \"))\n",
    "e = float(input(\"Enter the coefficient e: \"))\n",
    "\n",
    "def quartic_equation(x):\n",
    "    return a * x**4 + b * x**3 + c * x**2 + d * x + e\n",
    "\n",
    "roots = fsolve(quartic_equation, [0, 0, 0, 0])\n",
    "\n",
    "print(\"Roots of the quartic equation:\", roots)\n"
   ]
  },
  {
   "cell_type": "markdown",
   "id": "8081bb43",
   "metadata": {},
   "source": [
    "##### 30. Write a program that calculates the BMI (Body Mass Index) and provides health recommendations based on the user's input."
   ]
  },
  {
   "cell_type": "code",
   "execution_count": 16,
   "id": "5637edfc",
   "metadata": {},
   "outputs": [
    {
     "name": "stdout",
     "output_type": "stream",
     "text": [
      "Enter your weight (in kg): 61\n",
      "Enter your height (in meters): 1.6\n",
      "Your BMI is: 23.828124999999996\n",
      "Health Recommendation: Normal weight: Your weight is within a healthy range.\n"
     ]
    }
   ],
   "source": [
    "def calculate_bmi(weight_kg, height_m):\n",
    "    return weight_kg / (height_m ** 2)\n",
    "\n",
    "def get_health_recommendation(bmi):\n",
    "    if bmi < 18.5:\n",
    "        return \"Underweight: You may need to gain some weight. Consult a nutritionist.\"\n",
    "    elif 18.5 <= bmi < 24.9:\n",
    "        return \"Normal weight: Your weight is within a healthy range.\"\n",
    "    elif 24.9 <= bmi < 29.9:\n",
    "        return \"Overweight: You may need to lose some weight. Consult a fitness trainer.\"\n",
    "    else:\n",
    "        return \"Obese: Your health may be at risk. Consult a healthcare professional.\"\n",
    "\n",
    "weight = float(input(\"Enter your weight (in kg): \"))\n",
    "height = float(input(\"Enter your height (in meters): \"))\n",
    "\n",
    "bmi = calculate_bmi(weight, height)\n",
    "\n",
    "print(\"Your BMI is:\", bmi)\n",
    "\n",
    "recommendation = get_health_recommendation(bmi)\n",
    "print(\"Health Recommendation:\", recommendation)\n"
   ]
  },
  {
   "cell_type": "markdown",
   "id": "c5ab598f",
   "metadata": {},
   "source": [
    "## Challenge Level:"
   ]
  },
  {
   "cell_type": "markdown",
   "id": "bff2483b",
   "metadata": {},
   "source": [
    "##### 31. Create a program that validates a password based on complexity rules (length, characters, etc.).\n"
   ]
  },
  {
   "cell_type": "code",
   "execution_count": 18,
   "id": "82b18c77",
   "metadata": {},
   "outputs": [
    {
     "name": "stdout",
     "output_type": "stream",
     "text": [
      "Enter a password: Hello@234\n",
      "Valid password. Good choice!\n"
     ]
    }
   ],
   "source": [
    "import re\n",
    "\n",
    "def is_valid_password(password):\n",
    "    if len(password) < 8:\n",
    "        return False\n",
    "\n",
    "    if not re.search(r'[a-z]', password) or not re.search(r'[A-Z]', password):\n",
    "        return False\n",
    "\n",
    "    if not re.search(r'[0-9]', password):\n",
    "        return False\n",
    "\n",
    "    if not re.search(r'[!@#$%^&*()_+{}:;<>,.?~]', password):\n",
    "        return False\n",
    "\n",
    "    return True\n",
    "\n",
    "password = input(\"Enter a password: \")\n",
    "\n",
    "if is_valid_password(password):\n",
    "    print(\"Valid password. Good choice!\")\n",
    "else:\n",
    "    print(\"Invalid password. Please follow the password complexity rules.\")\n"
   ]
  },
  {
   "cell_type": "markdown",
   "id": "484bfc6b",
   "metadata": {},
   "source": [
    "##### 32. Develop a program that performs matrix addition and subtraction based on user input.\n"
   ]
  },
  {
   "cell_type": "code",
   "execution_count": 19,
   "id": "85eeb7ab",
   "metadata": {},
   "outputs": [
    {
     "name": "stdout",
     "output_type": "stream",
     "text": [
      "Enter the number of rows: 3\n",
      "Enter the number of columns: 3\n",
      "Enter elements for the First matrix:\n",
      "Enter element at position (1,1): 12\n",
      "Enter element at position (1,2): 22\n",
      "Enter element at position (1,3): 32\n",
      "Enter element at position (2,1): 22\n",
      "Enter element at position (2,2): 1\n",
      "Enter element at position (2,3): 44\n",
      "Enter element at position (3,1): 34\n",
      "Enter element at position (3,2): 23\n",
      "Enter element at position (3,3): 5\n",
      "Enter elements for the Second matrix:\n",
      "Enter element at position (1,1): 43\n",
      "Enter element at position (1,2): 53\n",
      "Enter element at position (1,3): 54\n",
      "Enter element at position (2,1): 76\n",
      "Enter element at position (2,2): 3\n",
      "Enter element at position (2,3): 54\n",
      "Enter element at position (3,1): 23\n",
      "Enter element at position (3,2): 66\n",
      "Enter element at position (3,3): 24\n",
      "\n",
      "Matrix Addition:\n",
      "Sum matrix:\n",
      "55.0 75.0 86.0\n",
      "98.0 4.0 98.0\n",
      "57.0 89.0 29.0\n",
      "\n",
      "Matrix Subtraction:\n",
      "Difference matrix:\n",
      "-31.0 -31.0 -22.0\n",
      "-54.0 -2.0 -10.0\n",
      "11.0 -43.0 -19.0\n"
     ]
    }
   ],
   "source": [
    "def input_matrix(rows, cols, name):\n",
    "    matrix = []\n",
    "    print(f\"Enter elements for the {name} matrix:\")\n",
    "    for i in range(rows):\n",
    "        row = []\n",
    "        for j in range(cols):\n",
    "            element = float(input(f\"Enter element at position ({i+1},{j+1}): \"))\n",
    "            row.append(element)\n",
    "        matrix.append(row)\n",
    "    return matrix\n",
    "\n",
    "def print_matrix(matrix, name):\n",
    "    print(f\"{name} matrix:\")\n",
    "    for row in matrix:\n",
    "        print(\" \".join(map(str, row)))\n",
    "\n",
    "def add_matrices(matrix1, matrix2):\n",
    "    result = []\n",
    "    for i in range(len(matrix1)):\n",
    "        row = []\n",
    "        for j in range(len(matrix1[0])):\n",
    "            row.append(matrix1[i][j] + matrix2[i][j])\n",
    "        result.append(row)\n",
    "    return result\n",
    "\n",
    "def subtract_matrices(matrix1, matrix2):\n",
    "    result = []\n",
    "    for i in range(len(matrix1)):\n",
    "        row = []\n",
    "        for j in range(len(matrix1[0])):\n",
    "            row.append(matrix1[i][j] - matrix2[i][j])\n",
    "        result.append(row)\n",
    "    return result\n",
    "\n",
    "rows = int(input(\"Enter the number of rows: \"))\n",
    "cols = int(input(\"Enter the number of columns: \"))\n",
    "\n",
    "matrix1 = input_matrix(rows, cols, \"First\")\n",
    "matrix2 = input_matrix(rows, cols, \"Second\")\n",
    "\n",
    "sum_matrix = add_matrices(matrix1, matrix2)\n",
    "difference_matrix = subtract_matrices(matrix1, matrix2)\n",
    "\n",
    "print(\"\\nMatrix Addition:\")\n",
    "print_matrix(sum_matrix, \"Sum\")\n",
    "\n",
    "print(\"\\nMatrix Subtraction:\")\n",
    "print_matrix(difference_matrix, \"Difference\")\n"
   ]
  },
  {
   "cell_type": "markdown",
   "id": "39ffa163",
   "metadata": {},
   "source": [
    "##### 33. Write a program that calculates the greatest common divisor (GCD) of two numbers using the Euclidean algorithm.\n"
   ]
  },
  {
   "cell_type": "code",
   "execution_count": 20,
   "id": "c5315adb",
   "metadata": {},
   "outputs": [
    {
     "name": "stdout",
     "output_type": "stream",
     "text": [
      "Enter the first number: 22\n",
      "Enter the second number: 11\n",
      "The GCD of 22 and 11 is 11\n"
     ]
    }
   ],
   "source": [
    "def euclidean_gcd(a, b):\n",
    "    while b:\n",
    "        a, b = b, a % b\n",
    "    return a\n",
    "\n",
    "num1 = int(input(\"Enter the first number: \"))\n",
    "num2 = int(input(\"Enter the second number: \"))\n",
    "\n",
    "gcd = euclidean_gcd(num1, num2)\n",
    "\n",
    "print(f\"The GCD of {num1} and {num2} is {gcd}\")"
   ]
  },
  {
   "cell_type": "markdown",
   "id": "b1981df5",
   "metadata": {},
   "source": [
    "##### 34. Build a program that performs matrix multiplication using nested loops and conditional statements.\n"
   ]
  },
  {
   "cell_type": "code",
   "execution_count": null,
   "id": "ef61e6cb",
   "metadata": {},
   "outputs": [],
   "source": []
  },
  {
   "cell_type": "markdown",
   "id": "c7819333",
   "metadata": {},
   "source": [
    "##### 35. Create a program that simulates a basic text-based tic-tac-toe game against the computer.\n"
   ]
  },
  {
   "cell_type": "code",
   "execution_count": null,
   "id": "08bfc1f4",
   "metadata": {},
   "outputs": [],
   "source": []
  },
  {
   "cell_type": "markdown",
   "id": "9203e0bf",
   "metadata": {},
   "source": [
    "##### 36. Write a program that generates Fibonacci numbers up to a specified term using iterative methods.\n"
   ]
  },
  {
   "cell_type": "code",
   "execution_count": 29,
   "id": "906a65ed",
   "metadata": {},
   "outputs": [
    {
     "name": "stdout",
     "output_type": "stream",
     "text": [
      "Enter the number of Fibonacci terms to generate: 10\n",
      "Fibonacci sequence up to the 10 term(s): [0, 1, 1, 2, 3, 5, 8, 13, 21, 34]\n"
     ]
    }
   ],
   "source": [
    "def generate_fibonacci(n):\n",
    "    fibonacci_sequence = [0, 1]\n",
    "\n",
    "    while len(fibonacci_sequence) < n:\n",
    "        next_number = fibonacci_sequence[-1] + fibonacci_sequence[-2]\n",
    "        fibonacci_sequence.append(next_number)\n",
    "\n",
    "    return fibonacci_sequence\n",
    "\n",
    "n = int(input(\"Enter the number of Fibonacci terms to generate: \"))\n",
    "\n",
    "if n <= 0:\n",
    "    print(\"Please enter a positive number.\")\n",
    "else:\n",
    "    fibonacci_sequence = generate_fibonacci(n)\n",
    "    print(\"Fibonacci sequence up to the\", n, \"term(s):\", fibonacci_sequence)"
   ]
  },
  {
   "cell_type": "markdown",
   "id": "8eda91ca",
   "metadata": {},
   "source": [
    "##### 37. Develop a program that calculates the nth term of the Fibonacci sequence using memoization.\n"
   ]
  },
  {
   "cell_type": "code",
   "execution_count": 30,
   "id": "ec82fbee",
   "metadata": {},
   "outputs": [
    {
     "name": "stdout",
     "output_type": "stream",
     "text": [
      "Enter the term (n) to calculate the Fibonacci number: 20\n",
      "The 20-th Fibonacci term is: 6765\n"
     ]
    }
   ],
   "source": [
    "def fibonacci(n, memo={}):\n",
    "    if n in memo:\n",
    "        return memo[n]\n",
    "    if n <= 2:\n",
    "        return 1\n",
    "    memo[n] = fibonacci(n - 1, memo) + fibonacci(n - 2, memo)\n",
    "    return memo[n]\n",
    "\n",
    "n = int(input(\"Enter the term (n) to calculate the Fibonacci number: \"))\n",
    "\n",
    "if n <= 0:\n",
    "    print(\"Please enter a positive integer.\")\n",
    "else:\n",
    "    result = fibonacci(n)\n",
    "    print(f\"The {n}-th Fibonacci term is: {result}\")\n"
   ]
  },
  {
   "cell_type": "markdown",
   "id": "e2da452d",
   "metadata": {},
   "source": [
    "##### 38. Create a program that generates a calendar for a given month and year using conditional statements.\n"
   ]
  },
  {
   "cell_type": "code",
   "execution_count": 31,
   "id": "5ed89e66",
   "metadata": {},
   "outputs": [
    {
     "name": "stdout",
     "output_type": "stream",
     "text": [
      "Enter the year (e.g., 2023): 2023\n",
      "Enter the month (1-12): 7\n",
      "Calendar for July 2023:\n",
      "\n",
      "     July 2023\n",
      "Mo Tu We Th Fr Sa Su\n",
      "                1  2\n",
      " 3  4  5  6  7  8  9\n",
      "10 11 12 13 14 15 16\n",
      "17 18 19 20 21 22 23\n",
      "24 25 26 27 28 29 30\n",
      "31\n",
      "\n"
     ]
    }
   ],
   "source": [
    "import calendar\n",
    "\n",
    "def generate_calendar(year, month):\n",
    "    cal = calendar.month(year, month)\n",
    "    return cal\n",
    "\n",
    "year = int(input(\"Enter the year (e.g., 2023): \"))\n",
    "month = int(input(\"Enter the month (1-12): \"))\n",
    "\n",
    "if month < 1 or month > 12:\n",
    "    print(\"Invalid month. Please enter a number between 1 and 12.\")\n",
    "else:\n",
    "    cal = generate_calendar(year, month)\n",
    "    print(f\"Calendar for {calendar.month_name[month]} {year}:\\n\")\n",
    "    print(cal)\n"
   ]
  },
  {
   "cell_type": "markdown",
   "id": "7f253999",
   "metadata": {},
   "source": [
    "##### 39. Build a program that simulates a basic text-based blackjack game against the computer.\n"
   ]
  },
  {
   "cell_type": "code",
   "execution_count": 5,
   "id": "30b0c774",
   "metadata": {},
   "outputs": [
    {
     "name": "stdout",
     "output_type": "stream",
     "text": [
      "Your hand: [6, 10] (Value: 16)\n",
      "Computer's hand: [2, ?]\n",
      "Do you want to 'hit' or 'stand'? hit\n",
      "Your hand: [6, 10, 1] (Value: 17)\n",
      "Computer's hand: [2, ?]\n",
      "Do you want to 'hit' or 'stand'? stand\n",
      "Computer's hand: [2, 11, 4] (Value: 17)\n",
      "It's a push (tie)!\n",
      "Game Over\n"
     ]
    }
   ],
   "source": [
    "import random\n",
    "\n",
    "def deal_card():\n",
    "    cards = [2, 3, 4, 5, 6, 7, 8, 9, 10, 10, 10, 10, 11]\n",
    "    return random.choice(cards)\n",
    "\n",
    "def calculate_hand_value(hand):\n",
    "    value = sum(hand)\n",
    "    if value > 21 and 11 in hand:\n",
    "        hand.remove(11)\n",
    "        hand.append(1)\n",
    "        value = sum(hand)\n",
    "    return value\n",
    "\n",
    "deck = 4 * list(range(2, 12)) \n",
    "random.shuffle(deck)\n",
    "\n",
    "player_hand = [deal_card(), deal_card()]\n",
    "computer_hand = [deal_card(), deal_card()]\n",
    "\n",
    "while True:\n",
    "    player_value = calculate_hand_value(player_hand)\n",
    "    computer_value = calculate_hand_value(computer_hand)\n",
    "\n",
    "    print(f\"Your hand: {player_hand} (Value: {player_value})\")\n",
    "    print(f\"Computer's hand: [{computer_hand[0]}, ?]\")\n",
    "\n",
    "    if player_value == 21:\n",
    "        print(\"Blackjack! You win!\")\n",
    "        break\n",
    "    elif player_value > 21:\n",
    "        print(\"Bust! You lose.\")\n",
    "        break\n",
    "\n",
    "    move = input(\"Do you want to 'hit' or 'stand'? \").strip().lower()\n",
    "\n",
    "    if move == 'hit':\n",
    "        player_hand.append(deal_card())\n",
    "    elif move == 'stand':\n",
    "        while computer_value < 17:\n",
    "            computer_hand.append(deal_card())\n",
    "            computer_value = calculate_hand_value(computer_hand)\n",
    "\n",
    "        print(f\"Computer's hand: {computer_hand} (Value: {computer_value})\")\n",
    "\n",
    "        if computer_value > 21:\n",
    "            print(\"Computer busts! You win!\")\n",
    "        elif computer_value == player_value:\n",
    "            print(\"It's a push (tie)!\")\n",
    "        elif player_value > computer_value:\n",
    "            print(\"You win!\")\n",
    "        else:\n",
    "            print(\"Computer wins!\")\n",
    "\n",
    "        break\n",
    "    else:\n",
    "        print(\"Invalid move. Please enter 'hit' or 'stand'.\")\n",
    "\n",
    "print(\"Game Over\")\n"
   ]
  },
  {
   "cell_type": "markdown",
   "id": "93f068e6",
   "metadata": {},
   "source": [
    "##### 40. Write a program that generates the prime factors of a given number using trial division"
   ]
  },
  {
   "cell_type": "code",
   "execution_count": 6,
   "id": "3540d7a9",
   "metadata": {},
   "outputs": [
    {
     "name": "stdout",
     "output_type": "stream",
     "text": [
      "Enter a number: 45\n",
      "The prime factors of 45 are: [3, 3, 5]\n"
     ]
    }
   ],
   "source": [
    "def prime_factors(n):\n",
    "    factors = []\n",
    "    divisor = 2\n",
    "\n",
    "    while divisor <= n:\n",
    "        if n % divisor == 0:\n",
    "            factors.append(divisor)\n",
    "            n = n // divisor\n",
    "        else:\n",
    "            divisor += 1\n",
    "\n",
    "    return factors\n",
    "\n",
    "number = int(input(\"Enter a number: \"))\n",
    "\n",
    "if number <= 1:\n",
    "    print(\"Please enter a positive integer greater than 1.\")\n",
    "else:\n",
    "    factors = prime_factors(number)\n",
    "    \n",
    "    if len(factors) == 1 and factors[0] == number:\n",
    "        print(f\"{number} is a prime number, and it has no prime factors.\")\n",
    "    else:\n",
    "        print(f\"The prime factors of {number} are: {factors}\")\n"
   ]
  }
 ],
 "metadata": {
  "kernelspec": {
   "display_name": "Python 3 (ipykernel)",
   "language": "python",
   "name": "python3"
  },
  "language_info": {
   "codemirror_mode": {
    "name": "ipython",
    "version": 3
   },
   "file_extension": ".py",
   "mimetype": "text/x-python",
   "name": "python",
   "nbconvert_exporter": "python",
   "pygments_lexer": "ipython3",
   "version": "3.11.3"
  }
 },
 "nbformat": 4,
 "nbformat_minor": 5
}
