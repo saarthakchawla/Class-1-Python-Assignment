{
 "cells": [
  {
   "cell_type": "markdown",
   "id": "05459d5b",
   "metadata": {},
   "source": [
    "### Numpy Assignment"
   ]
  },
  {
   "cell_type": "markdown",
   "id": "e44bcf64",
   "metadata": {},
   "source": [
    "#### 1. What is a Python library? Why do we use Python libraries?"
   ]
  },
  {
   "cell_type": "markdown",
   "id": "a9c402bc",
   "metadata": {},
   "source": [
    "Python libraries are collections of pre-written code that you can import and use in your programs.\n",
    "\n",
    "They save time and effort, provide access to specialized functionalities, and benefit from community support.\n",
    "Examples include NumPy for numerical computing, Pandas for data analysis, and TensorFlow for machine learning."
   ]
  },
  {
   "cell_type": "markdown",
   "id": "60a294bb",
   "metadata": {},
   "source": [
    " "
   ]
  },
  {
   "cell_type": "markdown",
   "id": "d387a9f7",
   "metadata": {},
   "source": [
    " "
   ]
  },
  {
   "cell_type": "markdown",
   "id": "ebe1ae3a",
   "metadata": {},
   "source": [
    "#### 2. What is the difference between Numpy array and List?"
   ]
  },
  {
   "cell_type": "markdown",
   "id": "4796e311",
   "metadata": {},
   "source": [
    "Numpy arrays and Python lists are both used for data storage, but they have some key differences:\n",
    "\n",
    "1. Performance: Numpy arrays are more efficient for numerical operations. They are implemented in C and designed for fast manipulation of large datasets, so operations on Numpy arrays are generally faster than on Python lists.\n",
    "\n",
    "2. Functionality: Numpy provides a wide range of mathematical functions that can be applied easily on arrays. For example, you can perform element-wise operations, linear algebra operations, statistical operations, etc., directly on Numpy arrays, which is not possible with lists without additional loops or list comprehensions.\n",
    "\n",
    "3. Memory Usage: Numpy arrays are more memory efficient when compared to lists. This is because they directly store data in a contiguous block of memory, allowing for efficient access and manipulation. Lists, on the other hand, store pointers to objects scattered throughout memory.\n",
    "\n",
    "4. Data Types: Elements in Numpy arrays are all of the same data type (e.g., all integers, floats, etc.), which is a key factor in the efficiency of these arrays. In contrast, Python lists can store elements of different data types (e.g., a mix of integers, strings, objects, etc.).\n",
    "\n",
    "5. Size Flexibility: Python lists are dynamic; they can grow or shrink in size. Numpy arrays, however, have a fixed size at creation, meaning that to change an array's size, you need to create a new array.\n",
    "\n",
    "6. Multidimensional Data: Numpy arrays can easily handle multidimensional data (like matrices in linear algebra or tensors in higher dimensions), while Python lists with multidimensional data require nested lists, which are less efficient and harder to manipulate."
   ]
  },
  {
   "cell_type": "markdown",
   "id": "8a725b3c",
   "metadata": {},
   "source": [
    " "
   ]
  },
  {
   "cell_type": "markdown",
   "id": "39a60794",
   "metadata": {},
   "source": [
    " "
   ]
  },
  {
   "cell_type": "code",
   "execution_count": 1,
   "id": "1b433f0c",
   "metadata": {},
   "outputs": [],
   "source": [
    "import numpy as np"
   ]
  },
  {
   "cell_type": "markdown",
   "id": "fe32c436",
   "metadata": {},
   "source": [
    " "
   ]
  },
  {
   "cell_type": "markdown",
   "id": "d031c21b",
   "metadata": {},
   "source": [
    "#### 3. Find the shape, size and dimension of the following array?\n",
    "\n",
    "##### [[1, 2, 3, 4]\n",
    "##### [5, 6, 7, 8],\n",
    "##### [9, 10, 11, 12]]"
   ]
  },
  {
   "cell_type": "code",
   "execution_count": 2,
   "id": "fee31d90",
   "metadata": {},
   "outputs": [],
   "source": [
    "arr = np.asarray([[1,2,3,4],[5,6,7,8],[9,10,11,12]])"
   ]
  },
  {
   "cell_type": "code",
   "execution_count": 3,
   "id": "7b5da28b",
   "metadata": {},
   "outputs": [
    {
     "data": {
      "text/plain": [
       "array([[ 1,  2,  3,  4],\n",
       "       [ 5,  6,  7,  8],\n",
       "       [ 9, 10, 11, 12]])"
      ]
     },
     "execution_count": 3,
     "metadata": {},
     "output_type": "execute_result"
    }
   ],
   "source": [
    "arr"
   ]
  },
  {
   "cell_type": "code",
   "execution_count": 4,
   "id": "6bb18c7c",
   "metadata": {},
   "outputs": [
    {
     "data": {
      "text/plain": [
       "(3, 4)"
      ]
     },
     "execution_count": 4,
     "metadata": {},
     "output_type": "execute_result"
    }
   ],
   "source": [
    "arr.shape"
   ]
  },
  {
   "cell_type": "code",
   "execution_count": 5,
   "id": "c743d34a",
   "metadata": {},
   "outputs": [
    {
     "data": {
      "text/plain": [
       "12"
      ]
     },
     "execution_count": 5,
     "metadata": {},
     "output_type": "execute_result"
    }
   ],
   "source": [
    "arr.size"
   ]
  },
  {
   "cell_type": "code",
   "execution_count": 6,
   "id": "1e123c5f",
   "metadata": {},
   "outputs": [
    {
     "data": {
      "text/plain": [
       "2"
      ]
     },
     "execution_count": 6,
     "metadata": {},
     "output_type": "execute_result"
    }
   ],
   "source": [
    "arr.ndim"
   ]
  },
  {
   "cell_type": "markdown",
   "id": "ce4fb9d1",
   "metadata": {},
   "source": [
    " "
   ]
  },
  {
   "cell_type": "markdown",
   "id": "93501d7a",
   "metadata": {},
   "source": [
    " "
   ]
  },
  {
   "cell_type": "markdown",
   "id": "5538250a",
   "metadata": {},
   "source": [
    "#### 4. Write python code to access the first row of the following array?\n",
    "\n",
    "##### [[1, 2, 3, 4]\n",
    "\n",
    "##### [5, 6, 7, 8],\n",
    "\n",
    "##### [9, 10, 11, 12]]"
   ]
  },
  {
   "cell_type": "code",
   "execution_count": 7,
   "id": "20bacc41",
   "metadata": {},
   "outputs": [
    {
     "data": {
      "text/plain": [
       "array([[ 1,  2,  3,  4],\n",
       "       [ 5,  6,  7,  8],\n",
       "       [ 9, 10, 11, 12]])"
      ]
     },
     "execution_count": 7,
     "metadata": {},
     "output_type": "execute_result"
    }
   ],
   "source": [
    "arr"
   ]
  },
  {
   "cell_type": "code",
   "execution_count": 8,
   "id": "d9e1f073",
   "metadata": {},
   "outputs": [
    {
     "data": {
      "text/plain": [
       "array([1, 2, 3, 4])"
      ]
     },
     "execution_count": 8,
     "metadata": {},
     "output_type": "execute_result"
    }
   ],
   "source": [
    "arr[0]"
   ]
  },
  {
   "cell_type": "markdown",
   "id": "14eb916b",
   "metadata": {},
   "source": [
    " "
   ]
  },
  {
   "cell_type": "markdown",
   "id": "724a9160",
   "metadata": {},
   "source": [
    " "
   ]
  },
  {
   "cell_type": "markdown",
   "id": "945c1df1",
   "metadata": {},
   "source": [
    "#### 5. How do you access the element at the third row and fourth column from the given numpy array?\n",
    "\n",
    "##### [[1, 2, 3, 4]\n",
    "\n",
    "##### [5, 6, 7, 8],\n",
    "\n",
    "##### [9, 10, 11, 12]]"
   ]
  },
  {
   "cell_type": "code",
   "execution_count": 9,
   "id": "20b3f3f7",
   "metadata": {},
   "outputs": [
    {
     "data": {
      "text/plain": [
       "array([[ 1,  2,  3,  4],\n",
       "       [ 5,  6,  7,  8],\n",
       "       [ 9, 10, 11, 12]])"
      ]
     },
     "execution_count": 9,
     "metadata": {},
     "output_type": "execute_result"
    }
   ],
   "source": [
    "arr"
   ]
  },
  {
   "cell_type": "code",
   "execution_count": 10,
   "id": "55409a19",
   "metadata": {},
   "outputs": [
    {
     "data": {
      "text/plain": [
       "12"
      ]
     },
     "execution_count": 10,
     "metadata": {},
     "output_type": "execute_result"
    }
   ],
   "source": [
    "arr[(2),(3)]"
   ]
  },
  {
   "cell_type": "markdown",
   "id": "b23a2a5f",
   "metadata": {},
   "source": [
    " "
   ]
  },
  {
   "cell_type": "markdown",
   "id": "9d20d411",
   "metadata": {},
   "source": [
    " "
   ]
  },
  {
   "cell_type": "markdown",
   "id": "67af5f51",
   "metadata": {},
   "source": [
    "#### 6. Write code to extract all odd-indexed elements from the given numpy array?\n",
    "\n",
    "##### [[1, 2, 3, 4]\n",
    "\n",
    "##### [5, 6, 7, 8],\n",
    "\n",
    "##### [9, 10, 11, 12]]"
   ]
  },
  {
   "cell_type": "code",
   "execution_count": 11,
   "id": "1ba1b985",
   "metadata": {},
   "outputs": [
    {
     "data": {
      "text/plain": [
       "array([[ 1,  2,  3,  4],\n",
       "       [ 5,  6,  7,  8],\n",
       "       [ 9, 10, 11, 12]])"
      ]
     },
     "execution_count": 11,
     "metadata": {},
     "output_type": "execute_result"
    }
   ],
   "source": [
    "arr"
   ]
  },
  {
   "cell_type": "code",
   "execution_count": 12,
   "id": "115f0f43",
   "metadata": {},
   "outputs": [
    {
     "name": "stdout",
     "output_type": "stream",
     "text": [
      "List of all odd-indexed element is: [1, 3, 9, 11]\n"
     ]
    }
   ],
   "source": [
    "l = []\n",
    "\n",
    "for i in range(0,3):\n",
    "    for j in range(0,4):\n",
    "        if i%2==0 and j%2==0:\n",
    "            a = arr[(i),(j)]\n",
    "            l.append(a)\n",
    "print(f\"List of all odd-indexed element is: {l}\")"
   ]
  },
  {
   "cell_type": "markdown",
   "id": "8dd7ddfd",
   "metadata": {},
   "source": [
    " "
   ]
  },
  {
   "cell_type": "markdown",
   "id": "a192da53",
   "metadata": {},
   "source": [
    " "
   ]
  },
  {
   "cell_type": "markdown",
   "id": "1a8b13a7",
   "metadata": {},
   "source": [
    "#### 7. How can you generate a random 3x3 matrix with values between 0 and 1?"
   ]
  },
  {
   "cell_type": "code",
   "execution_count": 13,
   "id": "41e4ee17",
   "metadata": {},
   "outputs": [],
   "source": [
    "random = np.random.rand(3,3)"
   ]
  },
  {
   "cell_type": "code",
   "execution_count": 14,
   "id": "fd67f05d",
   "metadata": {},
   "outputs": [
    {
     "data": {
      "text/plain": [
       "array([[0.47234763, 0.64482472, 0.02492967],\n",
       "       [0.29040708, 0.82094835, 0.99709519],\n",
       "       [0.16306191, 0.65861368, 0.5001936 ]])"
      ]
     },
     "execution_count": 14,
     "metadata": {},
     "output_type": "execute_result"
    }
   ],
   "source": [
    "random"
   ]
  },
  {
   "cell_type": "markdown",
   "id": "de2198ad",
   "metadata": {},
   "source": [
    "np.random.rand  --->  Create an array of the given shape and populate it with random samples from a uniform distribution over                          ``[0, 1)``."
   ]
  },
  {
   "cell_type": "markdown",
   "id": "31320036",
   "metadata": {},
   "source": [
    " "
   ]
  },
  {
   "cell_type": "markdown",
   "id": "04b30714",
   "metadata": {},
   "source": [
    " "
   ]
  },
  {
   "cell_type": "markdown",
   "id": "5fad404f",
   "metadata": {},
   "source": [
    "#### 8. Describe the difference between np.random.rand and np.random.randn?"
   ]
  },
  {
   "cell_type": "markdown",
   "id": "f75041fa",
   "metadata": {},
   "source": [
    "np.random.rand  --->  Create an array of the given shape and populate it with random samples from a uniform distribution over                          ``[0, 1)``."
   ]
  },
  {
   "cell_type": "code",
   "execution_count": 15,
   "id": "04b2e164",
   "metadata": {},
   "outputs": [
    {
     "data": {
      "text/plain": [
       "array([[0.40426644, 0.36183827, 0.69599125],\n",
       "       [0.09396581, 0.38680634, 0.16422535],\n",
       "       [0.4650458 , 0.88006944, 0.6775557 ]])"
      ]
     },
     "execution_count": 15,
     "metadata": {},
     "output_type": "execute_result"
    }
   ],
   "source": [
    "np.random.rand(3,3)"
   ]
  },
  {
   "cell_type": "markdown",
   "id": "4f24ff68",
   "metadata": {},
   "source": [
    "np.random.randn  --->  Return a sample (or samples) from the \"standard normal\" distribution."
   ]
  },
  {
   "cell_type": "code",
   "execution_count": 16,
   "id": "d36b5dc0",
   "metadata": {},
   "outputs": [
    {
     "data": {
      "text/plain": [
       "array([[ 0.69961355, -0.36904919,  2.4276592 ],\n",
       "       [-0.38779457,  1.92497183, -2.39848861],\n",
       "       [ 0.89415685,  0.583148  ,  0.70530514]])"
      ]
     },
     "execution_count": 16,
     "metadata": {},
     "output_type": "execute_result"
    }
   ],
   "source": [
    "np.random.randn(3,3)"
   ]
  },
  {
   "cell_type": "markdown",
   "id": "289e645a",
   "metadata": {},
   "source": [
    " "
   ]
  },
  {
   "cell_type": "markdown",
   "id": "be7da765",
   "metadata": {},
   "source": [
    " "
   ]
  },
  {
   "cell_type": "markdown",
   "id": "9f6524b9",
   "metadata": {},
   "source": [
    "#### 9. Write code to increase the dimension of the following array?\n",
    "\n",
    "##### [[1, 2, 3, 4]\n",
    "\n",
    "##### [5, 6, 7, 8],\n",
    "\n",
    "##### [9, 10, 11, 12]]"
   ]
  },
  {
   "cell_type": "code",
   "execution_count": 17,
   "id": "d6260b22",
   "metadata": {},
   "outputs": [
    {
     "data": {
      "text/plain": [
       "array([[ 1,  2,  3,  4],\n",
       "       [ 5,  6,  7,  8],\n",
       "       [ 9, 10, 11, 12]])"
      ]
     },
     "execution_count": 17,
     "metadata": {},
     "output_type": "execute_result"
    }
   ],
   "source": [
    "arr"
   ]
  },
  {
   "cell_type": "code",
   "execution_count": 18,
   "id": "b7b29e56",
   "metadata": {},
   "outputs": [
    {
     "data": {
      "text/plain": [
       "2"
      ]
     },
     "execution_count": 18,
     "metadata": {},
     "output_type": "execute_result"
    }
   ],
   "source": [
    "arr.ndim"
   ]
  },
  {
   "cell_type": "markdown",
   "id": "60dd486e",
   "metadata": {},
   "source": [
    "###### Increasing Dimension using reshape function"
   ]
  },
  {
   "cell_type": "code",
   "execution_count": 19,
   "id": "733bd32c",
   "metadata": {},
   "outputs": [],
   "source": [
    "arr_inc_d = arr.reshape(1,3,4)"
   ]
  },
  {
   "cell_type": "code",
   "execution_count": 20,
   "id": "ba0120be",
   "metadata": {},
   "outputs": [
    {
     "data": {
      "text/plain": [
       "array([[[ 1,  2,  3,  4],\n",
       "        [ 5,  6,  7,  8],\n",
       "        [ 9, 10, 11, 12]]])"
      ]
     },
     "execution_count": 20,
     "metadata": {},
     "output_type": "execute_result"
    }
   ],
   "source": [
    "arr_inc_d"
   ]
  },
  {
   "cell_type": "code",
   "execution_count": 21,
   "id": "735702f0",
   "metadata": {},
   "outputs": [
    {
     "data": {
      "text/plain": [
       "3"
      ]
     },
     "execution_count": 21,
     "metadata": {},
     "output_type": "execute_result"
    }
   ],
   "source": [
    "arr_inc_d.ndim"
   ]
  },
  {
   "cell_type": "markdown",
   "id": "05c59941",
   "metadata": {},
   "source": [
    "###### Increasing Dimension using expand_dims function"
   ]
  },
  {
   "cell_type": "code",
   "execution_count": 22,
   "id": "f885251b",
   "metadata": {},
   "outputs": [],
   "source": [
    "arr_expand_row = np.expand_dims(arr, axis = 0)"
   ]
  },
  {
   "cell_type": "code",
   "execution_count": 23,
   "id": "8f200689",
   "metadata": {},
   "outputs": [
    {
     "data": {
      "text/plain": [
       "array([[[ 1,  2,  3,  4],\n",
       "        [ 5,  6,  7,  8],\n",
       "        [ 9, 10, 11, 12]]])"
      ]
     },
     "execution_count": 23,
     "metadata": {},
     "output_type": "execute_result"
    }
   ],
   "source": [
    "arr_expand_row"
   ]
  },
  {
   "cell_type": "code",
   "execution_count": 24,
   "id": "0f451807",
   "metadata": {},
   "outputs": [
    {
     "data": {
      "text/plain": [
       "3"
      ]
     },
     "execution_count": 24,
     "metadata": {},
     "output_type": "execute_result"
    }
   ],
   "source": [
    "arr_expand_row.ndim"
   ]
  },
  {
   "cell_type": "markdown",
   "id": "bfff6a80",
   "metadata": {},
   "source": [
    " "
   ]
  },
  {
   "cell_type": "code",
   "execution_count": 25,
   "id": "6242ac03",
   "metadata": {},
   "outputs": [],
   "source": [
    "arr_expand_col = np.expand_dims(arr, axis = 1)"
   ]
  },
  {
   "cell_type": "code",
   "execution_count": 26,
   "id": "c2051b74",
   "metadata": {},
   "outputs": [
    {
     "data": {
      "text/plain": [
       "array([[[ 1,  2,  3,  4]],\n",
       "\n",
       "       [[ 5,  6,  7,  8]],\n",
       "\n",
       "       [[ 9, 10, 11, 12]]])"
      ]
     },
     "execution_count": 26,
     "metadata": {},
     "output_type": "execute_result"
    }
   ],
   "source": [
    "arr_expand_col"
   ]
  },
  {
   "cell_type": "code",
   "execution_count": 27,
   "id": "0bf327d2",
   "metadata": {},
   "outputs": [
    {
     "data": {
      "text/plain": [
       "3"
      ]
     },
     "execution_count": 27,
     "metadata": {},
     "output_type": "execute_result"
    }
   ],
   "source": [
    "arr_expand_col.ndim"
   ]
  },
  {
   "cell_type": "markdown",
   "id": "153c5879",
   "metadata": {},
   "source": [
    " "
   ]
  },
  {
   "cell_type": "markdown",
   "id": "a4c8327f",
   "metadata": {},
   "source": [
    " "
   ]
  },
  {
   "cell_type": "markdown",
   "id": "37c477d7",
   "metadata": {},
   "source": [
    "#### 10. How to transpose the following array in NumPy?\n",
    "\n",
    "##### [[1, 2, 3, 4]\n",
    "\n",
    "##### [5, 6, 7, 8],\n",
    "\n",
    "##### [9, 10, 11, 12]]"
   ]
  },
  {
   "cell_type": "code",
   "execution_count": 28,
   "id": "0b203010",
   "metadata": {},
   "outputs": [
    {
     "data": {
      "text/plain": [
       "array([[ 1,  2,  3,  4],\n",
       "       [ 5,  6,  7,  8],\n",
       "       [ 9, 10, 11, 12]])"
      ]
     },
     "execution_count": 28,
     "metadata": {},
     "output_type": "execute_result"
    }
   ],
   "source": [
    "arr"
   ]
  },
  {
   "cell_type": "code",
   "execution_count": 29,
   "id": "0b4945e1",
   "metadata": {},
   "outputs": [],
   "source": [
    "arr_transpose = arr.T"
   ]
  },
  {
   "cell_type": "code",
   "execution_count": 30,
   "id": "f564ce98",
   "metadata": {},
   "outputs": [
    {
     "data": {
      "text/plain": [
       "array([[ 1,  5,  9],\n",
       "       [ 2,  6, 10],\n",
       "       [ 3,  7, 11],\n",
       "       [ 4,  8, 12]])"
      ]
     },
     "execution_count": 30,
     "metadata": {},
     "output_type": "execute_result"
    }
   ],
   "source": [
    "arr_transpose"
   ]
  },
  {
   "cell_type": "markdown",
   "id": "097236ed",
   "metadata": {},
   "source": [
    " "
   ]
  },
  {
   "cell_type": "markdown",
   "id": "0d1557a0",
   "metadata": {},
   "source": [
    " "
   ]
  },
  {
   "cell_type": "markdown",
   "id": "928334f4",
   "metadata": {},
   "source": [
    "#### 11. Consider the following matrix:\n",
    "\n",
    "##### Matrix A: [[1, 2, 3, 4],[5, 6, 7, 8],[9, 10, 11, 12]]\n",
    "\n",
    "##### Matrix B: [[1, 2, 3, 4],[5, 6, 7, 8],[9, 10, 11, 12]]\n",
    "\n",
    "\n",
    "##### Perform the following operation using Python:\n",
    "   1. Index wise multiplication\n",
    "   2. Matrix multiplication\n",
    "   3. Add both the matrics\n",
    "   4. Subtract matrix B from A\n",
    "   5. Divide Matrix B by A"
   ]
  },
  {
   "cell_type": "code",
   "execution_count": 31,
   "id": "30a379e3",
   "metadata": {},
   "outputs": [],
   "source": [
    "A = np.array([[1, 2, 3, 4], [5, 6, 7, 8], [9, 10, 11, 12]])\n",
    "B = np.array([[1, 2, 3, 4], [5, 6, 7, 8],[9, 10, 11, 12]])"
   ]
  },
  {
   "cell_type": "code",
   "execution_count": 32,
   "id": "f51afea6",
   "metadata": {},
   "outputs": [
    {
     "data": {
      "text/plain": [
       "array([[ 1,  2,  3,  4],\n",
       "       [ 5,  6,  7,  8],\n",
       "       [ 9, 10, 11, 12]])"
      ]
     },
     "execution_count": 32,
     "metadata": {},
     "output_type": "execute_result"
    }
   ],
   "source": [
    "A"
   ]
  },
  {
   "cell_type": "code",
   "execution_count": 33,
   "id": "57ed1182",
   "metadata": {},
   "outputs": [
    {
     "data": {
      "text/plain": [
       "array([[ 1,  2,  3,  4],\n",
       "       [ 5,  6,  7,  8],\n",
       "       [ 9, 10, 11, 12]])"
      ]
     },
     "execution_count": 33,
     "metadata": {},
     "output_type": "execute_result"
    }
   ],
   "source": [
    "B"
   ]
  },
  {
   "cell_type": "markdown",
   "id": "eab01e96",
   "metadata": {},
   "source": [
    " "
   ]
  },
  {
   "cell_type": "markdown",
   "id": "1eb4c818",
   "metadata": {},
   "source": [
    "###### 1. Index wise multiplication"
   ]
  },
  {
   "cell_type": "code",
   "execution_count": 34,
   "id": "4a5716e3",
   "metadata": {},
   "outputs": [
    {
     "data": {
      "text/plain": [
       "array([[  1,   4,   9,  16],\n",
       "       [ 25,  36,  49,  64],\n",
       "       [ 81, 100, 121, 144]])"
      ]
     },
     "execution_count": 34,
     "metadata": {},
     "output_type": "execute_result"
    }
   ],
   "source": [
    "A * B"
   ]
  },
  {
   "cell_type": "markdown",
   "id": "c8412ef8",
   "metadata": {},
   "source": [
    "###### 2. Matrix multiplication"
   ]
  },
  {
   "cell_type": "code",
   "execution_count": 35,
   "id": "b8d58704",
   "metadata": {},
   "outputs": [
    {
     "ename": "ValueError",
     "evalue": "matmul: Input operand 1 has a mismatch in its core dimension 0, with gufunc signature (n?,k),(k,m?)->(n?,m?) (size 3 is different from 4)",
     "output_type": "error",
     "traceback": [
      "\u001b[1;31m---------------------------------------------------------------------------\u001b[0m",
      "\u001b[1;31mValueError\u001b[0m                                Traceback (most recent call last)",
      "Cell \u001b[1;32mIn[35], line 1\u001b[0m\n\u001b[1;32m----> 1\u001b[0m \u001b[43mA\u001b[49m\u001b[43m \u001b[49m\u001b[38;5;241;43m@\u001b[39;49m\u001b[43m \u001b[49m\u001b[43mB\u001b[49m\n",
      "\u001b[1;31mValueError\u001b[0m: matmul: Input operand 1 has a mismatch in its core dimension 0, with gufunc signature (n?,k),(k,m?)->(n?,m?) (size 3 is different from 4)"
     ]
    }
   ],
   "source": [
    "A @ B"
   ]
  },
  {
   "cell_type": "markdown",
   "id": "0a64dfd5",
   "metadata": {},
   "source": [
    "###### 3. Add both the matrics"
   ]
  },
  {
   "cell_type": "code",
   "execution_count": 36,
   "id": "a3ec0ecb",
   "metadata": {},
   "outputs": [
    {
     "data": {
      "text/plain": [
       "array([[ 2,  4,  6,  8],\n",
       "       [10, 12, 14, 16],\n",
       "       [18, 20, 22, 24]])"
      ]
     },
     "execution_count": 36,
     "metadata": {},
     "output_type": "execute_result"
    }
   ],
   "source": [
    "A + B"
   ]
  },
  {
   "cell_type": "markdown",
   "id": "d24e1349",
   "metadata": {},
   "source": [
    "###### 4. Subtract matrix B from A"
   ]
  },
  {
   "cell_type": "code",
   "execution_count": 37,
   "id": "06819c09",
   "metadata": {},
   "outputs": [
    {
     "data": {
      "text/plain": [
       "array([[0, 0, 0, 0],\n",
       "       [0, 0, 0, 0],\n",
       "       [0, 0, 0, 0]])"
      ]
     },
     "execution_count": 37,
     "metadata": {},
     "output_type": "execute_result"
    }
   ],
   "source": [
    "B - A"
   ]
  },
  {
   "cell_type": "markdown",
   "id": "938348dc",
   "metadata": {},
   "source": [
    "###### 5. Divide Matrix B by A"
   ]
  },
  {
   "cell_type": "code",
   "execution_count": 38,
   "id": "42d61d74",
   "metadata": {},
   "outputs": [
    {
     "data": {
      "text/plain": [
       "array([[1., 1., 1., 1.],\n",
       "       [1., 1., 1., 1.],\n",
       "       [1., 1., 1., 1.]])"
      ]
     },
     "execution_count": 38,
     "metadata": {},
     "output_type": "execute_result"
    }
   ],
   "source": [
    "B / A"
   ]
  },
  {
   "cell_type": "markdown",
   "id": "cea53a83",
   "metadata": {},
   "source": [
    " "
   ]
  },
  {
   "cell_type": "markdown",
   "id": "10407a88",
   "metadata": {},
   "source": [
    " "
   ]
  },
  {
   "cell_type": "markdown",
   "id": "af237b75",
   "metadata": {},
   "source": [
    "#### 12.  Which function in Numpy can be used to swap the byte order of an array?"
   ]
  },
  {
   "cell_type": "markdown",
   "id": "b7a8b275",
   "metadata": {},
   "source": [
    "In NumPy, we can swap the byte order of an array using the byteswap() method.\n",
    "\n",
    "This function is particularly useful when dealing with data that has a different byte order than the native byte order of your system.\n",
    "When we call byteswap() on a NumPy array, it returns a new array with the bytes of each element in the array swapped."
   ]
  },
  {
   "cell_type": "code",
   "execution_count": 39,
   "id": "2829796d",
   "metadata": {},
   "outputs": [],
   "source": [
    "arrs = np.array([1, 2, 3], dtype=np.int16)"
   ]
  },
  {
   "cell_type": "code",
   "execution_count": 40,
   "id": "4e0a983d",
   "metadata": {},
   "outputs": [
    {
     "data": {
      "text/plain": [
       "array([1, 2, 3], dtype=int16)"
      ]
     },
     "execution_count": 40,
     "metadata": {},
     "output_type": "execute_result"
    }
   ],
   "source": [
    "arrs"
   ]
  },
  {
   "cell_type": "code",
   "execution_count": 41,
   "id": "6cbedeff",
   "metadata": {},
   "outputs": [],
   "source": [
    "swapped_arr = arr.byteswap().newbyteorder()"
   ]
  },
  {
   "cell_type": "code",
   "execution_count": 42,
   "id": "7f9650fe",
   "metadata": {},
   "outputs": [
    {
     "data": {
      "text/plain": [
       "array([[ 1,  2,  3,  4],\n",
       "       [ 5,  6,  7,  8],\n",
       "       [ 9, 10, 11, 12]])"
      ]
     },
     "execution_count": 42,
     "metadata": {},
     "output_type": "execute_result"
    }
   ],
   "source": [
    "swapped_arr"
   ]
  },
  {
   "cell_type": "markdown",
   "id": "1cdbcc0c",
   "metadata": {},
   "source": [
    " "
   ]
  },
  {
   "cell_type": "markdown",
   "id": "b97ca6e5",
   "metadata": {},
   "source": [
    " "
   ]
  },
  {
   "cell_type": "markdown",
   "id": "1609f7c6",
   "metadata": {},
   "source": [
    "#### 13.  What is the significance of the np.linalg.inv function?"
   ]
  },
  {
   "cell_type": "markdown",
   "id": "9a76802f",
   "metadata": {},
   "source": [
    "We use numpy.linalg.inv() function to calculate the inverse of a matrix.\n",
    "\n",
    "The inverse of a matrix is such that if it is multiplied by the original matrix, it results in identity matrix."
   ]
  },
  {
   "cell_type": "markdown",
   "id": "3d0a7771",
   "metadata": {},
   "source": [
    "np.linalg.inv  --->  Compute the (multiplicative) inverse of a matrix.\n",
    "\n",
    "\n",
    "Parameters:\n",
    "a : (..., M, M) array_like\n",
    "    Matrix to be inverted.\n",
    "\n",
    "Returns:\n",
    "ainv : (..., M, M) ndarray or matrix\n",
    "    (Multiplicative) inverse of the matrix `a`.\n",
    "\n",
    "Raises:\n",
    "LinAlgError\n",
    "    If `a` is not square or inversion fails.\n",
    "    If `a` is Singular matrix, it fails"
   ]
  },
  {
   "cell_type": "code",
   "execution_count": 43,
   "id": "5e192a32",
   "metadata": {},
   "outputs": [],
   "source": [
    "arr1 = np.array([[1,2,1],[2,1,4],[5,2,1]])"
   ]
  },
  {
   "cell_type": "code",
   "execution_count": 44,
   "id": "a0dc56f2",
   "metadata": {},
   "outputs": [
    {
     "data": {
      "text/plain": [
       "array([[1, 2, 1],\n",
       "       [2, 1, 4],\n",
       "       [5, 2, 1]])"
      ]
     },
     "execution_count": 44,
     "metadata": {},
     "output_type": "execute_result"
    }
   ],
   "source": [
    "arr1"
   ]
  },
  {
   "cell_type": "code",
   "execution_count": 45,
   "id": "52ef33d4",
   "metadata": {},
   "outputs": [
    {
     "data": {
      "text/plain": [
       "array([[-0.25      ,  0.        ,  0.25      ],\n",
       "       [ 0.64285714, -0.14285714, -0.07142857],\n",
       "       [-0.03571429,  0.28571429, -0.10714286]])"
      ]
     },
     "execution_count": 45,
     "metadata": {},
     "output_type": "execute_result"
    }
   ],
   "source": [
    "np.linalg.inv(arr1)"
   ]
  },
  {
   "cell_type": "markdown",
   "id": "b5125019",
   "metadata": {},
   "source": [
    " "
   ]
  },
  {
   "cell_type": "markdown",
   "id": "f252beb6",
   "metadata": {},
   "source": [
    " "
   ]
  },
  {
   "cell_type": "markdown",
   "id": "78a381b1",
   "metadata": {},
   "source": [
    "#### 14. What does the np.reshape function do, and how is it used?"
   ]
  },
  {
   "cell_type": "markdown",
   "id": "d43a3c6f",
   "metadata": {},
   "source": [
    "np.reshape  --->  Gives a new shape to an array without changing its data."
   ]
  },
  {
   "cell_type": "code",
   "execution_count": 46,
   "id": "3ea47344",
   "metadata": {},
   "outputs": [
    {
     "data": {
      "text/plain": [
       "array([[ 1,  2,  3,  4],\n",
       "       [ 5,  6,  7,  8],\n",
       "       [ 9, 10, 11, 12]])"
      ]
     },
     "execution_count": 46,
     "metadata": {},
     "output_type": "execute_result"
    }
   ],
   "source": [
    "arr"
   ]
  },
  {
   "cell_type": "code",
   "execution_count": 47,
   "id": "00190ddb",
   "metadata": {},
   "outputs": [
    {
     "data": {
      "text/plain": [
       "12"
      ]
     },
     "execution_count": 47,
     "metadata": {},
     "output_type": "execute_result"
    }
   ],
   "source": [
    "arr.size"
   ]
  },
  {
   "cell_type": "code",
   "execution_count": 48,
   "id": "b0aabf2f",
   "metadata": {},
   "outputs": [
    {
     "data": {
      "text/plain": [
       "array([[ 1,  2],\n",
       "       [ 3,  4],\n",
       "       [ 5,  6],\n",
       "       [ 7,  8],\n",
       "       [ 9, 10],\n",
       "       [11, 12]])"
      ]
     },
     "execution_count": 48,
     "metadata": {},
     "output_type": "execute_result"
    }
   ],
   "source": [
    "arr.reshape(6,2)"
   ]
  },
  {
   "cell_type": "code",
   "execution_count": 49,
   "id": "579db5e2",
   "metadata": {},
   "outputs": [
    {
     "data": {
      "text/plain": [
       "array([[[ 1,  2],\n",
       "        [ 3,  4],\n",
       "        [ 5,  6]],\n",
       "\n",
       "       [[ 7,  8],\n",
       "        [ 9, 10],\n",
       "        [11, 12]]])"
      ]
     },
     "execution_count": 49,
     "metadata": {},
     "output_type": "execute_result"
    }
   ],
   "source": [
    "arr.reshape(2,3,2)"
   ]
  },
  {
   "cell_type": "markdown",
   "id": "adf84980",
   "metadata": {},
   "source": [
    " "
   ]
  },
  {
   "cell_type": "markdown",
   "id": "f42e4449",
   "metadata": {},
   "source": [
    " "
   ]
  },
  {
   "cell_type": "markdown",
   "id": "22b477de",
   "metadata": {},
   "source": [
    "#### 15. What is broadcasting in Numpy?"
   ]
  },
  {
   "cell_type": "markdown",
   "id": "2e945e82",
   "metadata": {},
   "source": [
    "The term broadcasting refers to how NumPy treats arrays with different dimensions during arithmetic operations which lead to certain constraints, the smaller array is broadcast across the larger array so that they have compatible shapes"
   ]
  },
  {
   "cell_type": "code",
   "execution_count": 50,
   "id": "ba0a23d6",
   "metadata": {},
   "outputs": [
    {
     "data": {
      "text/plain": [
       "array([[ 1,  2,  3,  4],\n",
       "       [ 5,  6,  7,  8],\n",
       "       [ 9, 10, 11, 12]])"
      ]
     },
     "execution_count": 50,
     "metadata": {},
     "output_type": "execute_result"
    }
   ],
   "source": [
    "arr"
   ]
  },
  {
   "cell_type": "code",
   "execution_count": 51,
   "id": "b96a4ea2",
   "metadata": {},
   "outputs": [
    {
     "data": {
      "text/plain": [
       "array([[ 6,  7,  8,  9],\n",
       "       [10, 11, 12, 13],\n",
       "       [14, 15, 16, 17]])"
      ]
     },
     "execution_count": 51,
     "metadata": {},
     "output_type": "execute_result"
    }
   ],
   "source": [
    "arr + 5"
   ]
  },
  {
   "cell_type": "markdown",
   "id": "575a44d7",
   "metadata": {},
   "source": [
    "5 is broadcasted and added to every element"
   ]
  },
  {
   "cell_type": "code",
   "execution_count": 52,
   "id": "23349e1c",
   "metadata": {},
   "outputs": [],
   "source": [
    "a = np.array([1,2,3,4])"
   ]
  },
  {
   "cell_type": "code",
   "execution_count": 53,
   "id": "20766a2b",
   "metadata": {},
   "outputs": [
    {
     "data": {
      "text/plain": [
       "array([1, 2, 3, 4])"
      ]
     },
     "execution_count": 53,
     "metadata": {},
     "output_type": "execute_result"
    }
   ],
   "source": [
    "a"
   ]
  },
  {
   "cell_type": "code",
   "execution_count": 54,
   "id": "576f8ce2",
   "metadata": {},
   "outputs": [
    {
     "data": {
      "text/plain": [
       "array([[ 2,  4,  6,  8],\n",
       "       [ 6,  8, 10, 12],\n",
       "       [10, 12, 14, 16]])"
      ]
     },
     "execution_count": 54,
     "metadata": {},
     "output_type": "execute_result"
    }
   ],
   "source": [
    "arr + a"
   ]
  },
  {
   "cell_type": "markdown",
   "id": "88e5addb",
   "metadata": {},
   "source": [
    "a is broadcasted and added index-wise in rows of arr"
   ]
  }
 ],
 "metadata": {
  "kernelspec": {
   "display_name": "Python 3 (ipykernel)",
   "language": "python",
   "name": "python3"
  },
  "language_info": {
   "codemirror_mode": {
    "name": "ipython",
    "version": 3
   },
   "file_extension": ".py",
   "mimetype": "text/x-python",
   "name": "python",
   "nbconvert_exporter": "python",
   "pygments_lexer": "ipython3",
   "version": "3.11.3"
  }
 },
 "nbformat": 4,
 "nbformat_minor": 5
}
