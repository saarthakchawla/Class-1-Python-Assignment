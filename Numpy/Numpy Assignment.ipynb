{
 "cells": [
  {
   "cell_type": "markdown",
   "id": "bfcf45fd",
   "metadata": {},
   "source": [
    "### Numpy Assignment"
   ]
  },
  {
   "cell_type": "markdown",
   "id": "19692462",
   "metadata": {},
   "source": [
    "#### 1. What is a Python library? Why do we use Python libraries?"
   ]
  },
  {
   "cell_type": "raw",
   "id": "44c8bfad",
   "metadata": {},
   "source": [
    "Python libraries are collections of pre-written code that you can import and use in your programs.\n",
    "\n",
    "They save time and effort, provide access to specialized functionalities, and benefit from community support.\n",
    "Examples include NumPy for numerical computing, Pandas for data analysis, and TensorFlow for machine learning."
   ]
  },
  {
   "cell_type": "markdown",
   "id": "489e93ee",
   "metadata": {},
   "source": [
    " "
   ]
  },
  {
   "cell_type": "markdown",
   "id": "ad99855c",
   "metadata": {},
   "source": [
    " "
   ]
  },
  {
   "cell_type": "markdown",
   "id": "a137e49e",
   "metadata": {},
   "source": [
    "#### 2. What is the difference between Numpy array and List?"
   ]
  },
  {
   "cell_type": "raw",
   "id": "8b8a7c47",
   "metadata": {},
   "source": [
    "                                   ____________________________________________________________________________________________\n",
    "                                  |          Python List                          |              Numpy Array\n",
    "__________________________________|_______________________________________________|____________________________________________\n",
    "1. Data Type Storage              | Hetrogeneous Data                             | Homogeneous Data\n",
    "                                  | Example : l = [1, 2.11, 4+5j, True, \"hi\"]     | Example : arr = np.array([[1,2,3],[4,5,6]])  __________________________________|_______________________________________________|____________________________________________\n",
    "2. Importing Module               | No Module Installation Required               | Numpy Module installation is required                                         |                                               | import numpy as np           \n",
    "__________________________________|_______________________________________________|____________________________________________\n",
    "3. Numerical Operations           | Less efficiency                               | Very Efficient for Mathematical                                               |                                               | Calculations                           \n",
    "__________________________________|_______________________________________________|____________________________________________\n",
    "4. Memory Consumption             | Large Memory Consumption                      | Less Memory Consumption\n",
    "__________________________________|_______________________________________________|____________________________________________\n",
    "5. Performance                    | Slower performance                            | Fast Execution\n",
    "__________________________________|_______________________________________________|____________________________________________\n",
    "6. Conveniency                    | Less Convenient                               | Convenient, used in Image Processing and to                                   |                                               | deal with large data.\n",
    "__________________________________|_______________________________________________|____________________________________________\n"
   ]
  },
  {
   "cell_type": "markdown",
   "id": "9ef44f2d",
   "metadata": {},
   "source": [
    " "
   ]
  },
  {
   "cell_type": "markdown",
   "id": "388bc38f",
   "metadata": {},
   "source": [
    " "
   ]
  },
  {
   "cell_type": "code",
   "execution_count": 1,
   "id": "79d00334",
   "metadata": {},
   "outputs": [],
   "source": [
    "import numpy as np"
   ]
  },
  {
   "cell_type": "markdown",
   "id": "2bb8d25e",
   "metadata": {},
   "source": [
    " "
   ]
  },
  {
   "cell_type": "markdown",
   "id": "05fc9909",
   "metadata": {},
   "source": [
    "#### 3. Find the shape, size and dimension of the following array?\n",
    "\n",
    "##### [[1, 2, 3, 4]\n",
    "##### [5, 6, 7, 8],\n",
    "##### [9, 10, 11, 12]]"
   ]
  },
  {
   "cell_type": "code",
   "execution_count": 2,
   "id": "5c41010f",
   "metadata": {},
   "outputs": [],
   "source": [
    "arr = np.asarray([[1,2,3,4],[5,6,7,8],[9,10,11,12]])"
   ]
  },
  {
   "cell_type": "code",
   "execution_count": 3,
   "id": "a7f754dd",
   "metadata": {},
   "outputs": [
    {
     "data": {
      "text/plain": [
       "array([[ 1,  2,  3,  4],\n",
       "       [ 5,  6,  7,  8],\n",
       "       [ 9, 10, 11, 12]])"
      ]
     },
     "execution_count": 3,
     "metadata": {},
     "output_type": "execute_result"
    }
   ],
   "source": [
    "arr"
   ]
  },
  {
   "cell_type": "code",
   "execution_count": 4,
   "id": "2ac18d56",
   "metadata": {},
   "outputs": [
    {
     "data": {
      "text/plain": [
       "(3, 4)"
      ]
     },
     "execution_count": 4,
     "metadata": {},
     "output_type": "execute_result"
    }
   ],
   "source": [
    "arr.shape"
   ]
  },
  {
   "cell_type": "code",
   "execution_count": 5,
   "id": "9b114f78",
   "metadata": {},
   "outputs": [
    {
     "data": {
      "text/plain": [
       "12"
      ]
     },
     "execution_count": 5,
     "metadata": {},
     "output_type": "execute_result"
    }
   ],
   "source": [
    "arr.size"
   ]
  },
  {
   "cell_type": "code",
   "execution_count": 6,
   "id": "b4ac9a8c",
   "metadata": {},
   "outputs": [
    {
     "data": {
      "text/plain": [
       "2"
      ]
     },
     "execution_count": 6,
     "metadata": {},
     "output_type": "execute_result"
    }
   ],
   "source": [
    "arr.ndim"
   ]
  },
  {
   "cell_type": "markdown",
   "id": "c3028bd0",
   "metadata": {},
   "source": [
    " "
   ]
  },
  {
   "cell_type": "markdown",
   "id": "a69eda94",
   "metadata": {},
   "source": [
    " "
   ]
  },
  {
   "cell_type": "markdown",
   "id": "91955751",
   "metadata": {},
   "source": [
    "#### 4. Write python code to access the first row of the following array?\n",
    "\n",
    "##### [[1, 2, 3, 4]\n",
    "\n",
    "##### [5, 6, 7, 8],\n",
    "\n",
    "##### [9, 10, 11, 12]]"
   ]
  },
  {
   "cell_type": "code",
   "execution_count": 7,
   "id": "bdfc06a9",
   "metadata": {},
   "outputs": [
    {
     "data": {
      "text/plain": [
       "array([[ 1,  2,  3,  4],\n",
       "       [ 5,  6,  7,  8],\n",
       "       [ 9, 10, 11, 12]])"
      ]
     },
     "execution_count": 7,
     "metadata": {},
     "output_type": "execute_result"
    }
   ],
   "source": [
    "arr"
   ]
  },
  {
   "cell_type": "code",
   "execution_count": 8,
   "id": "dc9352a1",
   "metadata": {},
   "outputs": [
    {
     "data": {
      "text/plain": [
       "array([1, 2, 3, 4])"
      ]
     },
     "execution_count": 8,
     "metadata": {},
     "output_type": "execute_result"
    }
   ],
   "source": [
    "arr[0]"
   ]
  },
  {
   "cell_type": "markdown",
   "id": "df35ff7d",
   "metadata": {},
   "source": [
    " "
   ]
  },
  {
   "cell_type": "markdown",
   "id": "c2ee682d",
   "metadata": {},
   "source": [
    " "
   ]
  },
  {
   "cell_type": "markdown",
   "id": "75d1641b",
   "metadata": {},
   "source": [
    "#### 5. How do you access the element at the third row and fourth column from the given numpy array?\n",
    "\n",
    "##### [[1, 2, 3, 4]\n",
    "\n",
    "##### [5, 6, 7, 8],\n",
    "\n",
    "##### [9, 10, 11, 12]]"
   ]
  },
  {
   "cell_type": "code",
   "execution_count": 9,
   "id": "a3aab6ac",
   "metadata": {},
   "outputs": [
    {
     "data": {
      "text/plain": [
       "array([[ 1,  2,  3,  4],\n",
       "       [ 5,  6,  7,  8],\n",
       "       [ 9, 10, 11, 12]])"
      ]
     },
     "execution_count": 9,
     "metadata": {},
     "output_type": "execute_result"
    }
   ],
   "source": [
    "arr"
   ]
  },
  {
   "cell_type": "code",
   "execution_count": 10,
   "id": "1e55322b",
   "metadata": {},
   "outputs": [
    {
     "data": {
      "text/plain": [
       "12"
      ]
     },
     "execution_count": 10,
     "metadata": {},
     "output_type": "execute_result"
    }
   ],
   "source": [
    "arr[(2),(3)]"
   ]
  },
  {
   "cell_type": "markdown",
   "id": "5dd55edd",
   "metadata": {},
   "source": [
    " "
   ]
  },
  {
   "cell_type": "markdown",
   "id": "a287cf42",
   "metadata": {},
   "source": [
    " "
   ]
  },
  {
   "cell_type": "markdown",
   "id": "a9ce3f64",
   "metadata": {},
   "source": [
    "#### 6. Write code to extract all odd-indexed elements from the given numpy array?\n",
    "\n",
    "##### [[1, 2, 3, 4]\n",
    "\n",
    "##### [5, 6, 7, 8],\n",
    "\n",
    "##### [9, 10, 11, 12]]"
   ]
  },
  {
   "cell_type": "code",
   "execution_count": 11,
   "id": "67aeb7cc",
   "metadata": {},
   "outputs": [
    {
     "data": {
      "text/plain": [
       "array([[ 1,  2,  3,  4],\n",
       "       [ 5,  6,  7,  8],\n",
       "       [ 9, 10, 11, 12]])"
      ]
     },
     "execution_count": 11,
     "metadata": {},
     "output_type": "execute_result"
    }
   ],
   "source": [
    "arr"
   ]
  },
  {
   "cell_type": "code",
   "execution_count": 12,
   "id": "dace862f",
   "metadata": {},
   "outputs": [
    {
     "name": "stdout",
     "output_type": "stream",
     "text": [
      "List of all odd-indexed element is: [1, 3, 9, 11]\n"
     ]
    }
   ],
   "source": [
    "l = []\n",
    "\n",
    "for i in range(0,3):\n",
    "    for j in range(0,4):\n",
    "        if i%2==0 and j%2==0:\n",
    "            a = arr[(i),(j)]\n",
    "            l.append(a)\n",
    "print(f\"List of all odd-indexed element is: {l}\")"
   ]
  },
  {
   "cell_type": "markdown",
   "id": "68cd4385",
   "metadata": {},
   "source": [
    " "
   ]
  },
  {
   "cell_type": "markdown",
   "id": "ab015b20",
   "metadata": {},
   "source": [
    " "
   ]
  },
  {
   "cell_type": "markdown",
   "id": "0862ca0e",
   "metadata": {},
   "source": [
    "#### 7. How can you generate a random 3x3 matrix with values between 0 and 1?"
   ]
  },
  {
   "cell_type": "code",
   "execution_count": 13,
   "id": "3dca55a1",
   "metadata": {},
   "outputs": [],
   "source": [
    "random = np.random.rand(3,3)"
   ]
  },
  {
   "cell_type": "code",
   "execution_count": 14,
   "id": "678b36ab",
   "metadata": {},
   "outputs": [
    {
     "data": {
      "text/plain": [
       "array([[0.47234763, 0.64482472, 0.02492967],\n",
       "       [0.29040708, 0.82094835, 0.99709519],\n",
       "       [0.16306191, 0.65861368, 0.5001936 ]])"
      ]
     },
     "execution_count": 14,
     "metadata": {},
     "output_type": "execute_result"
    }
   ],
   "source": [
    "random"
   ]
  },
  {
   "cell_type": "raw",
   "id": "295168d9",
   "metadata": {},
   "source": [
    "np.random.rand  --->  Create an array of the given shape and populate it with random samples from a uniform distribution over                          ``[0, 1)``."
   ]
  },
  {
   "cell_type": "markdown",
   "id": "518af6d4",
   "metadata": {},
   "source": [
    " "
   ]
  },
  {
   "cell_type": "markdown",
   "id": "4dbdf7ad",
   "metadata": {},
   "source": [
    " "
   ]
  },
  {
   "cell_type": "markdown",
   "id": "b2dbb422",
   "metadata": {},
   "source": [
    "#### 8. Describe the difference between np.random.rand and np.random.randn?"
   ]
  },
  {
   "cell_type": "raw",
   "id": "98b5f604",
   "metadata": {},
   "source": [
    "np.random.rand  --->  Create an array of the given shape and populate it with random samples from a uniform distribution over                          ``[0, 1)``."
   ]
  },
  {
   "cell_type": "code",
   "execution_count": 15,
   "id": "05de6e28",
   "metadata": {},
   "outputs": [
    {
     "data": {
      "text/plain": [
       "array([[0.40426644, 0.36183827, 0.69599125],\n",
       "       [0.09396581, 0.38680634, 0.16422535],\n",
       "       [0.4650458 , 0.88006944, 0.6775557 ]])"
      ]
     },
     "execution_count": 15,
     "metadata": {},
     "output_type": "execute_result"
    }
   ],
   "source": [
    "np.random.rand(3,3)"
   ]
  },
  {
   "cell_type": "raw",
   "id": "cb0910a1",
   "metadata": {},
   "source": [
    "np.random.randn  --->  Return a sample (or samples) from the \"standard normal\" distribution."
   ]
  },
  {
   "cell_type": "code",
   "execution_count": 16,
   "id": "dc3a6af0",
   "metadata": {},
   "outputs": [
    {
     "data": {
      "text/plain": [
       "array([[ 0.69961355, -0.36904919,  2.4276592 ],\n",
       "       [-0.38779457,  1.92497183, -2.39848861],\n",
       "       [ 0.89415685,  0.583148  ,  0.70530514]])"
      ]
     },
     "execution_count": 16,
     "metadata": {},
     "output_type": "execute_result"
    }
   ],
   "source": [
    "np.random.randn(3,3)"
   ]
  },
  {
   "cell_type": "markdown",
   "id": "084be88b",
   "metadata": {},
   "source": [
    " "
   ]
  },
  {
   "cell_type": "markdown",
   "id": "0ba69f99",
   "metadata": {},
   "source": [
    " "
   ]
  },
  {
   "cell_type": "markdown",
   "id": "19e6645a",
   "metadata": {},
   "source": [
    "#### 9. Write code to increase the dimension of the following array?\n",
    "\n",
    "##### [[1, 2, 3, 4]\n",
    "\n",
    "##### [5, 6, 7, 8],\n",
    "\n",
    "##### [9, 10, 11, 12]]"
   ]
  },
  {
   "cell_type": "code",
   "execution_count": 17,
   "id": "75c85062",
   "metadata": {},
   "outputs": [
    {
     "data": {
      "text/plain": [
       "array([[ 1,  2,  3,  4],\n",
       "       [ 5,  6,  7,  8],\n",
       "       [ 9, 10, 11, 12]])"
      ]
     },
     "execution_count": 17,
     "metadata": {},
     "output_type": "execute_result"
    }
   ],
   "source": [
    "arr"
   ]
  },
  {
   "cell_type": "code",
   "execution_count": 18,
   "id": "2358f661",
   "metadata": {},
   "outputs": [
    {
     "data": {
      "text/plain": [
       "2"
      ]
     },
     "execution_count": 18,
     "metadata": {},
     "output_type": "execute_result"
    }
   ],
   "source": [
    "arr.ndim"
   ]
  },
  {
   "cell_type": "markdown",
   "id": "3085c322",
   "metadata": {},
   "source": [
    "###### Increasing Dimension using reshape function"
   ]
  },
  {
   "cell_type": "code",
   "execution_count": 19,
   "id": "b8c5f6bd",
   "metadata": {},
   "outputs": [],
   "source": [
    "arr_inc_d = arr.reshape(1,3,4)"
   ]
  },
  {
   "cell_type": "code",
   "execution_count": 20,
   "id": "e87c9bcf",
   "metadata": {},
   "outputs": [
    {
     "data": {
      "text/plain": [
       "array([[[ 1,  2,  3,  4],\n",
       "        [ 5,  6,  7,  8],\n",
       "        [ 9, 10, 11, 12]]])"
      ]
     },
     "execution_count": 20,
     "metadata": {},
     "output_type": "execute_result"
    }
   ],
   "source": [
    "arr_inc_d"
   ]
  },
  {
   "cell_type": "code",
   "execution_count": 21,
   "id": "5c5f3464",
   "metadata": {},
   "outputs": [
    {
     "data": {
      "text/plain": [
       "3"
      ]
     },
     "execution_count": 21,
     "metadata": {},
     "output_type": "execute_result"
    }
   ],
   "source": [
    "arr_inc_d.ndim"
   ]
  },
  {
   "cell_type": "markdown",
   "id": "4ae7ac9f",
   "metadata": {},
   "source": [
    "###### Increasing Dimension using expand_dims function"
   ]
  },
  {
   "cell_type": "code",
   "execution_count": 22,
   "id": "6744a7b3",
   "metadata": {},
   "outputs": [],
   "source": [
    "arr_expand_row = np.expand_dims(arr, axis = 0)"
   ]
  },
  {
   "cell_type": "code",
   "execution_count": 23,
   "id": "5102fdf2",
   "metadata": {},
   "outputs": [
    {
     "data": {
      "text/plain": [
       "array([[[ 1,  2,  3,  4],\n",
       "        [ 5,  6,  7,  8],\n",
       "        [ 9, 10, 11, 12]]])"
      ]
     },
     "execution_count": 23,
     "metadata": {},
     "output_type": "execute_result"
    }
   ],
   "source": [
    "arr_expand_row"
   ]
  },
  {
   "cell_type": "code",
   "execution_count": 24,
   "id": "7b860413",
   "metadata": {},
   "outputs": [
    {
     "data": {
      "text/plain": [
       "3"
      ]
     },
     "execution_count": 24,
     "metadata": {},
     "output_type": "execute_result"
    }
   ],
   "source": [
    "arr_expand_row.ndim"
   ]
  },
  {
   "cell_type": "markdown",
   "id": "2c86bebf",
   "metadata": {},
   "source": [
    " "
   ]
  },
  {
   "cell_type": "code",
   "execution_count": 25,
   "id": "95605cf2",
   "metadata": {},
   "outputs": [],
   "source": [
    "arr_expand_col = np.expand_dims(arr, axis = 1)"
   ]
  },
  {
   "cell_type": "code",
   "execution_count": 26,
   "id": "4c28d6bf",
   "metadata": {},
   "outputs": [
    {
     "data": {
      "text/plain": [
       "array([[[ 1,  2,  3,  4]],\n",
       "\n",
       "       [[ 5,  6,  7,  8]],\n",
       "\n",
       "       [[ 9, 10, 11, 12]]])"
      ]
     },
     "execution_count": 26,
     "metadata": {},
     "output_type": "execute_result"
    }
   ],
   "source": [
    "arr_expand_col"
   ]
  },
  {
   "cell_type": "code",
   "execution_count": 27,
   "id": "b046b65f",
   "metadata": {},
   "outputs": [
    {
     "data": {
      "text/plain": [
       "3"
      ]
     },
     "execution_count": 27,
     "metadata": {},
     "output_type": "execute_result"
    }
   ],
   "source": [
    "arr_expand_col.ndim"
   ]
  },
  {
   "cell_type": "markdown",
   "id": "241515fd",
   "metadata": {},
   "source": [
    " "
   ]
  },
  {
   "cell_type": "markdown",
   "id": "57dde005",
   "metadata": {},
   "source": [
    " "
   ]
  },
  {
   "cell_type": "markdown",
   "id": "416d7bd1",
   "metadata": {},
   "source": [
    "#### 10. How to transpose the following array in NumPy?\n",
    "\n",
    "##### [[1, 2, 3, 4]\n",
    "\n",
    "##### [5, 6, 7, 8],\n",
    "\n",
    "##### [9, 10, 11, 12]]"
   ]
  },
  {
   "cell_type": "code",
   "execution_count": 28,
   "id": "ad93ad42",
   "metadata": {},
   "outputs": [
    {
     "data": {
      "text/plain": [
       "array([[ 1,  2,  3,  4],\n",
       "       [ 5,  6,  7,  8],\n",
       "       [ 9, 10, 11, 12]])"
      ]
     },
     "execution_count": 28,
     "metadata": {},
     "output_type": "execute_result"
    }
   ],
   "source": [
    "arr"
   ]
  },
  {
   "cell_type": "code",
   "execution_count": 29,
   "id": "7b2dcac7",
   "metadata": {},
   "outputs": [],
   "source": [
    "arr_transpose = arr.T"
   ]
  },
  {
   "cell_type": "code",
   "execution_count": 30,
   "id": "31c18d38",
   "metadata": {},
   "outputs": [
    {
     "data": {
      "text/plain": [
       "array([[ 1,  5,  9],\n",
       "       [ 2,  6, 10],\n",
       "       [ 3,  7, 11],\n",
       "       [ 4,  8, 12]])"
      ]
     },
     "execution_count": 30,
     "metadata": {},
     "output_type": "execute_result"
    }
   ],
   "source": [
    "arr_transpose"
   ]
  },
  {
   "cell_type": "markdown",
   "id": "8a01280e",
   "metadata": {},
   "source": [
    " "
   ]
  },
  {
   "cell_type": "markdown",
   "id": "c001f7d0",
   "metadata": {},
   "source": [
    " "
   ]
  },
  {
   "cell_type": "markdown",
   "id": "a6195603",
   "metadata": {},
   "source": [
    "#### 11. Consider the following matrix:\n",
    "\n",
    "##### Matrix A: [[1, 2, 3, 4],[5, 6, 7, 8],[9, 10, 11, 12]]\n",
    "\n",
    "##### Matrix B: [[1, 2, 3, 4],[5, 6, 7, 8],[9, 10, 11, 12]]\n",
    "\n",
    "\n",
    "##### Perform the following operation using Python:\n",
    "   1. Index wise multiplication\n",
    "   2. Matrix multiplication\n",
    "   3. Add both the matrics\n",
    "   4. Subtract matrix B from A\n",
    "   5. Divide Matrix B by A"
   ]
  },
  {
   "cell_type": "code",
   "execution_count": 31,
   "id": "35325859",
   "metadata": {},
   "outputs": [],
   "source": [
    "A = np.array([[1, 2, 3, 4], [5, 6, 7, 8], [9, 10, 11, 12]])\n",
    "B = np.array([[1, 2, 3, 4], [5, 6, 7, 8],[9, 10, 11, 12]])"
   ]
  },
  {
   "cell_type": "code",
   "execution_count": 32,
   "id": "5d383210",
   "metadata": {},
   "outputs": [
    {
     "data": {
      "text/plain": [
       "array([[ 1,  2,  3,  4],\n",
       "       [ 5,  6,  7,  8],\n",
       "       [ 9, 10, 11, 12]])"
      ]
     },
     "execution_count": 32,
     "metadata": {},
     "output_type": "execute_result"
    }
   ],
   "source": [
    "A"
   ]
  },
  {
   "cell_type": "code",
   "execution_count": 33,
   "id": "27ade006",
   "metadata": {},
   "outputs": [
    {
     "data": {
      "text/plain": [
       "array([[ 1,  2,  3,  4],\n",
       "       [ 5,  6,  7,  8],\n",
       "       [ 9, 10, 11, 12]])"
      ]
     },
     "execution_count": 33,
     "metadata": {},
     "output_type": "execute_result"
    }
   ],
   "source": [
    "B"
   ]
  },
  {
   "cell_type": "markdown",
   "id": "11f82214",
   "metadata": {},
   "source": [
    " "
   ]
  },
  {
   "cell_type": "markdown",
   "id": "cc9d1bdc",
   "metadata": {},
   "source": [
    "###### 1. Index wise multiplication"
   ]
  },
  {
   "cell_type": "code",
   "execution_count": 34,
   "id": "041b6f94",
   "metadata": {},
   "outputs": [
    {
     "data": {
      "text/plain": [
       "array([[  1,   4,   9,  16],\n",
       "       [ 25,  36,  49,  64],\n",
       "       [ 81, 100, 121, 144]])"
      ]
     },
     "execution_count": 34,
     "metadata": {},
     "output_type": "execute_result"
    }
   ],
   "source": [
    "A * B"
   ]
  },
  {
   "cell_type": "markdown",
   "id": "6d641167",
   "metadata": {},
   "source": [
    "###### 2. Matrix multiplication"
   ]
  },
  {
   "cell_type": "code",
   "execution_count": 35,
   "id": "55870eab",
   "metadata": {},
   "outputs": [
    {
     "ename": "ValueError",
     "evalue": "matmul: Input operand 1 has a mismatch in its core dimension 0, with gufunc signature (n?,k),(k,m?)->(n?,m?) (size 3 is different from 4)",
     "output_type": "error",
     "traceback": [
      "\u001b[1;31m---------------------------------------------------------------------------\u001b[0m",
      "\u001b[1;31mValueError\u001b[0m                                Traceback (most recent call last)",
      "Cell \u001b[1;32mIn[35], line 1\u001b[0m\n\u001b[1;32m----> 1\u001b[0m \u001b[43mA\u001b[49m\u001b[43m \u001b[49m\u001b[38;5;241;43m@\u001b[39;49m\u001b[43m \u001b[49m\u001b[43mB\u001b[49m\n",
      "\u001b[1;31mValueError\u001b[0m: matmul: Input operand 1 has a mismatch in its core dimension 0, with gufunc signature (n?,k),(k,m?)->(n?,m?) (size 3 is different from 4)"
     ]
    }
   ],
   "source": [
    "A @ B"
   ]
  },
  {
   "cell_type": "markdown",
   "id": "f5266657",
   "metadata": {},
   "source": [
    "###### 3. Add both the matrics"
   ]
  },
  {
   "cell_type": "code",
   "execution_count": 36,
   "id": "840862af",
   "metadata": {},
   "outputs": [
    {
     "data": {
      "text/plain": [
       "array([[ 2,  4,  6,  8],\n",
       "       [10, 12, 14, 16],\n",
       "       [18, 20, 22, 24]])"
      ]
     },
     "execution_count": 36,
     "metadata": {},
     "output_type": "execute_result"
    }
   ],
   "source": [
    "A + B"
   ]
  },
  {
   "cell_type": "markdown",
   "id": "a46db02c",
   "metadata": {},
   "source": [
    "###### 4. Subtract matrix B from A"
   ]
  },
  {
   "cell_type": "code",
   "execution_count": 37,
   "id": "df266f84",
   "metadata": {},
   "outputs": [
    {
     "data": {
      "text/plain": [
       "array([[0, 0, 0, 0],\n",
       "       [0, 0, 0, 0],\n",
       "       [0, 0, 0, 0]])"
      ]
     },
     "execution_count": 37,
     "metadata": {},
     "output_type": "execute_result"
    }
   ],
   "source": [
    "B - A"
   ]
  },
  {
   "cell_type": "markdown",
   "id": "9fd09f95",
   "metadata": {},
   "source": [
    "###### 5. Divide Matrix B by A"
   ]
  },
  {
   "cell_type": "code",
   "execution_count": 38,
   "id": "6bc8a8cf",
   "metadata": {},
   "outputs": [
    {
     "data": {
      "text/plain": [
       "array([[1., 1., 1., 1.],\n",
       "       [1., 1., 1., 1.],\n",
       "       [1., 1., 1., 1.]])"
      ]
     },
     "execution_count": 38,
     "metadata": {},
     "output_type": "execute_result"
    }
   ],
   "source": [
    "B / A"
   ]
  },
  {
   "cell_type": "markdown",
   "id": "45fe9c06",
   "metadata": {},
   "source": [
    " "
   ]
  },
  {
   "cell_type": "markdown",
   "id": "1b83c636",
   "metadata": {},
   "source": [
    " "
   ]
  },
  {
   "cell_type": "markdown",
   "id": "3a628b84",
   "metadata": {},
   "source": [
    "#### 12.  Which function in Numpy can be used to swap the byte order of an array?"
   ]
  },
  {
   "cell_type": "raw",
   "id": "4bd2e58d",
   "metadata": {},
   "source": [
    "In NumPy, we can swap the byte order of an array using the byteswap() method.\n",
    "\n",
    "This function is particularly useful when dealing with data that has a different byte order than the native byte order of your system.\n",
    "When we call byteswap() on a NumPy array, it returns a new array with the bytes of each element in the array swapped."
   ]
  },
  {
   "cell_type": "code",
   "execution_count": 39,
   "id": "e0821271",
   "metadata": {},
   "outputs": [],
   "source": [
    "arrs = np.array([1, 2, 3], dtype=np.int16)"
   ]
  },
  {
   "cell_type": "code",
   "execution_count": 40,
   "id": "76bd7513",
   "metadata": {},
   "outputs": [
    {
     "data": {
      "text/plain": [
       "array([1, 2, 3], dtype=int16)"
      ]
     },
     "execution_count": 40,
     "metadata": {},
     "output_type": "execute_result"
    }
   ],
   "source": [
    "arrs"
   ]
  },
  {
   "cell_type": "code",
   "execution_count": 41,
   "id": "63189472",
   "metadata": {},
   "outputs": [],
   "source": [
    "swapped_arr = arr.byteswap().newbyteorder()"
   ]
  },
  {
   "cell_type": "code",
   "execution_count": 42,
   "id": "3cb00eae",
   "metadata": {},
   "outputs": [
    {
     "data": {
      "text/plain": [
       "array([[ 1,  2,  3,  4],\n",
       "       [ 5,  6,  7,  8],\n",
       "       [ 9, 10, 11, 12]])"
      ]
     },
     "execution_count": 42,
     "metadata": {},
     "output_type": "execute_result"
    }
   ],
   "source": [
    "swapped_arr"
   ]
  },
  {
   "cell_type": "markdown",
   "id": "fdf918d6",
   "metadata": {},
   "source": [
    " "
   ]
  },
  {
   "cell_type": "markdown",
   "id": "15e4ac54",
   "metadata": {},
   "source": [
    " "
   ]
  },
  {
   "cell_type": "markdown",
   "id": "d202a218",
   "metadata": {},
   "source": [
    "#### 13.  What is the significance of the np.linalg.inv function?"
   ]
  },
  {
   "cell_type": "raw",
   "id": "9ec2b766",
   "metadata": {},
   "source": [
    "We use numpy.linalg.inv() function to calculate the inverse of a matrix.\n",
    "\n",
    "The inverse of a matrix is such that if it is multiplied by the original matrix, it results in identity matrix."
   ]
  },
  {
   "cell_type": "raw",
   "id": "fd2979e7",
   "metadata": {},
   "source": [
    "np.linalg.inv  --->  Compute the (multiplicative) inverse of a matrix.\n",
    "\n",
    "\n",
    "Parameters\n",
    "----------\n",
    "a : (..., M, M) array_like\n",
    "    Matrix to be inverted.\n",
    "\n",
    "Returns\n",
    "-------\n",
    "ainv : (..., M, M) ndarray or matrix\n",
    "    (Multiplicative) inverse of the matrix `a`.\n",
    "\n",
    "Raises\n",
    "------\n",
    "LinAlgError\n",
    "    If `a` is not square or inversion fails.\n",
    "    If `a` is Singular matrix, it fails"
   ]
  },
  {
   "cell_type": "code",
   "execution_count": 43,
   "id": "4adc90f1",
   "metadata": {},
   "outputs": [],
   "source": [
    "arr1 = np.array([[1,2,1],[2,1,4],[5,2,1]])"
   ]
  },
  {
   "cell_type": "code",
   "execution_count": 44,
   "id": "85e0ffbb",
   "metadata": {},
   "outputs": [
    {
     "data": {
      "text/plain": [
       "array([[1, 2, 1],\n",
       "       [2, 1, 4],\n",
       "       [5, 2, 1]])"
      ]
     },
     "execution_count": 44,
     "metadata": {},
     "output_type": "execute_result"
    }
   ],
   "source": [
    "arr1"
   ]
  },
  {
   "cell_type": "code",
   "execution_count": 45,
   "id": "4ddea8e4",
   "metadata": {},
   "outputs": [
    {
     "data": {
      "text/plain": [
       "array([[-0.25      ,  0.        ,  0.25      ],\n",
       "       [ 0.64285714, -0.14285714, -0.07142857],\n",
       "       [-0.03571429,  0.28571429, -0.10714286]])"
      ]
     },
     "execution_count": 45,
     "metadata": {},
     "output_type": "execute_result"
    }
   ],
   "source": [
    "np.linalg.inv(arr1)"
   ]
  },
  {
   "cell_type": "markdown",
   "id": "3d4fd90b",
   "metadata": {},
   "source": [
    " "
   ]
  },
  {
   "cell_type": "markdown",
   "id": "4ff2f7b9",
   "metadata": {},
   "source": [
    " "
   ]
  },
  {
   "cell_type": "markdown",
   "id": "f51bb23b",
   "metadata": {},
   "source": [
    "#### 14. What does the np.reshape function do, and how is it used?"
   ]
  },
  {
   "cell_type": "raw",
   "id": "c8db4fb9",
   "metadata": {},
   "source": [
    "np.reshape  --->  Gives a new shape to an array without changing its data."
   ]
  },
  {
   "cell_type": "code",
   "execution_count": 46,
   "id": "f5d1560d",
   "metadata": {},
   "outputs": [
    {
     "data": {
      "text/plain": [
       "array([[ 1,  2,  3,  4],\n",
       "       [ 5,  6,  7,  8],\n",
       "       [ 9, 10, 11, 12]])"
      ]
     },
     "execution_count": 46,
     "metadata": {},
     "output_type": "execute_result"
    }
   ],
   "source": [
    "arr"
   ]
  },
  {
   "cell_type": "code",
   "execution_count": 47,
   "id": "1d022176",
   "metadata": {},
   "outputs": [
    {
     "data": {
      "text/plain": [
       "12"
      ]
     },
     "execution_count": 47,
     "metadata": {},
     "output_type": "execute_result"
    }
   ],
   "source": [
    "arr.size"
   ]
  },
  {
   "cell_type": "code",
   "execution_count": 48,
   "id": "ada4771d",
   "metadata": {},
   "outputs": [
    {
     "data": {
      "text/plain": [
       "array([[ 1,  2],\n",
       "       [ 3,  4],\n",
       "       [ 5,  6],\n",
       "       [ 7,  8],\n",
       "       [ 9, 10],\n",
       "       [11, 12]])"
      ]
     },
     "execution_count": 48,
     "metadata": {},
     "output_type": "execute_result"
    }
   ],
   "source": [
    "arr.reshape(6,2)"
   ]
  },
  {
   "cell_type": "code",
   "execution_count": 49,
   "id": "bb6eb731",
   "metadata": {},
   "outputs": [
    {
     "data": {
      "text/plain": [
       "array([[[ 1,  2],\n",
       "        [ 3,  4],\n",
       "        [ 5,  6]],\n",
       "\n",
       "       [[ 7,  8],\n",
       "        [ 9, 10],\n",
       "        [11, 12]]])"
      ]
     },
     "execution_count": 49,
     "metadata": {},
     "output_type": "execute_result"
    }
   ],
   "source": [
    "arr.reshape(2,3,2)"
   ]
  },
  {
   "cell_type": "markdown",
   "id": "dddc116d",
   "metadata": {},
   "source": [
    " "
   ]
  },
  {
   "cell_type": "markdown",
   "id": "ae50851b",
   "metadata": {},
   "source": [
    " "
   ]
  },
  {
   "cell_type": "markdown",
   "id": "2cc10467",
   "metadata": {},
   "source": [
    "#### 15. What is broadcasting in Numpy?"
   ]
  },
  {
   "cell_type": "markdown",
   "id": "2fd7e805",
   "metadata": {},
   "source": [
    "The term broadcasting refers to how NumPy treats arrays with different dimensions during arithmetic operations which lead to certain constraints, the smaller array is broadcast across the larger array so that they have compatible shapes"
   ]
  },
  {
   "cell_type": "code",
   "execution_count": 50,
   "id": "fa8e127b",
   "metadata": {},
   "outputs": [
    {
     "data": {
      "text/plain": [
       "array([[ 1,  2,  3,  4],\n",
       "       [ 5,  6,  7,  8],\n",
       "       [ 9, 10, 11, 12]])"
      ]
     },
     "execution_count": 50,
     "metadata": {},
     "output_type": "execute_result"
    }
   ],
   "source": [
    "arr"
   ]
  },
  {
   "cell_type": "code",
   "execution_count": 51,
   "id": "cbb2ccdd",
   "metadata": {},
   "outputs": [
    {
     "data": {
      "text/plain": [
       "array([[ 6,  7,  8,  9],\n",
       "       [10, 11, 12, 13],\n",
       "       [14, 15, 16, 17]])"
      ]
     },
     "execution_count": 51,
     "metadata": {},
     "output_type": "execute_result"
    }
   ],
   "source": [
    "arr + 5"
   ]
  },
  {
   "cell_type": "markdown",
   "id": "1cc71d95",
   "metadata": {},
   "source": [
    "5 is broadcasted and added to every element"
   ]
  },
  {
   "cell_type": "code",
   "execution_count": 52,
   "id": "462d931a",
   "metadata": {},
   "outputs": [],
   "source": [
    "a = np.array([1,2,3,4])"
   ]
  },
  {
   "cell_type": "code",
   "execution_count": 53,
   "id": "4b73bf89",
   "metadata": {},
   "outputs": [
    {
     "data": {
      "text/plain": [
       "array([1, 2, 3, 4])"
      ]
     },
     "execution_count": 53,
     "metadata": {},
     "output_type": "execute_result"
    }
   ],
   "source": [
    "a"
   ]
  },
  {
   "cell_type": "code",
   "execution_count": 54,
   "id": "713d3b9f",
   "metadata": {},
   "outputs": [
    {
     "data": {
      "text/plain": [
       "array([[ 2,  4,  6,  8],\n",
       "       [ 6,  8, 10, 12],\n",
       "       [10, 12, 14, 16]])"
      ]
     },
     "execution_count": 54,
     "metadata": {},
     "output_type": "execute_result"
    }
   ],
   "source": [
    "arr + a"
   ]
  },
  {
   "cell_type": "markdown",
   "id": "77d5d185",
   "metadata": {},
   "source": [
    "a is broadcasted and added index-wise in rows of arr"
   ]
  }
 ],
 "metadata": {
  "kernelspec": {
   "display_name": "Python 3 (ipykernel)",
   "language": "python",
   "name": "python3"
  },
  "language_info": {
   "codemirror_mode": {
    "name": "ipython",
    "version": 3
   },
   "file_extension": ".py",
   "mimetype": "text/x-python",
   "name": "python",
   "nbconvert_exporter": "python",
   "pygments_lexer": "ipython3",
   "version": "3.11.3"
  }
 },
 "nbformat": 4,
 "nbformat_minor": 5
}
